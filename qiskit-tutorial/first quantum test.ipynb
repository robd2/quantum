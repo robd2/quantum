{
 "cells": [
  {
   "cell_type": "code",
   "execution_count": 1,
   "metadata": {},
   "outputs": [],
   "source": [
    "# Import the Qiskit SDK\n",
    "from qiskit import QuantumCircuit, ClassicalRegister, QuantumRegister\n",
    "from qiskit import available_backends, execute"
   ]
  },
  {
   "cell_type": "code",
   "execution_count": 2,
   "metadata": {},
   "outputs": [],
   "source": [
    "# Create a Quantum Register with 2 qubits.\n",
    "q = QuantumRegister(2)\n",
    "# Create a Classical Register with 2 bits.\n",
    "c = ClassicalRegister(2)\n",
    "# Create a Quantum Circuit\n",
    "qc = QuantumCircuit(q, c)\n"
   ]
  },
  {
   "cell_type": "code",
   "execution_count": 3,
   "metadata": {},
   "outputs": [
    {
     "data": {
      "text/plain": [
       "<qiskit._instructionset.InstructionSet at 0xaf24898>"
      ]
     },
     "execution_count": 3,
     "metadata": {},
     "output_type": "execute_result"
    }
   ],
   "source": [
    "# Add a H gate on qubit 0, putting this qubit in superposition.\n",
    "qc.h(q[0])\n",
    "# Add a CX (CNOT) gate on control qubit 0 and target qubit 1, putting\n",
    "# the qubits in a Bell state.\n",
    "qc.cx(q[0], q[1])\n",
    "# Add a Measure gate to see the state.\n",
    "qc.measure(q, c)"
   ]
  },
  {
   "cell_type": "code",
   "execution_count": 22,
   "metadata": {},
   "outputs": [
    {
     "name": "stdout",
     "output_type": "stream",
     "text": [
      "Local backends:  ['ibmq_qasm_simulator', 'ibmqx2', 'ibmqx4', 'ibmqx5']\n"
     ]
    }
   ],
   "source": [
    "# See a list of available local simulators\n",
    "#print(\"Local backends: \", available_backends({'local': True}))\n",
    "print(\"Local backends: \", available_backends({'local': False}))"
   ]
  },
  {
   "cell_type": "code",
   "execution_count": 5,
   "metadata": {},
   "outputs": [],
   "source": [
    "# Compile and run the Quantum circuit on a simulator backend\n",
    "job_sim = execute(qc, \"local_qasm_simulator\")\n",
    "sim_result = job_sim.result()"
   ]
  },
  {
   "cell_type": "code",
   "execution_count": 6,
   "metadata": {},
   "outputs": [
    {
     "name": "stdout",
     "output_type": "stream",
     "text": [
      "simulation:  COMPLETED\n",
      "{'00': 509, '11': 515}\n"
     ]
    }
   ],
   "source": [
    "# Show the results\n",
    "print(\"simulation: \", sim_result)\n",
    "print(sim_result.get_counts(qc))"
   ]
  },
  {
   "cell_type": "code",
   "execution_count": 7,
   "metadata": {
    "scrolled": true
   },
   "outputs": [
    {
     "ename": "ImportError",
     "evalue": "cannot import name 'store_credentials'",
     "output_type": "error",
     "traceback": [
      "\u001b[1;31m---------------------------------------------------------------------------\u001b[0m",
      "\u001b[1;31mImportError\u001b[0m                               Traceback (most recent call last)",
      "\u001b[1;32m<ipython-input-7-c70674b0e747>\u001b[0m in \u001b[0;36m<module>\u001b[1;34m()\u001b[0m\n\u001b[1;32m----> 1\u001b[1;33m \u001b[1;32mfrom\u001b[0m \u001b[0mqiskit\u001b[0m \u001b[1;32mimport\u001b[0m \u001b[0mstore_credentials\u001b[0m\u001b[1;33m\u001b[0m\u001b[0m\n\u001b[0m\u001b[0;32m      2\u001b[0m \u001b[1;33m\u001b[0m\u001b[0m\n\u001b[0;32m      3\u001b[0m \u001b[1;31m#store_credentials('39654d336027914fcaa6f0745ac2c33e71d340bd28d0c1f83761cd0f0beb4fe1fb4330c9a13996202da95b7571cfadc99952e641241ce19d9767f3d3efd4d5e8')\u001b[0m\u001b[1;33m\u001b[0m\u001b[1;33m\u001b[0m\u001b[0m\n",
      "\u001b[1;31mImportError\u001b[0m: cannot import name 'store_credentials'"
     ]
    }
   ],
   "source": [
    "DONT NEED THIS????? PULLING CREDS FROM LOCAL FILE\n",
    "\n",
    "from qiskit import store_credentials\n",
    "\n",
    "#store_credentials('39654d336027914fcaa6f0745ac2c33e71d340bd28d0c1f83761cd0f0beb4fe1fb4330c9a13996202da95b7571cfadc99952e641241ce19d9767f3d3efd4d5e8')"
   ]
  },
  {
   "cell_type": "code",
   "execution_count": 8,
   "metadata": {},
   "outputs": [],
   "source": [
    "import Qconfig\n",
    "import qiskit as qk"
   ]
  },
  {
   "cell_type": "code",
   "execution_count": 9,
   "metadata": {},
   "outputs": [
    {
     "data": {
      "text/plain": [
       "<qiskit.backends.ibmq.ibmqprovider.IBMQProvider at 0xaf5d780>"
      ]
     },
     "execution_count": 9,
     "metadata": {},
     "output_type": "execute_result"
    }
   ],
   "source": [
    "qk.register(Qconfig.APItoken)"
   ]
  },
  {
   "cell_type": "code",
   "execution_count": 42,
   "metadata": {},
   "outputs": [],
   "source": [
    "ibmqxf = qk.get_backend('ibmqx4')\n",
    "#ibmqxf = qk.get_backend('ibmqx5')"
   ]
  },
  {
   "cell_type": "code",
   "execution_count": 43,
   "metadata": {},
   "outputs": [
    {
     "data": {
      "text/plain": [
       "{'pending_jobs': 18, 'name': 'ibmq_16_rueschlikon', 'operational': True}"
      ]
     },
     "execution_count": 43,
     "metadata": {},
     "output_type": "execute_result"
    }
   ],
   "source": [
    "ibmqxf.status"
   ]
  },
  {
   "cell_type": "code",
   "execution_count": 38,
   "metadata": {},
   "outputs": [],
   "source": [
    "job_2 = qk.execute([qc],backend = ibmqxf, shots=1000)"
   ]
  },
  {
   "cell_type": "code",
   "execution_count": 44,
   "metadata": {},
   "outputs": [
    {
     "data": {
      "text/plain": [
       "{'job_id': '5b8f00150eae83003c96965c',\n",
       " 'status': <JobStatus.QUEUED: 'job is queued'>,\n",
       " 'status_msg': 'job is queued',\n",
       " 'queue_position': 26}"
      ]
     },
     "execution_count": 44,
     "metadata": {},
     "output_type": "execute_result"
    }
   ],
   "source": [
    "job_2.status"
   ]
  },
  {
   "cell_type": "code",
   "execution_count": 35,
   "metadata": {},
   "outputs": [],
   "source": [
    "result_2 = job_2.result()"
   ]
  },
  {
   "cell_type": "code",
   "execution_count": 36,
   "metadata": {},
   "outputs": [
    {
     "data": {
      "text/plain": [
       "{'00': 443, '01': 131, '10': 75, '11': 351}"
      ]
     },
     "execution_count": 36,
     "metadata": {},
     "output_type": "execute_result"
    }
   ],
   "source": [
    "result_2.get_counts(qc)"
   ]
  },
  {
   "cell_type": "code",
   "execution_count": null,
   "metadata": {},
   "outputs": [],
   "source": []
  }
 ],
 "metadata": {
  "kernelspec": {
   "display_name": "Python 3",
   "language": "python",
   "name": "python3"
  },
  "language_info": {
   "codemirror_mode": {
    "name": "ipython",
    "version": 3
   },
   "file_extension": ".py",
   "mimetype": "text/x-python",
   "name": "python",
   "nbconvert_exporter": "python",
   "pygments_lexer": "ipython3",
   "version": "3.6.5"
  }
 },
 "nbformat": 4,
 "nbformat_minor": 2
}
