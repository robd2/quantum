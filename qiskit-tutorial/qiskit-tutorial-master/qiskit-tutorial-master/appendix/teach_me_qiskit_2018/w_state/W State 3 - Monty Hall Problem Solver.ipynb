{
 "cells": [
  {
   "cell_type": "markdown",
   "metadata": {},
   "source": [
    "<img src=\"../../../images/qiskit-heading.gif\" alt=\"Note: In order for images to show up in this jupyter notebook you need to select File => Trusted Notebook\" width=\"500 px\" align=\"left\">"
   ]
  },
  {
   "cell_type": "markdown",
   "metadata": {},
   "source": [
    "## _*A Monty Hall Problem Solver*_ \n",
    "\n",
    "The latest version of this notebook is available on https://github.com/QISKit/qiskit-tutorial.\n",
    "\n",
    "For more information about how to use the IBM Q experience (QX), consult the [tutorials](https://quantumexperience.ng.bluemix.net/qstage/#/tutorial?sectionId=c59b3710b928891a1420190148a72cce&pageIndex=0), or check out the [community](https://quantumexperience.ng.bluemix.net/qstage/#/community).\n",
    "\n",
    "***\n",
    "### Contributors\n",
    "Pierre Decoodt, Université Libre de Bruxelles"
   ]
  },
  {
   "cell_type": "code",
   "execution_count": 1,
   "metadata": {},
   "outputs": [],
   "source": [
    "# Checking the version of PYTHON; we only support 3 at the moment\n",
    "import sys\n",
    "if sys.version_info < (3,0):\n",
    "    raise Exception('Please use Python version 3 or greater.')\n",
    "    \n",
    "# useful additional packages \n",
    "import matplotlib.pyplot as plt\n",
    "%matplotlib inline\n",
    "import numpy as np\n",
    "import time\n",
    "from pprint import pprint\n",
    "\n",
    "# importing the QISKit\n",
    "from qiskit import QuantumCircuit, QuantumProgram \n",
    "#import Qconfig   \n",
    "# import basic plot tools\n",
    "from qiskit.tools.visualization import plot_histogram"
   ]
  },
  {
   "cell_type": "markdown",
   "metadata": {},
   "source": [
    "## Introduction\n",
    "The Monty Hall problem has been approached by various formulations related to quantum game theory (notably Fittney and Abbott 2002, D'Ariano et al., 2002). It is no wonder that Alice and Bob come now on stage, the first as the game master, the second as the player.\n",
    "\n",
    "In this tutorial, a quantum model of the Monty Hall's game adapted for the ibmqx5 architecture will be built in three phases.\n",
    "\n",
    "To begin, a circuit comprising two sets of three qubits entangled in a state W will be used to materialize the actions of Alice and Bob and tested in a simulation of the game.\n",
    "\n",
    "In a second step, three Toffoli gates will be added to this circuit to establish a solution in which the measurement of a single qubit a sufficient number of run will be enough to determine the chances of gain Bob according to whether he prefers to stick with his first intention or switch.\n",
    "\n",
    "In a final step, Bob's mood for sticking or switching will gradually change from one experiment to the next to see how this can modify his probability of winning.\n",
    "\n",
    "Let's start by choosing the backend first. A simulator is always preferable during the first tests."
   ]
  },
  {
   "cell_type": "code",
   "execution_count": 3,
   "metadata": {},
   "outputs": [
    {
     "name": "stdout",
     "output_type": "stream",
     "text": [
      "Your choice for the backend is:  local_qiskit_simulator\n"
     ]
    }
   ],
   "source": [
    "Q_program = QuantumProgram()\n",
    "#Q_program.set_api(Qconfig.APItoken, Qconfig.config['url'])  \n",
    "\"Choice of the backend\"\n",
    "backend = 'local_qasm_simulator' #can be very slow when number of shoots increases\n",
    "#backend = 'ibmqx_hpc_qasm_simulator'   \n",
    "print(\"Your choice for the backend is: \", backend)"
   ]
  },
  {
   "cell_type": "markdown",
   "metadata": {},
   "source": [
    "## The  game circuit\n",
    "\n",
    "The first circuit presented here established first two W states with the help of the $ F $ gates described in the tutorial \"W State 1 - Multi-Qubit Systems\". These W states serve as true random number generators.\n",
    "\n",
    "The first W state involving the qubits $q_l$, $q_c$ and $q_r$ represents Alice's choice of the door behind which to hide the car (in the following two equations, the subscrits $l$, $c$ and $r$ represents respectively the left, center and right door):\n",
    "\n",
    "$$ |W \\rangle \\:=\\:\\frac{1}{\\sqrt{3}} \\: (|1_l 0_c 0_r \\rangle \\: + \\: |0_l 1_c 0_r\\rangle \\: +\\:  |0_l 0_c 1_r\\rangle) $$\n",
    "\n",
    "The second W state involving the qubits $q_l^{*}$, $q_c^{*}$ and $q_r^{*}$ represents Bob's initial choice regarding the door behind which the car would hide:\n",
    "\n",
    "$$ |W^{*} \\rangle \\: =\\: \\frac{1}{\\sqrt{3}} \\: (|1_{l}^{*} 0_{c}^{*} 0_{r}^{*} \\rangle \\: + \\: |0_{l}^{*} 1_{c}^{*} 0_{r}^{*}\\rangle \\: +\\:  |0_{l}^{*} 0_{c}^{*} 1_{r}^{*}\\rangle) $$\n",
    "\n",
    "\n",
    "\n",
    "A second true random number generator uses a two-qubit state to simulate coin tossing:\n",
    "\n",
    "$$ H^{\\otimes 2}|0_{a}0_{b}\\rangle=|+_{a}\\rangle \\:|+_{b}\\rangle=\\frac{|0_{a}\\rangle|0_{b}\\rangle+|0_{a}\\rangle|1_{b}\\rangle+|1_{a}\\rangle|0_{b}\\rangle+|1_{a}\\rangle|1_{b}\\rangle}{2}$$\n",
    "\n",
    "As explained in the tutorial \"W State 2 - Let's Make a Deal\", its role is to simulate Alice's choice of the door to open between two doors hiding a goat, when necessary.\n",
    "\n",
    "A last circuit establishes a flag $q_s$ representing Bob's decision to stick with his initial choice (ground state) or to switch (excited state). A Hadamard gate applied to $q_s$  ensures the equiprobability of these possibilities.\n"
   ]
  },
  {
   "cell_type": "code",
   "execution_count": 4,
   "metadata": {},
   "outputs": [],
   "source": [
    "# Define a F_gate\n",
    "def F_gate(circ,q,i,j,n,k) :\n",
    "    theta = np.arccos(np.sqrt(1/(n-k+1)))\n",
    "    circ.ry(-theta,q[j])       \n",
    "    circ.cz(q[i],q[j])\n",
    "    circ.ry(theta,q[j])\n",
    "    circ.barrier(q[i])\n",
    "# Define the cxrv gate which uses reverse CNOT instead of CNOT\n",
    "def  cxrv(circ,q,i,j) :\n",
    "    circ.h(q[i])\n",
    "    circ.h(q[j])\n",
    "    circ.cx(q[j],q[i])\n",
    "    circ.h(q[i])\n",
    "    circ.h(q[j])\n",
    "    circ.barrier(q[i],q[j])\n",
    "\n",
    "#\"CIRCUITS\"\n",
    "\n",
    "q = Q_program.create_quantum_register(\"q\", 16)\n",
    "c = Q_program.create_classical_register(\"c\", 16)\n",
    "twin = Q_program.create_circuit(\"twin\", [q], [c])\n",
    "# First W state\n",
    "twin.x(q[14])\n",
    "F_gate(twin,q,14,3,3,1)\n",
    "F_gate(twin,q,3,2,3,2)\n",
    "twin.cx(q[3],q[14])\n",
    "twin.cx(q[2],q[3])\n",
    "\n",
    "#Second W state\n",
    "twin.x(q[12])\n",
    "F_gate(twin,q,12,5,3,1)\n",
    "F_gate(twin,q,5,6,3,2)\n",
    "cxrv(twin,q,5,12)\n",
    "twin.cx(q[6],q[5])\n",
    "\n",
    "#Coin tossing\n",
    "twin.h(q[0])\n",
    "twin.h(q[1])\n",
    "\n",
    "switch1 = Q_program.create_circuit('switch1',[q],[c])\n",
    "#Stick or switch\n",
    "switch1.h(q[13])\n",
    "\n",
    "for i in range (4) :\n",
    "    switch1.measure(q[i] , c[i]);\n",
    "for i in range (5,7) :\n",
    "    switch1.measure(q[i] , c[i]);\n",
    "for i in range (12,15) :\n",
    "    switch1.measure(q[i] , c[i]);"
   ]
  },
  {
   "cell_type": "markdown",
   "metadata": {},
   "source": [
    "## Alice and Bob playing\n",
    "\n",
    "Now we're going to watch Alice and Bob in their re-enactment of the TV show \"Let's Make a Deal\".\n",
    "\n",
    "Among the possible scenarios, the one selected is obtained by a one shot execution of the addition of the two circuits described above.\n",
    "\n",
    "Note that a virtual referee checks if one and only one car has been hidden by Alice and if Bob first chooses one and only one door. The program is rerun until a consistent result is achieved. This verification is only useful on real quantum computer.\n",
    "\n",
    "From the result of the measurements of the nine qubits involved, the match is reconstituted on a conventional computer."
   ]
  },
  {
   "cell_type": "code",
   "execution_count": 5,
   "metadata": {},
   "outputs": [
    {
     "name": "stdout",
     "output_type": "stream",
     "text": [
      "Alice vs Bob backend= local_qiskit_simulator starting time 03/04/2018 09:34:46\n",
      "Alice vs Bob backend= local_qiskit_simulator      end time 03/04/2018 09:34:46\n",
      " \n",
      "Alice:       One car and two goats are now hidden behind these doors.\n",
      "             Which door do you choose?\n",
      " \n",
      "Bob:         My choice is the right door\n",
      " \n",
      "Alice:       Now I open the left door and you see a goat\n",
      "             You get an opportunity to change your choice!\n",
      "             Do you want to switch for the central door?\n",
      " \n",
      "Bob:         I change my mind and choose the central door\n",
      "\n",
      "Alice:       You opened the central door and won the car! Congratulations!\n",
      "Game over\n"
     ]
    }
   ],
   "source": [
    "Q_program.add_circuit(\"AliceBob\", twin+switch1)\n",
    "Label = [\"left\", \"central\", \"right\"]\n",
    "wstates = 0\n",
    "\n",
    "while wstates != 1:\n",
    "    time_exp = time.strftime('%d/%m/%Y %H:%M:%S')\n",
    "    print(\"Alice vs Bob\", \"backend=\", backend, \"starting time\", time_exp)\n",
    "    result = Q_program.execute(\"AliceBob\", backend=backend, shots=1, max_credits=5, wait=5, timeout=120)\n",
    "    time_exp = time.strftime('%d/%m/%Y %H:%M:%S')\n",
    "    print(\"Alice vs Bob\", \"backend=\", backend, \"     end time\", time_exp)\n",
    "    \n",
    "    cstr = str(result.get_counts(\"AliceBob\"))\n",
    "    nb_of_cars = int(cstr[3]) + int(cstr[14]) + int(cstr[15])\n",
    "    nb_of_doors = int(cstr[12]) + int(cstr[11]) + int(cstr[5])\n",
    "    wstates = nb_of_cars * nb_of_doors\n",
    "\n",
    "print(\" \")\n",
    "print('Alice:       One car and two goats are now hidden behind these doors.')\n",
    "print('             Which door do you choose?')\n",
    "print(\" \")\n",
    "\n",
    "\"Chosing the left door\"\n",
    "if int(cstr[5]) == 1:\n",
    "    Doorchosen = 1\n",
    "\n",
    "\"Chosing the center door\"\n",
    "if int(cstr[11]) == 1:   \n",
    "    Doorchosen = 2\n",
    "    \n",
    "\"Chosing the right door\"\n",
    "if int(cstr[12]) == 1:\n",
    "    Doorchosen = 3\n",
    "\n",
    "time.sleep(2)    \n",
    "print('Bob:         My choice is the',Label[Doorchosen-1], \"door\")\n",
    "print(\" \")\n",
    "\n",
    "randomnb = int(cstr[16]) + int(cstr[17]) %2\n",
    "\n",
    "if cstr[3] == \"1\":    #car behind left door \n",
    "    Doorwinning = 1\n",
    "    if Doorchosen == 1: \n",
    "        Dooropen = 2 + randomnb\n",
    "        Doorswitch = 3 - randomnb\n",
    "    if Doorchosen == 2:\n",
    "        Dooropen = 3 \n",
    "        Doorswitch = 1\n",
    "    if Doorchosen == 3:\n",
    "        Dooropen = 2\n",
    "        Doorswitch = 1    \n",
    "               \n",
    "if cstr[14] == \"1\":     #car behind central door \n",
    "    Doorwinning = 2\n",
    "    if Doorchosen == 2:\n",
    "        Dooropen = 1 + 2*randomnb \n",
    "        Doorswitch = 3 - 2*randomnb \n",
    "    if Doorchosen == 1: \n",
    "        Dooropen = 3\n",
    "        Doorswitch = 2\n",
    "    if Doorchosen == 3:   \n",
    "        Dooropen = 1\n",
    "        Doorswitch = 2\n",
    "        \n",
    "if cstr[15] == \"1\":     #car behind right door \n",
    "    Doorwinning = 3\n",
    "    if Doorchosen == 3:\n",
    "        Dooropen = randomnb + 1\n",
    "        Doorswitch = 2 - randomnb\n",
    "    if Doorchosen == 1: \n",
    "        Dooropen = 2\n",
    "        Doorswitch = 3\n",
    "    if Doorchosen == 2:   \n",
    "        Dooropen = 1\n",
    "        Doorswitch = 3\n",
    "        \n",
    "time.sleep(2)           \n",
    "print('Alice:       Now I open the', Label[Dooropen-1], 'door and you see a goat')\n",
    "time.sleep(2)\n",
    "print('             You get an opportunity to change your choice!')\n",
    "time.sleep(2)\n",
    "print('             Do you want to switch for the',Label[Doorswitch-1], \"door?\")\n",
    "print(\" \")\n",
    "time.sleep(2)\n",
    "\n",
    "switch_flag = int(cstr[4])\n",
    "    \n",
    "\"BOB STICKS WITH HIS FIRST CHOICE!\"\n",
    "if switch_flag == 0:\n",
    "    Doorfinal = Doorchosen\n",
    "    print('Bob:         I stick with my first choice, the',Label[Doorfinal-1], \"door\")\n",
    "                \n",
    "\"BOB CHANGES HIS MIND!\"\n",
    "if switch_flag == 1:\n",
    "    Doorfinal = Doorswitch\n",
    "    print('Bob:         I change my mind and choose the',Label[Doorfinal-1], \"door\")\n",
    "\n",
    "\"FINAL ANNOUNCE\"\n",
    "if Doorfinal == Doorwinning:\n",
    "    endmessage = 'won the car! Congratulations!'\n",
    "else:\n",
    "    endmessage = 'won a goat! Sorry!'\n",
    "\n",
    "time.sleep(2)\n",
    "print()\n",
    "print('Alice:       You opened the',Label[Doorfinal-1],'door and', endmessage)\n",
    "    \n",
    "print(\"Game over\")"
   ]
  },
  {
   "cell_type": "markdown",
   "metadata": {},
   "source": [
    "## Toffoli is called on\n",
    "\n",
    "One could claim that during this match the quantum computer plays against itself. However, it should be noted that, in the initial phase, it could have been used repetitively rather than in a single run, for the successive determination of $|W \\rangle$, $|W^{*} \\rangle$, coin tossing and the switch flag.\n",
    "\n",
    "Similarly, two quantum computers such as ibmqx2 and ibmqx4 could have been used, one attributed to Alice and the other to Bob.\n",
    "\n",
    "To take the step towards the quantum computer playing against itself autonomously and keeping track of the result, we need a circuit extension.\n",
    "\n",
    "Here we use three Toffoli gates who have as a common target a qubit $q_w$.  When $q_w$ is in excited state, it indicates the victory of Bob .\n",
    "\n",
    "The description of a Toffoli $C3$ gate is available in the \"Quantum gates and linear algebra\" Jupyter notebook of the QISKit tutorial.\n",
    "\n",
    "The following three operations are performed$^1$: \n",
    "\n",
    "Left door: $$C3\\;(q_{l},\\;q^{*}_{l},\\;q_w)$$\n",
    "Central door: $$C3\\;(q_{c},\\;q^{*}_{c},\\;q_w)$$\n",
    "Right door: $$C3\\;(q_{r},\\;q^{*}_{r},\\;q_w)$$\n",
    "\n",
    "The end result is that $q_w$ is in excited state iff either $q_{l}=q^{*}_{l}$ or $q_{c}=q^{*}_{c}$ or $q_{r}=q^{*}_{r}$.\n",
    "\n",
    "$^1$ The order of these operations does not matter but is dictated by the architecture of the quantum computer and the $SWAP$ gates needed."
   ]
  },
  {
   "cell_type": "code",
   "execution_count": 6,
   "metadata": {},
   "outputs": [
    {
     "data": {
      "text/plain": [
       "<qiskit.extensions.standard.ccx.ToffoliGate at 0x7f87de670908>"
      ]
     },
     "execution_count": 6,
     "metadata": {},
     "output_type": "execute_result"
    }
   ],
   "source": [
    "#Toffoli gates\n",
    "Toffoli = Q_program.create_circuit('Toffoli',[q],[c])\n",
    "Toffoli.ccx(q[3], q[5], q[4])\n",
    "Toffoli.swap(q[2],q[3])\n",
    "Toffoli.swap(q[6],q[5])\n",
    "Toffoli.ccx(q[3], q[5], q[4])\n",
    "Toffoli.swap(q[3],q[14])\n",
    "Toffoli.swap(q[12],q[5])\n",
    "Toffoli.ccx(q[3], q[5], q[4])"
   ]
  },
  {
   "cell_type": "markdown",
   "metadata": {},
   "source": [
    "## A general solution where chance leads the game\n",
    "\n",
    "The addition of the $C3$ gates and a last $cNOT$ gate with $q_s$ as control and $q_w$ as target makes it possible to determine experimentally the probability of winning for systematic sticking and systematic switching strategies. It suffices to measure $q_s$ and $q_w$ a sufficient number of shots.\n",
    "\n",
    "Indeed, for Bob, switching is enough to turn a defeat into a victory and vice versa. \n",
    "\n",
    "Let's look at the results of this experiment."
   ]
  },
  {
   "cell_type": "code",
   "execution_count": 7,
   "metadata": {},
   "outputs": [
    {
     "name": "stdout",
     "output_type": "stream",
     "text": [
      "local_qiskit_simulator shots 1024 starting time 03/04/2018 09:38:11\n",
      "local_qiskit_simulator shots 1024 end time 03/04/2018 09:38:13\n"
     ]
    },
    {
     "data": {
      "image/png": "[encoded data removed]",
      "text/plain": [
       "<matplotlib.figure.Figure at 0x7f87de670080>"
      ]
     },
     "metadata": {},
     "output_type": "display_data"
    },
    {
     "name": "stdout",
     "output_type": "stream",
     "text": [
      "{'0000000000010000': 180, '0010000000010000': 345, '0010000000000000': 147, '0000000000000000': 352}\n",
      "Proportion sticking:   0.52 \n",
      "Proportion switching:   0.48 \n",
      "Proportion winning when sticking:    0.34 \n",
      "Proportion winning when switching:   0.70 \n"
     ]
    }
   ],
   "source": [
    "# A general solution with 50% switching strategy\n",
    "switch_fifty_percent = Q_program.create_circuit('switch_fifty_percent',[q],[c])\n",
    "#switch flag\n",
    "switch_fifty_percent.h(q[13])\n",
    "switch_fifty_percent.cx(q[13],q[4])\n",
    "switch_fifty_percent.measure(q[4] , c[4]);\n",
    "switch_fifty_percent.measure(q[13] , c[13]);\n",
    "Q_program.add_circuit(\"general_solution\", twin+Toffoli+switch_fifty_percent)\n",
    "circuits = ['general_solution']\n",
    "shots = 1024\n",
    "time_exp = time.strftime('%d/%m/%Y %H:%M:%S')\n",
    "print(backend, \"shots\",  shots, \"starting time\", time_exp)\n",
    "result = Q_program.execute(circuits, backend=backend, shots=shots, max_credits=5, wait=30, timeout=600)\n",
    "time_exp = time.strftime('%d/%m/%Y %H:%M:%S')\n",
    "print(backend, \"shots\",  shots, \"end time\", time_exp)\n",
    "plot_histogram(result.get_counts(\"general_solution\"))\n",
    "print(result.get_counts(\"general_solution\"))\n",
    "observable_stickwon =  {'0000000000010000': 1, '0010000000010000': 0, '0010000000000000': 0, '0000000000000000': 0}\n",
    "observable_switchwon = {'0000000000010000': 0, '0010000000010000': 1, '0010000000000000': 0, '0000000000000000': 0}\n",
    "observable_stickall =  {'0000000000010000': 1, '0010000000010000': 0, '0010000000000000': 0, '0000000000000000': 1}\n",
    "observable_switchall = {'0000000000010000': 0, '0010000000010000': 1, '0010000000000000': 1, '0000000000000000': 0}\n",
    "stickwon = result.average_data(\"general_solution\",observable_stickwon)\n",
    "switchwon = result.average_data(\"general_solution\",observable_switchwon)\n",
    "stickall = result.average_data(\"general_solution\",observable_stickall)\n",
    "switchall = result.average_data(\"general_solution\",observable_switchall)\n",
    "print(\"Proportion sticking: %6.2f \" % stickall)\n",
    "print(\"Proportion switching: %6.2f \" % switchall)\n",
    "stickwon_stickall = stickwon/stickall\n",
    "switchwon_switchall = switchwon/switchall\n",
    "print(\"Proportion winning when sticking:  %6.2f \" % stickwon_stickall)\n",
    "print(\"Proportion winning when switching: %6.2f \" % switchwon_switchall)"
   ]
  },
  {
   "cell_type": "markdown",
   "metadata": {},
   "source": [
    "## The Mood of Bob\n",
    "\n",
    "After this experimental demonstration of the superiority of the strategy of systematic switching on systematic sticking, in agreement with a theory that is highly counterintuitive but certainly mathematically correct and generally accepted, one could consider that all is said and done.\n",
    "\n",
    "However, it has not been experimentally demonstrated in this tutorial that there is not yet a better strategy between these two extremes. In order to reach a final conclusion, a series of experiments will follow, in which a gradual variation of the switch probability $P(s)$ is created. This equates to a gradual change in Bob's mood, from a propensity to stick with his first choice to an impetuous need to change his mind when given the opportunity.\n",
    "\n",
    "To do this, the qubit $q_s$ undergoes an incremental rotation around X-axis $R_x(\\lambda)$, according to the formula:\n",
    "\n",
    "$$\\lambda = 2\\arcsin \\sqrt{P(s)}$$\n",
    "\n",
    "Since the circuit is  completed by a $cNOT$ gate with $q_s$ as control and $q_w$ as target, the  measure of $q_w$ alone is sufficient to estimate the probability that Bob will win for a given propensity to switch.\n",
    "\n",
    "Here are the results of eight experiments with incremental values of $P(s)$, each with a sufficient number of shots."
   ]
  },
  {
   "cell_type": "code",
   "execution_count": 8,
   "metadata": {},
   "outputs": [
    {
     "name": "stdout",
     "output_type": "stream",
     "text": [
      "local_qiskit_simulator shots 1024 starting time 03/04/2018 09:38:27\n",
      "statplot0  Proportion switching:  0.000   Proportion winning:   0.34\n",
      "statplot1  Proportion switching:  0.125   Proportion winning:   0.38\n",
      "statplot2  Proportion switching:  0.250   Proportion winning:   0.41\n",
      "statplot3  Proportion switching:  0.375   Proportion winning:   0.47\n",
      "statplot4  Proportion switching:  0.500   Proportion winning:   0.55\n",
      "statplot5  Proportion switching:  0.625   Proportion winning:   0.55\n",
      "statplot6  Proportion switching:  0.750   Proportion winning:   0.58\n",
      "statplot7  Proportion switching:  0.875   Proportion winning:   0.64\n",
      "statplot8  Proportion switching:  1.000   Proportion winning:   0.67\n",
      "local_qiskit_simulator shots 1024 end time 03/04/2018 09:38:48\n"
     ]
    },
    {
     "data": {
      "image/png": "[encoded data removed]",
      "text/plain": [
       "<matplotlib.figure.Figure at 0x7f87dcd83438>"
      ]
     },
     "metadata": {},
     "output_type": "display_data"
    },
    {
     "name": "stdout",
     "output_type": "stream",
     "text": [
      "Our Advice: \n",
      "\n",
      "                  Thou Shalt Not Stick\n"
     ]
    }
   ],
   "source": [
    "# Illustrating different strategies\n",
    "xdat = []\n",
    "ydat = []\n",
    "observable = {'0000000000000000': 0, '0000000000010000': 1}\n",
    "shots = 1024\n",
    "time_exp = time.strftime('%d/%m/%Y %H:%M:%S')\n",
    "print(backend, \"shots\",  shots, \"starting time\", time_exp)\n",
    "\n",
    "for i in range(9) :\n",
    "    strategies = Q_program.create_circuit('strategies',[q],[c])\n",
    "    Prob = i/8\n",
    "    lambda_s = 2*np.arcsin(np.sqrt(Prob))\n",
    "    strategies.rx(lambda_s,q[13])\n",
    "    strategies.cx(q[13],q[4])\n",
    "    strategies.measure(q[4] , c[4]);\n",
    "    statploti = \"statplot\"+str(i)\n",
    "    Q_program.create_circuit(\"statploti\",[q],[c])\n",
    "    Q_program.add_circuit(\"statploti\",twin+Toffoli+strategies)\n",
    "    result = Q_program.execute(\"statploti\", backend=backend, shots=shots, max_credits=5, wait=30, timeout=600)\n",
    "    loop_average=(result.average_data(\"statploti\",observable))\n",
    "    print(statploti,\" Proportion switching: %6.3f\" % Prob, \"  Proportion winning: %6.2f\" % loop_average)\n",
    "    ydat.append(loop_average)\n",
    "    xdat.append(Prob)\n",
    "    \n",
    "time_exp = time.strftime('%d/%m/%Y %H:%M:%S')\n",
    "print(backend, \"shots\",  shots, \"end time\", time_exp)   \n",
    "plt.plot(xdat, ydat, 'ro')\n",
    "plt.grid()\n",
    "plt.ylabel('Probability of Winning', fontsize=12)\n",
    "plt.xlabel(r'Probability of Switching', fontsize=12)\n",
    "plt.show()\n",
    "print(\"Our Advice: \\n\")\n",
    "y_aver = []\n",
    "for j in range(0,7,3) :\n",
    "    y_aver.append((ydat[j] + ydat[j+1] +ydat[j+2])/3)\n",
    "\n",
    "if y_aver[0] == max(y_aver) :\n",
    "    print(\"                  Thou Shalt Not Switch\") \n",
    "\n",
    "elif y_aver[2] == max(y_aver) :\n",
    "    print(\"                  Thou Shalt Not Stick\")\n",
    "    \n",
    "else:\n",
    "    print(\"          Just follow the intuition of the moment\")  "
   ]
  },
  {
   "cell_type": "markdown",
   "metadata": {},
   "source": [
    "## Concluding remarks:\n",
    "\n",
    "The model presented here is a stand alone solution to the Monty Hall problem. All scenarios of the game remain in the realm of possibility as long as a measurement is not performed.\n",
    "\n",
    "This model is further characterized by the use of multi-qubit gates. A circuit portion that creates a W state can be considered in its entirety as a three-qubit gate, which could be coined a $W$ gate. In the present case, two $W$ gates followed by three $C3$ gates make it possible to carry out the circuit.\n",
    "\n",
    "The Monty Hall problem has a well-known classical solution, but nothing prevents us from imagining that this approach may be useful for certain problems for which a solution is impossible to achieve within a reasonable time by the conventional means of numerical calculation."
   ]
  },
  {
   "cell_type": "code",
   "execution_count": 8,
   "metadata": {},
   "outputs": [
    {
     "data": {
      "text/html": [
       "<h2>Version information</h2>\n",
       "<p>Please note that this tutorial is targeted to the <b>stable</b> version of the QISKit SDK. The following versions of the packages are recommended:</p>\n",
       "<table>\n",
       "<tr><th>Package</th><th colspan=\"2\">Version</th></tr>\n",
       "<tr><td>QISKit</td><td> 0.4.8</td></tr>\n",
       "<tr><td>IBMQuantumExperience</td><td>&gt;= 1.8.26</td></tr>\n",
       "<tr><td>numpy</td><td>&gt;= 1.13, &lt; 1.14</td></tr>\n",
       "<tr><td>scipy</td><td>&gt;= 0.19, &lt; 0.20</td></tr>\n",
       "<tr><td>matplotlib</td><td>&gt;= 2.0, &lt; 2.1</td></tr>\n",
       "</table>"
      ],
      "text/plain": [
       "<IPython.core.display.HTML object>"
      ]
     },
     "metadata": {},
     "output_type": "display_data"
    }
   ],
   "source": [
    "%run \"../version.ipynb\""
   ]
  },
  {
   "cell_type": "code",
   "execution_count": null,
   "metadata": {
    "collapsed": true
   },
   "outputs": [],
   "source": []
  }
 ],
 "metadata": {
  "anaconda-cloud": {},
  "kernelspec": {
   "display_name": "QISKitenv",
   "language": "python",
   "name": "qiskitenv"
  },
  "language_info": {
   "codemirror_mode": {
    "name": "ipython",
    "version": 3
   },
   "file_extension": ".py",
   "mimetype": "text/x-python",
   "name": "python",
   "nbconvert_exporter": "python",
   "pygments_lexer": "ipython3",
   "version": "3.6.2"
  }
 },
 "nbformat": 4,
 "nbformat_minor": 1
}
