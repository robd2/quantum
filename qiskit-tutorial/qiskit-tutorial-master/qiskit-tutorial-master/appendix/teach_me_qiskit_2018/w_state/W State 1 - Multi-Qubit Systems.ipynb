{
 "cells": [
  {
   "cell_type": "markdown",
   "metadata": {},
   "source": [
    "<img src=\"../../../images/qiskit-heading.gif\" alt=\"Note: In order for images to show up in this jupyter notebook you need to select File => Trusted Notebook\" width=\"500 px\" align=\"left\">"
   ]
  },
  {
   "cell_type": "markdown",
   "metadata": {},
   "source": [
    "# W state in multi-qubit systems\n",
    "\n",
    "The latest version of this notebook is available on https://github.com/QISKit/qiskit-tutorial.\n",
    "\n",
    "For more information about how to use the IBM Q experience (QX), consult the [tutorials](https://quantumexperience.ng.bluemix.net/qstage/#/tutorial?sectionId=c59b3710b928891a1420190148a72cce&pageIndex=0), or check out the [community](https://quantumexperience.ng.bluemix.net/qstage/#/community).\n",
    "\n",
    "***\n",
    "## Contributors\n",
    "\n",
    "Pierre Decoodt, Université Libre de Bruxelles"
   ]
  },
  {
   "cell_type": "code",
   "execution_count": 1,
   "metadata": {},
   "outputs": [],
   "source": [
    "# Checking the version of PYTHON; we only support 3 at the moment\n",
    "import sys\n",
    "if sys.version_info < (3,0):\n",
    "    raise Exception('Please use Python version 3 or greater.')\n",
    "    \n",
    "# useful additional packages \n",
    "import matplotlib.pyplot as plt\n",
    "%matplotlib inline\n",
    "import numpy as np\n",
    "import time\n",
    "from pprint import pprint\n",
    "\n",
    "# importing the QISKit\n",
    "from qiskit import QuantumCircuit, QuantumProgram \n",
    "#import Qconfig \n",
    "# import basic plot tools\n",
    "from qiskit.tools.visualization import plot_histogram"
   ]
  },
  {
   "cell_type": "code",
   "execution_count": 2,
   "metadata": {},
   "outputs": [],
   "source": [
    "QPS_SPECS = {\n",
    "    'circuits': [{\n",
    "        'name': 'W_states',\n",
    "        'quantum_registers': [{\n",
    "            'name':'q',\n",
    "            'size':5\n",
    "        }],\n",
    "        'classical_registers': [{\n",
    "            'name':'c',\n",
    "            'size':5\n",
    "        }]}],\n",
    "}\n",
    "Q_program = QuantumProgram(specs=QPS_SPECS)\n",
    "#Q_program.set_api(Qconfig.APItoken, Qconfig.config['url'])  "
   ]
  },
  {
   "cell_type": "markdown",
   "metadata": {},
   "source": [
    "## Theoretical background\n",
    "\n",
    "In addition to the GHZ states, the generalized W states, as proposed by Dür, Vidal and Cirac, in 2000, is a class of interesting examples of multiple qubit entanglement.\n",
    "\n",
    "A generalized $n$ qubit W state can be written as :\n",
    "$$ |W_{n}\\rangle \\; = \\; \\sqrt{\\frac{1}{n}} \\: (\\:|10...0\\rangle \\: +  |01...0\\rangle \\: +...+ |00...1\\rangle \\:) $$\n",
    "\n",
    "Here are presented circuits allowing to deterministically produce respectively a three, a four and a five qubit W state.\n",
    "\n",
    "A 2016 paper by Firat Diker proposes an algorithm in the form of nested boxes allowing the deterministic construction of W states of any size $n$. The experimental setup proposed by the author is essentially an optical assembly including half-wave plates. The setup includes $n-1$ so-called two-qubit $F$ gates (not to be confounded with the Fredkin's three-qubit gate).\n",
    "\n",
    "It is possible to construct the equivalent of such a $F$ gate on a superconducting quantum computing system using transmon qubits in ground and excited states. A $F_{k,\\, k+1}$ gate with control qubit $q_{k}$ and target qubit $q_{k+1}$ is obtained here by:\n",
    "\n",
    " - First a rotation round Y-axis $R_{y}(-\\theta_{k})$ applied on $q_{k+1}$\n",
    " - Then a controlled Z-gate $cZ$ in any direction between the two qubits $q_{k}$ and $q_{k+1}$\n",
    " - Finally a rotation round Y-axis $R_{y}(\\theta_{k})$ applied on $q_{k+1}$\n",
    " \n",
    "The matrix representations of a $R_{y}(\\theta)$ rotation and of the $cZ$ gate can be found in the \"Quantum gates and linear algebra\" Jupyter notebook of the QISKit tutorial. \n",
    "\n",
    "The value of $\\theta_{k}$ depends on $n$ and $k$ following the relationship:\n",
    "\n",
    "$$\\theta_{k} = \\arccos \\left(\\sqrt{\\frac{1}{n-k+1}}\\right) $$\n",
    "\n",
    "Note that this formula for $\\theta$ is different from the one mentioned in the Diker's paper. This is due to the fact that we use here Y-axis rotation matrices instead of $W$ optical gates composed of half-wave plates.\n",
    "\n",
    "At the beginning, the qubits are placed in the state:  $|\\varphi_{0} \\rangle \\, = \\, |10...0 \\rangle$.\n",
    "\n",
    "This is followed by the application of $n-1$ sucessive $F$ gates. \n",
    "\n",
    "$$|\\varphi_{1}\\rangle = F_{n-1,\\,n}\\, ... \\, F_{k,\\, k+1}\\, ... \\, F_{2,\\, 3}  \\,F_{1,\\, 2}\\,|\\varphi_{0} \\rangle \\,= \\; \\sqrt{\\frac{1}{n}} \\: (\\:|10...0\\rangle \\: +  |11...0\\rangle \\: +...+ |11...1\\rangle \\:) $$\n",
    "\n",
    "Then, $n-1$ $cNOT$ gates are applied. The final circuit is: \n",
    "\n",
    "$$|W_{n}\\rangle \\,= cNOT_{n,\\, n-1}\\, cNOT_{n-1,\\, n-2}...cNOT_{k,\\, k-1}...cNOT_{2,\\, 1}\\,\\,|\\varphi_{1} \\rangle$$\n",
    "\n",
    "Let's launch now in the adventure of producing deterministically W states, on simulator or in the real world!"
   ]
  },
  {
   "cell_type": "markdown",
   "metadata": {},
   "source": [
    "Now you will have the opportunity to choose your backend.\n",
    "\n",
    "(If you run the following cells in sequence, you will end with the local simulator, which is a good choice for a first trial)."
   ]
  },
  {
   "cell_type": "code",
   "execution_count": 3,
   "metadata": {},
   "outputs": [
    {
     "name": "stdout",
     "output_type": "stream",
     "text": [
      "Your choice for the backend is:  local_qiskit_simulator flag_qx2 is:  True\n"
     ]
    }
   ],
   "source": [
    "\"Choice of the backend\"\n",
    "# The flag_qx2 must be \"True\" for using the ibmqx2. \n",
    "# \"True\" is also better when using the simulator (shorter circuit)\n",
    "#backend = 'ibmqx2'\n",
    "#backend = 'ibmqx4'\n",
    "backend = 'local_qasm_simulator'  \n",
    "\n",
    "#backend = 'ibmqx_hpc_qasm_simulator'  \n",
    "flag_qx2 = True\n",
    "if backend == 'ibmqx4':\n",
    "        flag_qx2 = False\n",
    "        \n",
    "print(\"Your choice for the backend is: \", backend, \"flag_qx2 is: \", flag_qx2)"
   ]
  },
  {
   "cell_type": "code",
   "execution_count": 4,
   "metadata": {},
   "outputs": [],
   "source": [
    "# Here, two useful routine\n",
    "# Define a F_gate\n",
    "def F_gate(circ,q,i,j,n,k) :\n",
    "    theta = np.arccos(np.sqrt(1/(n-k+1)))\n",
    "    circ.ry(-theta,q[j])       \n",
    "    circ.cz(q[i],q[j])\n",
    "    circ.ry(theta,q[j])\n",
    "    circ.barrier(q[i])\n",
    "# Define the cxrv gate which uses reverse CNOT instead of CNOT\n",
    "def  cxrv(circ,q,i,j) :\n",
    "    circ.h(q[i])\n",
    "    circ.h(q[j])\n",
    "    circ.cx(q[j],q[i])\n",
    "    circ.h(q[i])\n",
    "    circ.h(q[j])\n",
    "    circ.barrier(q[i],q[j])"
   ]
  },
  {
   "cell_type": "markdown",
   "metadata": {},
   "source": [
    "## Three-qubit W state, step 1\n",
    "\n",
    "In this section, the production of a three qubit W state will be examined step by step.\n",
    "\n",
    "In this circuit, the starting state is now: $ |\\varphi_{0} \\rangle \\, = \\, |100\\rangle$.\n",
    "\n",
    "The entire circuit corresponds to:                                 \n",
    "                \n",
    "$$ |W_{3}\\rangle \\,=\\,  cNOT_{3,2}\\,  \\, cNOT_{2,1}\\,  \\, F_{2,3} \\, \n",
    "\\, F_{1,2} \\,  \\, |\\varphi_{0} \\rangle \\, $$    \n",
    "\n",
    "Run the following cell to see what happens when we first apply $F_{1,2}$."
   ]
  },
  {
   "cell_type": "code",
   "execution_count": 6,
   "metadata": {
    "scrolled": true
   },
   "outputs": [
    {
     "name": "stdout",
     "output_type": "stream",
     "text": [
      "start W state 3-qubit (step 1) on local_qiskit_simulator N= 1024 03/04/2018 09:24:36\n",
      "end   W state 3-qubit (step 1) on local_qiskit_simulator N= 1024 03/04/2018 09:24:36\n"
     ]
    },
    {
     "data": {
      "image/png": "[encoded data removed]",
      "text/plain": [
       "<matplotlib.figure.Figure at 0x7fa965f0b518>"
      ]
     },
     "metadata": {},
     "output_type": "display_data"
    }
   ],
   "source": [
    "# 3-qubit W state Step 1\n",
    "\n",
    "Q_program = QuantumProgram(specs=QPS_SPECS)\n",
    "#Q_program.set_api(Qconfig.APItoken, Qconfig.config['url'])  \n",
    "W_states = Q_program.get_circuit('W_states') \n",
    "q = Q_program.get_quantum_register('q') \n",
    "c = Q_program.get_classical_register('c')\n",
    "\n",
    "W_states.x(q[2]) #start is |100>\n",
    "F_gate(W_states,q,2,1,3,1) # Applying F12\n",
    "    \n",
    "for i in range(3) :\n",
    "    W_states.measure(q[i] , c[i]) \n",
    "\n",
    "circuits = ['W_states']\n",
    "\n",
    "shots = 1024\n",
    "time_exp = time.strftime('%d/%m/%Y %H:%M:%S')\n",
    "print('start W state 3-qubit (step 1) on', backend, \"N=\", shots,time_exp)\n",
    "result = Q_program.execute(circuits, backend=backend, shots=shots, max_credits=5, wait=5, timeout=600)\n",
    "time_exp = time.strftime('%d/%m/%Y %H:%M:%S')\n",
    "print('end   W state 3-qubit (step 1) on', backend, \"N=\", shots,time_exp)\n",
    "plot_histogram(result.get_counts('W_states'))"
   ]
  },
  {
   "cell_type": "markdown",
   "metadata": {},
   "source": [
    "## Three-qubit W state: adding step 2\n",
    "\n",
    "In the previous step you obtained an histogram compatible with the following state:\n",
    "\n",
    "$$ |\\varphi_{1} \\rangle= F_{1,2}\\,  |\\varphi_{0} \\rangle\\,=F_{1,2}\\,  \\,|1 0 0 \\rangle=\\frac{1}{\\sqrt{3}} \\: |1 0 0 \\rangle \\: + \\sqrt{\\frac{2}{3}} \\: |1 1 0 \\rangle $$\n",
    "\n",
    "NB: Depending on the backend, it happens that the order of the qubits is modified, but without consequence for the state finally reached.\n",
    "\n",
    "We seem far from the ultimate goal.\n",
    "\n",
    "Run the following circuit to obtain $|\\varphi_{2} \\rangle =F_{2,3}\\, \\, |\\varphi_{1} \\rangle$"
   ]
  },
  {
   "cell_type": "code",
   "execution_count": 7,
   "metadata": {},
   "outputs": [
    {
     "name": "stdout",
     "output_type": "stream",
     "text": [
      "start W state 3-qubit (steps 1 + 2) on local_qiskit_simulator N= 1024 03/04/2018 09:25:18\n",
      "end   W state 3-qubit (steps 1 + 2) on local_qiskit_simulator N= 1024 03/04/2018 09:25:19\n"
     ]
    },
    {
     "data": {
      "image/png": "[encoded data removed]",
      "text/plain": [
       "<matplotlib.figure.Figure at 0x7fa965e09898>"
      ]
     },
     "metadata": {},
     "output_type": "display_data"
    }
   ],
   "source": [
    "# 3-qubit W state, first and second steps\n",
    "\n",
    "Q_program = QuantumProgram(specs=QPS_SPECS)\n",
    "#Q_program.set_api(Qconfig.APItoken, Qconfig.config['url'])  \n",
    "W_states = Q_program.get_circuit('W_states') \n",
    "q = Q_program.get_quantum_register('q') \n",
    "c = Q_program.get_classical_register('c')\n",
    "        \n",
    "\n",
    "W_states.x(q[2]) #start is |100>\n",
    "F_gate(W_states,q,2,1,3,1) # Applying F12\n",
    "F_gate(W_states,q,1,0,3,2) # Applying F23\n",
    "       \n",
    "for i in range(3) :\n",
    "    W_states.measure(q[i] , c[i]) \n",
    "\n",
    "circuits = ['W_states']\n",
    "\n",
    "shots = 1024\n",
    "time_exp = time.strftime('%d/%m/%Y %H:%M:%S')\n",
    "print('start W state 3-qubit (steps 1 + 2) on', backend, \"N=\", shots,time_exp)\n",
    "result = Q_program.execute(circuits, backend=backend, shots=shots, max_credits=5, wait=5, timeout=600)\n",
    "time_exp = time.strftime('%d/%m/%Y %H:%M:%S')\n",
    "print('end   W state 3-qubit (steps 1 + 2) on', backend, \"N=\", shots,time_exp)\n",
    "plot_histogram(result.get_counts('W_states'))"
   ]
  },
  {
   "cell_type": "markdown",
   "metadata": {},
   "source": [
    "## Three-qubit W state, full circuit\n",
    "\n",
    "In the previous step, we got an histogram compatible with the state:\n",
    "\n",
    "$$ |\\varphi_{2} \\rangle =F_{2,3}\\,  \\, |\\varphi_{1} \\rangle=F_{2,3}\\,  \\, (\\frac{1}{\\sqrt{3}} \\: |1 0 0 \\rangle \\: + \\sqrt{\\frac{2}{3}} \\: |1 1 0 )= \\frac{1}{\\sqrt{3}} \\: (|1 0 0 \\rangle \\: +  |1 1 0 \\:\\rangle +  |1 1 1\\rangle) $$\n",
    "\n",
    "NB: Again, depending on the backend, it happens that the order of the qubits is modified, but without consequence for the state finally reached.\n",
    "\n",
    "It looks like we are nearing the goal.\n",
    "\n",
    "Indeed, two $cNOT$ gates will make it possible to create a W state.\n",
    "\n",
    "Run the following cell to see what happens. Did we succeed?"
   ]
  },
  {
   "cell_type": "code",
   "execution_count": 8,
   "metadata": {},
   "outputs": [
    {
     "name": "stdout",
     "output_type": "stream",
     "text": [
      "start W state 3-qubit on local_qiskit_simulator N= 1024 03/04/2018 09:25:46\n",
      "end   W state 3-qubit on local_qiskit_simulator N= 1024 03/04/2018 09:25:46\n"
     ]
    },
    {
     "data": {
      "image/png": "[encoded data removed]",
      "text/plain": [
       "<matplotlib.figure.Figure at 0x7fa96d48d358>"
      ]
     },
     "metadata": {},
     "output_type": "display_data"
    }
   ],
   "source": [
    "# 3-qubit W state\n",
    "\n",
    "Q_program = QuantumProgram(specs=QPS_SPECS)\n",
    "#Q_program.set_api(Qconfig.APItoken, Qconfig.config['url'])   \n",
    "W_states = Q_program.get_circuit('W_states') \n",
    "q = Q_program.get_quantum_register('q') \n",
    "c = Q_program.get_classical_register('c')\n",
    "\n",
    "W_states.x(q[2]) #start is |100>\n",
    "F_gate(W_states,q,2,1,3,1) # Applying F12\n",
    "F_gate(W_states,q,1,0,3,2) # Applying F23\n",
    "\n",
    "if flag_qx2 : # option ibmqx2 \n",
    "    W_states.cx(q[1],q[2]) # cNOT 21\n",
    "    W_states.cx(q[0],q[1]) # cNOT 32\n",
    "    \n",
    "else :        # option ibmqx4  \n",
    "    cxrv(W_states,q,1,2)\n",
    "    cxrv(W_states,q,0,1)\n",
    "\n",
    "for i in range(3) :\n",
    "    W_states.measure(q[i] , c[i]) \n",
    "    \n",
    "circuits = ['W_states']\n",
    "\n",
    "shots = 1024\n",
    "time_exp = time.strftime('%d/%m/%Y %H:%M:%S')\n",
    "print('start W state 3-qubit on', backend, \"N=\", shots,time_exp)\n",
    "result = Q_program.execute(circuits, backend=backend, shots=shots, max_credits=5, wait=5, timeout=600)\n",
    "time_exp = time.strftime('%d/%m/%Y %H:%M:%S')\n",
    "print('end   W state 3-qubit on', backend, \"N=\", shots,time_exp)\n",
    "plot_histogram(result.get_counts('W_states'))"
   ]
  },
  {
   "cell_type": "markdown",
   "metadata": {},
   "source": [
    "Now you get an histogram compatible with the final state $|W_{3}\\rangle$ through the following steps:\n",
    "\n",
    "$$ |\\varphi_{3} \\rangle =  cNOT_{2,1}\\,  \\, |\\varphi_{2} \\rangle =cNOT_{2,1}\\,\\frac{1}{\\sqrt{3}} \\: (|1 0 0 \\rangle \\: +  |1 1 0 \\rangle\\: +  |1 1 1\\rangle)  =  \\frac{1}{\\sqrt{3}} \\: (|1 0 0 \\rangle \\: +  |0 1 0 \\: +  |0 1 1\\rangle) $$\n",
    "\n",
    "$$ |W_{3} \\rangle =  cNOT_{3,2}\\, \\, |\\varphi_{3} \\rangle =cNOT_{3,2}\\,\\frac{1}{\\sqrt{3}} \\: (|1 0 0 \\rangle \\: +  |010 \\: \\rangle+  |0 1 1\\rangle)  =  \\frac{1}{\\sqrt{3}} \\: (|1 0 0 \\rangle \\: +  |0 1 0 \\: +  |0 0 1\\rangle) $$\n",
    "\n",
    "Bingo!"
   ]
  },
  {
   "cell_type": "markdown",
   "metadata": {},
   "source": [
    "## Four-qubit W state\n",
    "\n",
    "In this section, the production of a four-qubit W state will be obtained by extending the previous circuit.\n",
    "\n",
    "In this circuit, the starting state is now: $ |\\varphi_{0} \\rangle \\, = \\, |1000\\rangle$.\n",
    "\n",
    "A $F$ gate was added at the beginning of the circuit and a $cNOT$ gate was added before the measurement phase.\n",
    "\n",
    "The entire circuit corresponds to:\n",
    "\n",
    "$$ |W_{4}\\rangle \\,=\\, cNOT_{4,3}\\,  \\, cNOT_{3,2}\\,  \\, cNOT_{2,1}\\,  \\, F_{3,4} \\, \\, F_{2,3} \\,  \\, F_{1,2} \\,  \\,|\\varphi_{0} \\rangle \\, $$  \n",
    "\n",
    "Run the following circuit and see what happens."
   ]
  },
  {
   "cell_type": "code",
   "execution_count": 9,
   "metadata": {
    "scrolled": false
   },
   "outputs": [
    {
     "name": "stdout",
     "output_type": "stream",
     "text": [
      "start W state 4-qubit  local_qiskit_simulator N= 1024 03/04/2018 09:26:01\n",
      "end   W state 4-qubit on local_qiskit_simulator N= 1024 03/04/2018 09:26:01\n"
     ]
    },
    {
     "data": {
      "image/png": "[encoded data removed]",
      "text/plain": [
       "<matplotlib.figure.Figure at 0x7fa965efd240>"
      ]
     },
     "metadata": {},
     "output_type": "display_data"
    }
   ],
   "source": [
    "# 4-qubit W state\n",
    "\n",
    "Q_program = QuantumProgram(specs=QPS_SPECS)\n",
    "# Q_program.set_api(Qconfig.APItoken, Qconfig.config['url'])  \n",
    "W_states = Q_program.get_circuit('W_states') \n",
    "q = Q_program.get_quantum_register('q') \n",
    "c = Q_program.get_classical_register('c')\n",
    "\n",
    "W_states.x(q[3]) #start is |1000>\n",
    "F_gate(W_states,q,3,2,4,1) # Applying F12\n",
    "F_gate(W_states,q,2,1,4,2) # Applying F23\n",
    "F_gate(W_states,q,1,0,4,3) # Applying F34        \n",
    "cxrv(W_states,q,2,3) # cNOT 21\n",
    "if flag_qx2 : # option ibmqx2  \n",
    "    W_states.cx(q[1],q[2]) # cNOT 32\n",
    "    W_states.cx(q[0],q[1]) # cNOT 43\n",
    "\n",
    "else :        # option ibmqx4 \n",
    "    cxrv(W_states,q,1,2)\n",
    "    cxrv(W_states,q,0,1)\n",
    "\n",
    "for i in range(4) :\n",
    "    W_states.measure(q[i] , c[i]) \n",
    "\n",
    "circuits = ['W_states']\n",
    "\n",
    "shots = 1024\n",
    "time_exp = time.strftime('%d/%m/%Y %H:%M:%S')\n",
    "print('start W state 4-qubit ', backend, \"N=\", shots,time_exp)\n",
    "result = Q_program.execute(circuits, backend=backend, shots=shots, max_credits=5, wait=5, timeout=600)\n",
    "time_exp = time.strftime('%d/%m/%Y %H:%M:%S')\n",
    "print('end   W state 4-qubit on', backend, \"N=\", shots,time_exp)\n",
    "plot_histogram(result.get_counts('W_states'))"
   ]
  },
  {
   "cell_type": "markdown",
   "metadata": {},
   "source": [
    "Now, if you used a simulator, you get an histogram clearly compatible with the state:\n",
    "\n",
    "$$ |W_{4}\\rangle \\;=\\; \\frac{1}{2} \\: (\\:|1000\\rangle  +  |0100\\rangle  + |0010\\rangle + |0001\\rangle \\:) $$\n",
    "\n",
    "If you used a real quantum computer, the columns of the histogram compatible with a $|W_{4}\\rangle$ state are not all among the highest one. Errors are spreading..."
   ]
  },
  {
   "cell_type": "markdown",
   "metadata": {},
   "source": [
    "## Five-qubit W state\n",
    "\n",
    "In this section, a five-qubit W state will be obtained, again by extending the previous circuit.\n",
    "\n",
    "In this circuit, the starting state is now: $ |\\varphi_{0} \\rangle  =  |10000\\rangle$.\n",
    "\n",
    "A $F$ gate was added at the beginning of the circuit and an additionnal $cNOT$ gate was added before the measurement phase.\n",
    "\n",
    "$$ |W_{5}\\rangle = cNOT_{5,4}   cNOT_{4,3}   cNOT_{3,2}   cNOT_{2,1}  F_{4,5}   F_{3,4}   F_{2,3}    F_{1,2}   |\\varphi_{0} \\rangle  $$\n",
    "\n",
    "Run the following cell and see what happens."
   ]
  },
  {
   "cell_type": "code",
   "execution_count": 10,
   "metadata": {},
   "outputs": [
    {
     "name": "stdout",
     "output_type": "stream",
     "text": [
      "start W state 5-qubit on local_qiskit_simulator N= 1024 03/04/2018 09:26:17\n",
      "end   W state 5-qubit on local_qiskit_simulator N= 1024 03/04/2018 09:26:18\n"
     ]
    },
    {
     "data": {
      "image/png": "[encoded data removed]",
      "text/plain": [
       "<matplotlib.figure.Figure at 0x7fa96442c1d0>"
      ]
     },
     "metadata": {},
     "output_type": "display_data"
    }
   ],
   "source": [
    "# 5-qubit W state\n",
    "\n",
    "Q_program = QuantumProgram(specs=QPS_SPECS)\n",
    "#Q_program.set_api(Qconfig.APItoken, Qconfig.config['url'])  \n",
    "W_states = Q_program.get_circuit('W_states') \n",
    "q = Q_program.get_quantum_register('q') \n",
    "c = Q_program.get_classical_register('c')\n",
    "\n",
    "W_states.x(q[4]) #start is |10000>\n",
    "F_gate(W_states,q,4,3,5,1) # Applying F12\n",
    "F_gate(W_states,q,3,2,5,2) # Applying F23\n",
    "F_gate(W_states,q,2,1,5,3) # Applying F34\n",
    "F_gate(W_states,q,1,0,5,4) # Applying F45\n",
    "W_states.cx(q[3],q[4]) # cNOT 21\n",
    "cxrv(W_states,q,2,3)   # cNOT 32\n",
    "if flag_qx2 : # option ibmqx2 \n",
    "    W_states.cx(q[1],q[2]) # cNOT 43\n",
    "    W_states.cx(q[0],q[1]) # cNOT 54\n",
    "    \n",
    "else :        # option ibmqx4 \n",
    "    cxrv(W_states,q,1,2)\n",
    "    cxrv(W_states,q,0,1)     \n",
    "    \n",
    "for i in range(5) :\n",
    "    W_states.measure(q[i] , c[i]) \n",
    "\n",
    "circuits = ['W_states']\n",
    "\n",
    "shots = 1024\n",
    "time_exp = time.strftime('%d/%m/%Y %H:%M:%S')\n",
    "print('start W state 5-qubit on', backend, \"N=\", shots,time_exp)\n",
    "result = Q_program.execute(circuits, backend=backend, shots=shots, max_credits=5, wait=5, timeout=1200)\n",
    "time_exp = time.strftime('%d/%m/%Y %H:%M:%S')\n",
    "print('end   W state 5-qubit on', backend, \"N=\", shots,time_exp)\n",
    "plot_histogram(result.get_counts('W_states'))"
   ]
  },
  {
   "cell_type": "markdown",
   "metadata": {},
   "source": [
    "Now, if you used the simulator, you see an histogram compatible with the state:\n",
    "\n",
    "$$|W_{5}\\rangle=\\frac{1}{\\sqrt{5}}\\:(\\:|10000\\rangle  +  |01000\\rangle  + |00100\\rangle +|00010\\rangle\\  +|00001\\rangle)$$\n",
    "\n",
    "But if you were running the program on one of the available real quantum computers, things are still less clear than in the previous case."
   ]
  },
  {
   "cell_type": "markdown",
   "metadata": {
    "collapsed": true
   },
   "source": [
    "## Conclusion:\n",
    "\n",
    "When the quantum computer simulator is used, the results accurately reflect the expected spectrum of frequency corresponding to a given $n$ value.\n",
    "\n",
    "For $n = 3$ on a real quantum computer, the results are obviously in accordance with W states.\n",
    "\n",
    "The errors amplify significantly for higher $n$ values, but the histogram shows the persistence of some frequency peaks compatible with W states creation.\n",
    "\n",
    "One cause of errors is the increasing number of gates. Even for an ideal quantum computer, where all the qubits are connected together bidirectionally, the number of elementary gates necessary for building the $F$ gates increases linearly with n, just like the number of late $cNOT$ in this model. Another cause of error is the interval between successive values of $\\theta_{k}$. Indeed these intervals decreases significantly for lower $k$ as $n$ increases.\n"
   ]
  },
   {
   "cell_type": "markdown",
   "metadata": {
    "collapsed": true
   },
   "source": [
    "## Mathematical appendix :\n",
    "\n",
    "The operator allowing to deterministically obtain a n-qubit W state from the starting state $\\, |00...0 \\rangle$ can be coined a $W_{n}$ gate.\n",
    "\n",
    "For a three-qubit W state, the equation in Dirac notation is:\n",
    "\n",
    "$$W_{3}\\;\\, |000 \\rangle=\\sqrt{\\frac{1}{3}}(|100\\rangle + |010\\rangle + |001\\rangle)$$\n",
    "\n",
    "which becomes in matrix notation:\n",
    "\n",
    "$$\\begin{pmatrix}0 & 0 & 0 & 0 & \\;\\;1\\;\\; & 0 & 0 & 0\\\\\\sqrt{\\frac{1}{3}} & -\\sqrt{\\frac{1}{3}} & -\\sqrt{\\frac{1}{6}} & \\sqrt{\\frac{1}{6}} & 0 & 0 & 0 & 0\\\\\\sqrt{\\frac{1}{3}} & \\sqrt{\\frac{1}{3}} & -\\sqrt{\\frac{1}{6}} & -\\sqrt{\\frac{1}{6}} & 0 & 0 & 0 & 0\\\\0 & 0 & 0 & 0 & 0 & \\;\\;1\\;\\; & 0 & 0\\\\\\sqrt{\\frac{1}{3}} & 0 & \\sqrt{\\frac{2}{3}}\n",
    " & 0 & 0 & 0 & 0 & 0\\\\0 & 0 & 0 & 0 & 0 & 0 & \\sqrt{\\frac{1}{2}}\n",
    " & -\\sqrt{\\frac{1}{2}}\\\\0 & 0 & 0 & 0 & 0 & 0 & \\sqrt{\\frac{1}{2}} & \\sqrt{\\frac{1}{2}}\\\\0 & \\sqrt{\\frac{1}{3}} & 0 & \\sqrt{\\frac{2}{3}}\n",
    " & 0 & 0 & 0 & 0\\end{pmatrix} \\;\n",
    " \\begin{pmatrix}1\\\\0\\\\0\\\\0\\\\0\\\\0\\\\0\\\\0\\end{pmatrix} = \n",
    " \\begin{pmatrix}0\\\\\\sqrt{\\frac{1}{3}}\\\\\\sqrt{\\frac{1}{3}}\\\\0\\\\\\sqrt{\\frac{1}{3}}\\\\0\\\\0\\\\0\\end{pmatrix}$$\n",
    " \n",
    " One can easily verify that:\n",
    " \n",
    " $$W_{3}^{\\dagger}W_{3} = I$$\n",
    " \n",
    " and that there is reversibility:\n",
    " \n",
    " $$W_{3}^{\\dagger}\\;\\, \\sqrt{\\frac{1}{3}}(|100\\rangle + |010\\rangle + |001\\rangle) = |000 \\rangle$$"
   ]
  },
  {
   "cell_type": "code",
   "execution_count": null,
   "metadata": {
    "collapsed": true
   },
   "outputs": [],
   "source": []
  }
 ],
 "metadata": {
  "anaconda-cloud": {},
  "kernelspec": {
   "display_name": "QISKitenv",
   "language": "python",
   "name": "qiskitenv"
  },
  "language_info": {
   "codemirror_mode": {
    "name": "ipython",
    "version": 3
   },
   "file_extension": ".py",
   "mimetype": "text/x-python",
   "name": "python",
   "nbconvert_exporter": "python",
   "pygments_lexer": "ipython3",
   "version": "3.6.2"
  }
 },
 "nbformat": 4,
 "nbformat_minor": 1
}
