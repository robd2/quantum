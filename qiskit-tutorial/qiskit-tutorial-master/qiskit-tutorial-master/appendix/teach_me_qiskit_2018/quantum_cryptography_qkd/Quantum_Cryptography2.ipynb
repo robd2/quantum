{
 "cells": [
  {
   "cell_type": "markdown",
   "metadata": {
    "colab_type": "text",
    "id": "3ZyGwuu2THJe"
   },
   "source": [
    "# Quantum Cryptography: Quantum Key Distribution\n",
    "***\n",
    "### Contributors:\n",
    "A.J. Rasmusson, Richard Barney"
   ]
  },
  {
   "cell_type": "markdown",
   "metadata": {},
   "source": [
    "Have you ever wanted to send a super secret message to a friend? Then you need a key to encrypt your message, and your friend needs the same key to decrypt your message. But, how do you send a super secret key to your friend without your eavesdropping enemies finding out what it is? Businesses and governments face this problem every day. People are always innovating new ways to intercept personal data or other sensitive information. Ideally, we'd like to find a way to share information that cannot be intercepted. [Quantum key distribution](https://en.wikipedia.org/wiki/Quantum_key_distribution) (QKD) was created as a solution to this problem. In this tutorial, you'll learn about and implement a version of the [BB84 QKD protocol](https://en.wikipedia.org/wiki/BB84), developed by Bennet and Brassard, to generate a secure, [one-time pad](https://en.wikipedia.org/wiki/One-time_pad) encryption key.\n",
    "\n",
    "Quantum key distribution is all about making the right information publicly known at the right times (and keeping the secret information secret). This tutorial will take you through a quantum key distribution between you (Alice) and your friend Bob. After you get a feel for the ropes by sending your first encrypted message to Bob, we'll introduce Eve--your eavesdropping enemy. You'll learn how to detect Eve's presence and thus prevent her from intercepting your super secret key and decrypting your messages."
   ]
  },
  {
   "cell_type": "code",
   "execution_count": 1,
   "metadata": {
    "colab": {
     "autoexec": {
      "startup": false,
      "wait_interval": 0
     }
    },
    "colab_type": "code",
    "id": "T3qQV_nqTHJf"
   },
   "outputs": [],
   "source": [
    "#import all the packages\n",
    "\n",
    "# Checking the version of PYTHON\n",
    "import sys\n",
    "if sys.version_info < (3,5):\n",
    "    raise Exception('Please use Python version 3.5 or greater.')\n",
    "\n",
    "#append to system path so qiskit and Qconfig can be found from home directory\n",
    "sys.path.append('../qiskit-sdk-py/')\n",
    "\n",
    "# Import the QuantumProgram and configuration\n",
    "from qiskit import QuantumProgram\n",
    "#import Qconfig\n",
    "\n",
    "#other useful packages\n",
    "import math"
   ]
  },
  {
   "cell_type": "markdown",
   "metadata": {
    "colab_type": "text",
    "id": "c2SrYcAzWvr2"
   },
   "source": [
    "## Part 1: Encrypting and Decrypting a Message"
   ]
  },
  {
   "cell_type": "markdown",
   "metadata": {
    "colab_type": "text",
    "id": "ISN-rAsOTHJi"
   },
   "source": [
    "### Pick Your Super Secret Message\n",
    "The super secret message you want to send must be the same or less than the length of the super secret key.\n",
    "\n",
    "If the key is shorter than the message, you will be forced to use parts of the key more than once. This may allow your lurking enemies to pick up a pattern in your encrypted message and possibly decrypt it. (As you'll see later on, we need to start out with a key at least double the number of characters used in your message. For now, don't worry about those details, pick your message! For this tutorial, we picked the initial key to be 3x greater--just to be safe.) Enter your message on the line below which reads \"mes = \"."
   ]
  },
  {
   "cell_type": "code",
   "execution_count": 2,
   "metadata": {
    "colab": {
     "autoexec": {
      "startup": false,
      "wait_interval": 0
     },
     "base_uri": "https://localhost:8080/",
     "height": 51,
     "output_extras": [
      {
       "item_id": 1
      }
     ]
    },
    "colab_type": "code",
    "executionInfo": {
     "elapsed": 318,
     "status": "ok",
     "timestamp": 1522270875378,
     "user": {
      "displayName": "Aj Rasmusson",
      "photoUrl": "//lh5.googleusercontent.com/-Ny7-iz7VJ9o/AAAAAAAAAAI/AAAAAAAAEe0/IgVrdTnsS7Y/s50-c-k-no/photo.jpg",
      "userId": "109891151268866993124"
     },
     "user_tz": 360
    },
    "id": "764bfF7mfd6e",
    "outputId": "a08f86b9-407c-4383-d4a0-54e4e855b2d6"
   },
   "outputs": [
    {
     "name": "stdout",
     "output_type": "stream",
     "text": [
      "Your super secret message:  hello world\n",
      "Initial key length:  33\n"
     ]
    }
   ],
   "source": [
    "#Super secret message\n",
    "mes = 'hello world'\n",
    "print('Your super secret message: ',mes)\n",
    "\n",
    "#initial size of key\n",
    "n = len(mes)*3\n",
    "\n",
    "#break up message into smaller parts if length > 10\n",
    "nlist = []\n",
    "for i in range(int(n/10)):\n",
    "    nlist.append(10)\n",
    "if n%10 != 0:\n",
    "    nlist.append(n%10)\n",
    "\n",
    "print('Initial key length: ',n)"
   ]
  },
  {
   "cell_type": "markdown",
   "metadata": {
    "colab_type": "text",
    "id": "j0Y9ZghAWzqk"
   },
   "source": [
    "### The Big Picture\n",
    "Now that you (Alice) have the key, here's the big question: how are we going to get your key to Bob without eavesdroppers intercepting it? Quantum key distribution! Here are the steps and big picture (the effects of eavesdropping will be discussed later on):\n",
    "1. You (Alice) generate a random string--the key you wish to give to Bob.\n",
    "2. You (Alice) convert your string bits into corresponding qubits.\n",
    "3. You (Alice) send those qubits to Bob, BUT! you randomly rotate some into a superposition. This effectively turns your key into random noise. (This is good because your lurking enemies might measure your qubits.)\n",
    "4. Bob receives yours qubits AND randomly rotates some qubits in the opposite direction before measuring.\n",
    "5. Alice and Bob publicly share which qubits they rotated. When they both did the same thing (either both did nothing or both rotated), they know the original key bit value made it to Bob! (Overall, you can see that only some of the bits from Alice's original key should make it.)\n",
    "6. Alice and Bob create their keys. Alice modifies her original key by keeping only the bits that she knows made it to Bob. Bob does the same.\n",
    "\n",
    "Alice and Bob now have matching keys! They can now use this key to encrypt and decrypt their messages.\n",
    "\n",
    "<img src='QKDnoEve.png'>\n",
    "Here we see Alice sending the initial key to Bob. She sends her qubits and rotates them based on her rotation string. Bob rotates the incoming qubits based on his rotation string and measures the qubits."
   ]
  },
  {
   "cell_type": "markdown",
   "metadata": {
    "colab_type": "text",
    "id": "xmDNctysTHJj"
   },
   "source": [
    "### Step 1: Alice Generates a Random Key\n",
    "You and your friend need a super secret key so you can encrypt your message and your friend can decrypt it. Let's make a key--a pure random key.\n",
    "\n",
    "To make a purely random string, we'll use quantum superposition. A qubit in the xy-plane of the [Bloch sphere](https://quantumexperience.ng.bluemix.net/qx/tutorial?sectionId=beginners-guide&page=004-The_Weird_and_Wonderful_World_of_the_Qubit~2F001-The_Weird_and_Wonderful_World_of_the_Qubit) is in a 50-50 [superposition](https://quantumexperience.ng.bluemix.net/qx/tutorial?sectionId=beginners-guide&page=005-Single-Qubit_Gates~2F002-Creating_superposition); 50% of the time it'll be measured as 0, and 50% of the time it'll be measured as 1. We have Alice prepare several qubits like this and measure them to generate a purely random string of 1s and 0s."
   ]
  },
  {
   "cell_type": "code",
   "execution_count": 3,
   "metadata": {
    "colab": {
     "autoexec": {
      "startup": false,
      "wait_interval": 0
     }
    },
    "colab_type": "code",
    "id": "F1eTyd6XTHJk"
   },
   "outputs": [],
   "source": [
    "# Make random strings of length string_length\n",
    "\n",
    "def randomStringGen(string_length):\n",
    "    #output variables used to access quantum computer results at the end of the function\n",
    "    output_list = []\n",
    "    output = ''\n",
    "    \n",
    "    #start up your quantum program\n",
    "    qp = QuantumProgram()\n",
    "    backend = 'local_qasm_simulator'  \n",
    "    circuits = ['rs']\n",
    "    \n",
    "    #run circuit in batches of 10 qubits for fastest results. The results\n",
    "    #from each run will be appended and then clipped down to the right n size.\n",
    "    n = string_length\n",
    "    temp_n = 10\n",
    "    temp_output = ''\n",
    "    for i in range(math.ceil(n/temp_n)):\n",
    "        #initialize quantum registers for circuit\n",
    "        q = qp.create_quantum_register('q',temp_n)\n",
    "        c = qp.create_classical_register('c',temp_n)\n",
    "        rs = qp.create_circuit('rs',[q],[c])\n",
    "            \n",
    "        #create temp_n number of qubits all in superpositions\n",
    "        for i in range(temp_n):\n",
    "            rs.h(q[i]) #the .h gate is the Hadamard gate that makes superpositions\n",
    "            rs.measure(q[i],c[i])\n",
    "\n",
    "        #execute circuit and extract 0s and 1s from key\n",
    "        result = qp.execute(circuits, backend, shots=1)\n",
    "        counts = result.get_counts('rs')\n",
    "        result_key = list(result.get_counts('rs').keys())\n",
    "        temp_output = result_key[0]\n",
    "        output += temp_output\n",
    "        \n",
    "    #return output clipped to size of desired string length\n",
    "    return output[:n]"
   ]
  },
  {
   "cell_type": "code",
   "execution_count": 4,
   "metadata": {
    "colab": {
     "autoexec": {
      "startup": false,
      "wait_interval": 0
     }
    },
    "colab_type": "code",
    "id": "ESW3Iz0yXCLn"
   },
   "outputs": [
    {
     "name": "stdout",
     "output_type": "stream",
     "text": [
      "Initial key:  111111000111011000011100011001111\n"
     ]
    }
   ],
   "source": [
    "key = randomStringGen(n)\n",
    "print('Initial key: ',key)"
   ]
  },
  {
   "cell_type": "markdown",
   "metadata": {
    "colab_type": "text",
    "id": "92XYZDkEgCLg"
   },
   "source": [
    "### Steps 2-4: Send Alice's Qubits to Bob\n",
    "Alice turns her key bits into corresponding qubit states. If a bit is a 0 she will prepare a qubit on the negative z axis. If the bit is a 1 she will prepare a qubit on the positive z axis. Next, if Alice has a 1 in her rotate string, she rotates her key qubit with a [Hadamard](https://quantumexperience.ng.bluemix.net/qx/tutorial?sectionId=beginners-guide&page=005-Single-Qubit_Gates~2F002-Creating_superposition) gate. She then sends the qubit to Bob. If Bob has a 1 in his rotate string, he rotates the incoming qubit in the opposite direction with a Hadamard gate. Bob then measures the state of the qubit and records the result. The quantum circuit below executes each of these steps."
   ]
  },
  {
   "cell_type": "code",
   "execution_count": 5,
   "metadata": {
    "colab": {
     "autoexec": {
      "startup": false,
      "wait_interval": 0
     }
    },
    "colab_type": "code",
    "id": "PUiuyPV7THJn"
   },
   "outputs": [
    {
     "name": "stdout",
     "output_type": "stream",
     "text": [
      "Alice's rotation string: 110110100010110010011100011000010\n",
      "Bob's rotation string:   010101100000101010010101111010111\n",
      "Bob's results:  011100000101011000010101011011010\n"
     ]
    }
   ],
   "source": [
    "#generate random rotation strings for Alice and Bob\n",
    "Alice_rotate = randomStringGen(n)\n",
    "Bob_rotate = randomStringGen(n)\n",
    "print(\"Alice's rotation string:\",Alice_rotate)\n",
    "print(\"Bob's rotation string:  \",Bob_rotate)\n",
    "\n",
    "#start up your quantum program\n",
    "backend = 'local_qasm_simulator'  \n",
    "shots = 1\n",
    "circuits = ['send_over']\n",
    "Bob_result = ''\n",
    "\n",
    "for ind,l in enumerate(nlist):\n",
    "    #define temp variables used in breaking up quantum program if message length > 10\n",
    "    if l < 10:\n",
    "        key_temp = key[10*ind:10*ind+l]\n",
    "        Ar_temp = Alice_rotate[10*ind:10*ind+l]\n",
    "        Br_temp = Bob_rotate[10*ind:10*ind+l]\n",
    "    else:\n",
    "        key_temp = key[l*ind:l*(ind+1)]\n",
    "        Ar_temp = Alice_rotate[l*ind:l*(ind+1)]\n",
    "        Br_temp = Bob_rotate[l*ind:l*(ind+1)]\n",
    "    \n",
    "    #start up the rest of your quantum program\n",
    "    qp2 = QuantumProgram()\n",
    "    q = qp2.create_quantum_register('q',l)\n",
    "    c = qp2.create_classical_register('c',l)\n",
    "    send_over = qp2.create_circuit('send_over',[q],[c])\n",
    "    \n",
    "    #prepare qubits based on key; add Hadamard gates based on Alice's and Bob's\n",
    "    #rotation strings\n",
    "    for i,j,k,n in zip(key_temp,Ar_temp,Br_temp,range(0,len(key_temp))):\n",
    "        i = int(i)\n",
    "        j = int(j)\n",
    "        k = int(k)\n",
    "        if i > 0:\n",
    "            send_over.x(q[n])\n",
    "        #Look at Alice's rotation string\n",
    "        if j > 0:\n",
    "            send_over.h(q[n])\n",
    "        #Look at Bob's rotation string\n",
    "        if k > 0:\n",
    "            send_over.h(q[n])\n",
    "        send_over.measure(q[n],c[n])\n",
    "\n",
    "    #execute quantum circuit\n",
    "    result_so = qp2.execute(circuits, backend, shots=shots)\n",
    "    counts_so = result_so.get_counts('send_over')\n",
    "    result_key_so = list(result_so.get_counts('send_over').keys())\n",
    "    Bob_result += result_key_so[0][::-1]\n",
    "    \n",
    "print(\"Bob's results: \", Bob_result)"
   ]
  },
  {
   "cell_type": "markdown",
   "metadata": {
    "colab_type": "text",
    "id": "nAROLS7tTHJp"
   },
   "source": [
    "### Steps 5-6: Compare Rotation Strings and Make Keys\n",
    "Alice and Bob can now generate a secret quantum encryption key. First, they publicly share their rotation strings. If a bit in Alice's rotation string is the same as the corresponding bit in Bob's they know that Bob's result is the same as what Alice sent. They keep these bits to form the new key. (Alice based on her original key and Bob based on his measured results)."
   ]
  },
  {
   "cell_type": "code",
   "execution_count": 6,
   "metadata": {
    "colab": {
     "autoexec": {
      "startup": false,
      "wait_interval": 0
     }
    },
    "colab_type": "code",
    "id": "SzpzVFZcTHJq"
   },
   "outputs": [
    {
     "name": "stdout",
     "output_type": "stream",
     "text": [
      "Alice's key: 111000110000011011011\n",
      "Bob's key:   111000110000011011011\n"
     ]
    }
   ],
   "source": [
    "def makeKey(rotation1,rotation2,results):\n",
    "    key = ''\n",
    "    count = 0\n",
    "    for i,j in zip(rotation1,rotation2):\n",
    "        if i == j:\n",
    "            key += results[count]\n",
    "        count += 1\n",
    "    return key\n",
    "  \n",
    "Akey = makeKey(Bob_rotate,Alice_rotate,key)\n",
    "Bkey = makeKey(Bob_rotate,Alice_rotate,Bob_result)\n",
    "\n",
    "print(\"Alice's key:\",Akey)\n",
    "print(\"Bob's key:  \",Bkey)"
   ]
  },
  {
   "cell_type": "markdown",
   "metadata": {
    "colab_type": "text",
    "id": "kgtn-jXxTHJs"
   },
   "source": [
    "### Pause\n",
    "We see that using only the public knowledge of Bob's and Alice's rotation strings, Alice and Bob can create the same identical key based on Alice's initial random key and Bob's results. Wow!! :D\n",
    "\n",
    "<strong>If Alice's and Bob's key length is less than the message</strong>, the encryption is compromised. If this is the case for you, rerun all the cells above and see if you get a longer key. (We set the initial key length to 3x the message length to avoid this, but it's still possible.)"
   ]
  },
  {
   "cell_type": "markdown",
   "metadata": {
    "colab_type": "text",
    "id": "o6sBB8Fdha9Z"
   },
   "source": [
    "### Encrypt (and decrypt) using quantum key\n",
    "We can now use our super secret key to encrypt and decrypt messages!! (of length less than the key). Note: the below \"encryption\" method is not powerful and should not be used for anything you want secure; it's just for fun. In real life, the super secret key you made and shared with Bob would be used in a much more sophisticated encryption algorithm."
   ]
  },
  {
   "cell_type": "code",
   "execution_count": 7,
   "metadata": {
    "colab": {
     "autoexec": {
      "startup": false,
      "wait_interval": 0
     }
    },
    "colab_type": "code",
    "id": "U2dl6qRHhXrD"
   },
   "outputs": [
    {
     "name": "stdout",
     "output_type": "stream",
     "text": [
      "encoded message:   ÊÇÎÌÏÙÑÒÌÄ\n",
      "recovered message: hello world\n"
     ]
    }
   ],
   "source": [
    "#make key same length has message\n",
    "shortened_Akey = Akey[:len(mes)]\n",
    "encoded_m=''\n",
    "\n",
    "#encrypt message mes using encryption key final_key\n",
    "for m,k in zip(mes,shortened_Akey):\n",
    "    encoded_c = chr(ord(m) + 2*ord(k) % 256)\n",
    "    encoded_m += encoded_c\n",
    "print('encoded message:  ',encoded_m)\n",
    "\n",
    "#make key same length has message\n",
    "shortened_Bkey = Bkey[:len(mes)]\n",
    "\n",
    "#decrypt message mes using encryption key final_key\n",
    "result = ''\n",
    "for m,k in zip(encoded_m,shortened_Bkey):\n",
    "    encoded_c = chr(ord(m) - 2*ord(k) % 256)\n",
    "    result += encoded_c\n",
    "print('recovered message:',result)"
   ]
  },
  {
   "cell_type": "markdown",
   "metadata": {
    "colab_type": "text",
    "id": "8oCyXZdDTHJv"
   },
   "source": [
    "# Part 2: Eve the Eavesdropper\n",
    "What if someone  is eavesdropping on Alice and Bob's line of communication? This process of random string making and rotations using quantum mechanics is only useful if it's robust against eavesdroppers.\n",
    "\n",
    "Eve is your lurking enemy. She eavesdrops by intercepting your transmission to Bob. To be sneaky, Eve must send on the intercepted transmission--otherwise Bob will never receive anything and know that something is wrong!\n",
    "\n",
    "Let's explain further why Eve can be detected. If Eve intercepts a qubit from Alice, she will not know if Alice rotated its state or not. Eve can only measure a 0 or 1. And she can't measure the qubit and then send the same qubit on, because her measurement will destroy the quantum state. Consequently, Eve doesn't know when or when not to rotate to recreate Alice's original qubit. She may as well send on qubits that have not been rotated, hoping to get the rotation right 50% of the time. After she sends these qubits to Bob, Alice and Bob can compare select parts of their keys to see if they have discrepancies in places they should not.\n",
    "\n",
    "The scheme goes as follows:\n",
    "1. Alice sends her qubit transmission Bob--but Eve measures the results\n",
    "2. To avoid suspicion, Eve prepares qubits corresponding to the bits she measured and sends them to Bob.\n",
    "3. Bob and Alice make their keys like normal\n",
    "4. Alice and Bob randomly select the same parts of their keys to share publicly\n",
    "5. If the selected part of the keys don't match, they know Eve was eavesdropping\n",
    "6. If the selected part of the keys DO match, they can be confident Eve wasn't eavesdropping\n",
    "7. They throw away the part of the key they made public and encrypt and decrypt super secret messages with the portion of the key they have left.\n",
    "\n",
    "<img src=\"QKD.png\">\n",
    "Here we see Alice sending her qubits, rotationing them based on her rotation string, and Eve intercepting the transmittion. Eve then sending her results onto Bob who--like normal--rotates and measures the qubits."
   ]
  },
  {
   "cell_type": "markdown",
   "metadata": {
    "colab_type": "text",
    "id": "9EpsXR4jYaB3"
   },
   "source": [
    "### Step 1: Eve intercepts Alice's transmission\n",
    "\n",
    "The code below has Alice sending her qubits and Eve intercepting them. It then displays the results of Eve's measurements."
   ]
  },
  {
   "cell_type": "code",
   "execution_count": 8,
   "metadata": {
    "colab": {
     "autoexec": {
      "startup": false,
      "wait_interval": 0
     }
    },
    "colab_type": "code",
    "id": "qNwOqHMHTHJw"
   },
   "outputs": [
    {
     "name": "stdout",
     "output_type": "stream",
     "text": [
      "Eve's results:  001111000111011000000100010001101\n"
     ]
    }
   ],
   "source": [
    "#start up your quantum program\n",
    "backend = 'local_qasm_simulator'  \n",
    "shots = 1\n",
    "circuits = ['Eve']\n",
    "\n",
    "Eve_result = ''\n",
    "for ind,l in enumerate(nlist):\n",
    "    #define temp variables used in breaking up quantum program if message length > 10\n",
    "    if l < 10:\n",
    "        key_temp = key[10*ind:10*ind+l]\n",
    "        Ar_temp = Alice_rotate[10*ind:10*ind+l]\n",
    "    else:\n",
    "        key_temp = key[l*ind:l*(ind+1)]\n",
    "        Ar_temp = Alice_rotate[l*ind:l*(ind+1)]\n",
    "    \n",
    "    #start up the rest of your quantum program\n",
    "    qp3 = QuantumProgram()\n",
    "    q = qp3.create_quantum_register('q',l)\n",
    "    c = qp3.create_classical_register('c',l)\n",
    "    Eve = qp3.create_circuit('Eve',[q],[c])\n",
    "    \n",
    "    #prepare qubits based on key; add Hadamard gates based on Alice's and Bob's\n",
    "    #rotation strings\n",
    "    for i,j,n in zip(key_temp,Ar_temp,range(0,len(key_temp))):\n",
    "        i = int(i)\n",
    "        j = int(j)\n",
    "        if i > 0:\n",
    "            Eve.x(q[n])\n",
    "        if j > 0:\n",
    "            Eve.h(q[n])\n",
    "        Eve.measure(q[n],c[n])\n",
    "    \n",
    "    #execute\n",
    "    result_eve = qp3.execute(circuits, backend, shots=shots)\n",
    "    counts_eve = result_eve.get_counts('Eve')\n",
    "    result_key_eve = list(result_eve.get_counts('Eve').keys())\n",
    "    Eve_result += result_key_eve[0][::-1]\n",
    "\n",
    "print(\"Eve's results: \", Eve_result)"
   ]
  },
  {
   "cell_type": "markdown",
   "metadata": {
    "colab_type": "text",
    "id": "MZ760LVOTHJy"
   },
   "source": [
    "### Step 2: Eve deceives Bob\n",
    "Eve sends her measured qubits on to Bob to deceive him! Since she doesn't know which of the qubits she measured were in a superposition or not, she doesn't even know whether to send the exact values she measured or opposite values. In the end, sending on the exact values is just as good a deception as mixing them up again."
   ]
  },
  {
   "cell_type": "code",
   "execution_count": 9,
   "metadata": {
    "colab": {
     "autoexec": {
      "startup": false,
      "wait_interval": 0
     }
    },
    "colab_type": "code",
    "id": "oqC-K-LxTHJy"
   },
   "outputs": [
    {
     "name": "stdout",
     "output_type": "stream",
     "text": [
      "Bob's previous results (w/o Eve): 011100000101011000010101011011010\n",
      "Bob's results from Eve:\t\t  001011000111010000010000110001000\n"
     ]
    }
   ],
   "source": [
    "#start up your quantum program\n",
    "backend = 'local_qasm_simulator'  \n",
    "shots = 1\n",
    "circuits = ['Eve2']\n",
    "\n",
    "Bob_badresult = ''\n",
    "for ind,l in enumerate(nlist):\n",
    "    #define temp variables used in breaking up quantum program if message length > 10\n",
    "    if l < 10:\n",
    "        key_temp = key[10*ind:10*ind+l]\n",
    "        Eve_temp = Eve_result[10*ind:10*ind+l]\n",
    "        Br_temp = Bob_rotate[10*ind:10*ind+l]\n",
    "    else:\n",
    "        key_temp = key[l*ind:l*(ind+1)]\n",
    "        Eve_temp = Eve_result[l*ind:l*(ind+1)]\n",
    "        Br_temp = Bob_rotate[l*ind:l*(ind+1)]\n",
    "    \n",
    "    #start up the rest of your quantum program\n",
    "    qp4 = QuantumProgram()\n",
    "    q = qp4.create_quantum_register('q',l)\n",
    "    c = qp4.create_classical_register('c',l)\n",
    "    Eve2 = qp4.create_circuit('Eve2',[q],[c])\n",
    "    \n",
    "    #prepare qubits\n",
    "    for i,j,n in zip(Eve_temp,Br_temp,range(0,len(key_temp))):\n",
    "        i = int(i)\n",
    "        j = int(j)\n",
    "        if i > 0:\n",
    "            Eve2.x(q[n])\n",
    "        if j > 0:\n",
    "            Eve2.h(q[n])\n",
    "        Eve2.measure(q[n],c[n])\n",
    "    \n",
    "    #execute\n",
    "    result_eve = qp4.execute(circuits, backend, shots=shots)\n",
    "    counts_eve = result_eve.get_counts('Eve2')\n",
    "    result_key_eve = list(result_eve.get_counts('Eve2').keys())\n",
    "    Bob_badresult += result_key_eve[0][::-1]\n",
    "    \n",
    "print(\"Bob's previous results (w/o Eve):\",Bob_result)\n",
    "print(\"Bob's results from Eve:\\t\\t \",Bob_badresult)"
   ]
  },
  {
   "cell_type": "markdown",
   "metadata": {
    "colab_type": "text",
    "id": "iDxhbKkwf8FV"
   },
   "source": [
    "### Step 4: Spot Check\n",
    "Alice and Bob know Eve is lurking out there. They decide to pick a few random values from their individual keys and compare with each other. This requires making these subsections of their keys public (so the other can see them). If any of the values in their keys are different, they know Eve's eavesdropping messed up the superposition Alice originally created! If they find all the values are identical, they can be reasonably confident that Eve wasn't eavesdropping. Of course, making some random key values known to the public will require them to remove those values from their keys because those parts are no longer super secret. Also, Alice and Bob need to make sure they are sharing corresponding values from their respective keys.\n",
    "\n",
    "Let's make a check key. If the randomly generated check key is a one, Alice and Bob will compare that part of their keys with each other (aka make publicly known)."
   ]
  },
  {
   "cell_type": "code",
   "execution_count": 10,
   "metadata": {
    "colab": {
     "autoexec": {
      "startup": false,
      "wait_interval": 0
     }
    },
    "colab_type": "code",
    "id": "GECxwnVZgsp-"
   },
   "outputs": [
    {
     "name": "stdout",
     "output_type": "stream",
     "text": [
      "Alice's key:    111000110000011011011\n",
      "Bob's key:      010000110000010010010\n",
      "spots to check: 110011110011111101101\n"
     ]
    }
   ],
   "source": [
    "#make keys for Alice and Bob\n",
    "Akey = makeKey(Bob_rotate,Alice_rotate,key)\n",
    "Bkey = makeKey(Bob_rotate,Alice_rotate,Bob_badresult)\n",
    "print(\"Alice's key:   \",Akey)\n",
    "print(\"Bob's key:     \",Bkey)\n",
    "\n",
    "check_key = randomStringGen(len(Akey))\n",
    "print('spots to check:',check_key)"
   ]
  },
  {
   "cell_type": "markdown",
   "metadata": {
    "colab_type": "text",
    "id": "xnc9qJqAg0bC"
   },
   "source": [
    "### Steps 5-7: Compare strings and detect Eve\n",
    "Alice and Bob compare the subsections of their keys. If they notice any discrepancy, they know that Eve was trying to intercept their message. They create new keys by throwing away the parts they shared publicly. It's possible that by throwing these parts away, they will not have a key long enough to encrypt the message and they will have to try again."
   ]
  },
  {
   "cell_type": "code",
   "execution_count": 11,
   "metadata": {
    "colab": {
     "autoexec": {
      "startup": false,
      "wait_interval": 0
     }
    },
    "colab_type": "code",
    "id": "gNZhVcCcgxx_"
   },
   "outputs": [
    {
     "name": "stdout",
     "output_type": "stream",
     "text": [
      "subset of Alice's key: 110011000110101\n",
      "subset of Bob's key:   010011000100000\n",
      "Eve detected!\n"
     ]
    }
   ],
   "source": [
    "#find which values in rotation string were used to make the key\n",
    "Alice_keyrotate = makeKey(Bob_rotate,Alice_rotate,Alice_rotate)\n",
    "Bob_keyrotate = makeKey(Bob_rotate,Alice_rotate,Bob_rotate)\n",
    "\n",
    "# Detect Eve's interference\n",
    "#extract a subset of Alice's key\n",
    "sub_Akey = ''\n",
    "sub_Arotate = ''\n",
    "count = 0\n",
    "for i,j in zip(Alice_rotate,Akey):\n",
    "    if int(check_key[count]) == 1:\n",
    "        sub_Akey += Akey[count]\n",
    "        sub_Arotate += Alice_keyrotate[count]\n",
    "    count += 1\n",
    "\n",
    "#extract a subset of Bob's key\n",
    "sub_Bkey = ''\n",
    "sub_Brotate = ''\n",
    "count = 0\n",
    "for i,j in zip(Bob_rotate,Bkey):\n",
    "    if int(check_key[count]) == 1:\n",
    "        sub_Bkey += Bkey[count]\n",
    "        sub_Brotate += Bob_keyrotate[count]\n",
    "    count += 1\n",
    "print(\"subset of Alice's key:\",sub_Akey)\n",
    "print(\"subset of Bob's key:  \",sub_Bkey)\n",
    "\n",
    "#compare Alice and Bob's key subsets\n",
    "secure = True\n",
    "for i,j in zip(sub_Akey,sub_Bkey):\n",
    "    if i == j:\n",
    "        secure = True\n",
    "    else:\n",
    "        secure = False\n",
    "        break;\n",
    "if not secure:\n",
    "    print('Eve detected!')\n",
    "else:\n",
    "    print('Eve escaped detection!')\n",
    "\n",
    "#sub_Akey and sub_Bkey are public knowledge now, so we remove them from Akey and Bkey\n",
    "if secure:\n",
    "    new_Akey = ''\n",
    "    new_Bkey = ''\n",
    "    for index,i in enumerate(check_key):\n",
    "        if int(i) == 0:\n",
    "            new_Akey += Akey[index]\n",
    "            new_Bkey += Bkey[index]\n",
    "    print('new A and B keys: ',new_Akey,new_Bkey)\n",
    "    if(len(mes)>len(new_Akey)):\n",
    "        print('Your new key is not long enough.')"
   ]
  },
  {
   "cell_type": "markdown",
   "metadata": {},
   "source": [
    "# Probability of Detecting Eve\n",
    "The longer the key, the more likely you will detect Eve. In fact, the [probability](hhttps://en.wikipedia.org/wiki/Quantum_key_distribution#Intercept_and_resend) goes up as a function of $1 - (3/4)^n$ where n is the number of bits Alice and Bob compare in their spot check. So, the longer the key, the more bits you can use to compare and the more likely you will detect Eve."
   ]
  },
  {
   "cell_type": "code",
   "execution_count": 13,
   "metadata": {},
   "outputs": [
    {
     "data": {
      "image/png": "[encoded data removed]",
      "text/plain": [
       "<matplotlib.figure.Figure at 0x7ff3113d1780>"
      ]
     },
     "metadata": {},
     "output_type": "display_data"
    }
   ],
   "source": [
    "#!!! you may need to execute this cell twice in order to see the output due to an problem with matplotlib\n",
    "\n",
    "import matplotlib.pyplot as plt\n",
    "import numpy as np\n",
    "\n",
    "x = np.arange(0., 30.0)\n",
    "y = 1-(3/4)**x\n",
    "plt.plot(y)\n",
    "plt.title('Probablity of detecting Eve')\n",
    "plt.xlabel('# of key bits compared')\n",
    "plt.ylabel('Probablity of detecting Eve')\n",
    "plt.show()"
   ]
  },
  {
   "cell_type": "code",
   "execution_count": null,
   "metadata": {},
   "outputs": [],
   "source": []
  }
 ],
 "metadata": {
  "colab": {
   "collapsed_sections": [],
   "default_view": {},
   "name": "Quantum Cryptography.ipynb",
   "provenance": [],
   "version": "0.3.2",
   "views": {}
  },
  "kernelspec": {
   "display_name": "QISKitenv",
   "language": "python",
   "name": "qiskitenv"
  },
  "language_info": {
   "codemirror_mode": {
    "name": "ipython",
    "version": 3
   },
   "file_extension": ".py",
   "mimetype": "text/x-python",
   "name": "python",
   "nbconvert_exporter": "python",
   "pygments_lexer": "ipython3",
   "version": "3.6.2"
  }
 },
 "nbformat": 4,
 "nbformat_minor": 1
}
