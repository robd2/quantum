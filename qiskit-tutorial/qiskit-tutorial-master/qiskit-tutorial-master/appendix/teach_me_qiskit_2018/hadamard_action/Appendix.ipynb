{
 "cells": [
  {
   "cell_type": "markdown",
   "metadata": {},
   "source": [
    "<img src=\"images/QISKit-c copy.gif\" alt=\"Note: In order for images to show up in this jupyter notebook you need to select File => Trusted Notebook\" width=\"250 px\" align=\"left\">"
   ]
  },
  {
   "cell_type": "markdown",
   "metadata": {},
   "source": [
    "# Hadamard Action: Appendix\n",
    "## Appendix Jupyter Notebook (\\*/3) for the *Teach Me QISKIT* Tutorial Competition\n",
    "- Connor Fieweger"
   ]
  },
  {
   "cell_type": "markdown",
   "metadata": {},
   "source": [
    "This notebook serves as supplementary information for the provided notebooks. The contents are as follows:\n",
    "\n",
    "    - a) Problem of interest: reading circuit diagrams\n",
    "    - b) Theory for each notebook\n",
    "    - c) Further reading"
   ]
  },
  {
   "cell_type": "markdown",
   "metadata": {},
   "source": [
    "## a) Problem of interest"
   ]
  },
  {
   "cell_type": "markdown",
   "metadata": {},
   "source": [
    "The exercise undertaken in the following notebooks is to show that the following two quantum\n",
    "circuits are equivalent:"
   ]
  },
  {
   "cell_type": "markdown",
   "metadata": {},
   "source": [
    "<img src=\"images/hadamard_action.png\" alt=\"Note: In order for images to show up in this jupyter notebook you need to select File => Trusted Notebook\" width=\"750 px\" align=\"left\">"
   ]
  },
  {
   "cell_type": "markdown",
   "metadata": {},
   "source": [
    "To a quantum information scientist, this ought to be seen as a clever result that demonstrates \n",
    "the interesting way in which quantum logic machines operate. To anyone else, it probably doesn't mean much -- you may not even know what the drawings mean, so I'll entertain a more detailed breakdown in order to address this focus topic of reading quantum circuit diagrams.\n",
    "\n",
    "In addition, for those without background in quantum computation at all but are here because they are interested in entering the field, a brief introduction (this indented section can be skipped by those already familiar with the concept of quantum computation)\n",
    "\n",
    "- Similarly to classical computers, quantum computers operate by performing logic operations on the elements of a 'register', or a bank of objects that can store information. In a classical computer, these are called 'bits', and they can store information by being either in either an 'off' or an 'on' state (0 or 1, respectively)\\*. The computations allowed/enabled by objects that store information in this binary way are a result of the family of binary logic operations called 'Boolean algebra', and these computations are performed by the familiar computers we have all around us today. This algebra of binary operations, however, has certain shortcomings in terms of ability to solve certain problems as a result of physical constraints on the bits -- perhaps a computation requires so many bits that to build a big enough register in the real world would be impossible, or perhaps the computation takes a certain amount of time to perform on a bit, and as the number of bits increases the required computation time is unreasonable for practice. Some of these problems, however, are more tractable when one stores the information differently -- i.e. we are not limited by the characteristcs of binary logic if the information is stored in something other than a binary. This is exactly what a quantum computer does. Rather than storing our information in a binary bit object, we can store it as a *vector*, which follows logic operations according to the family of operations called vector algebra. The vector nature of the object naturally invites quantum objects (qubits) as the physical object to store the information in, since quantum states are also described by vectors and vector algebra operations. One particular advantage of vectors stored as quantum objects is that the qubits can be in superpositions of states -- in either an 'off' *and* an 'on' state (called |0> and |1>, respectively)\\*. This method of storing information is not the best for all computations, in which case classical is usually favorable due to relative technical ease, but for the computations classical computers cannot achieve, quantum computers have often been shown to overcome the computational expense.\n",
    "\n",
    "    A famous example is RSA-encryption, a common cryptographic method that relies on the fact that one of those problems that classical computers have trouble with is factoring large numbers that are the product of two prime numbers. Since this impossibility was thought of as a constant for contemporary computers, it is used to secure information away from those who do not already know the prime factors. Quantum computation received a lot of research attention when a theorist found that a quantum logic machine could use the advantages of vector algebra to compute these primes, rendering what was thought to be one of the strongest possible and practically ubiquitous encryption techniques critically vulnerable if a quantum computer were to ever be built. This reality of such a machine was far away at the time of the theoretical result due to the difficulty in engineering precise control over quantum object, but as technology becomes ever-more sophisticated, the research community is working towards a point where such a quantum machine is physically realizable, making quantum computation even more relevant. While the circuit diagram for this encryption-breaking computation (called Shor's algorithm) is far more complicated than the one presented here, it is read in more or less the same way, and so this simple example is a good starting point for teaching how to read quantum circuits while still demostrating a uniquely quantum logic result.\n",
    "\n",
    "\\* *Note: while it may be a bit aphoristic, this difference of either/or vs. either/and is really the fundamental difference between classical and quantum logic machines.*"
   ]
  },
  {
   "cell_type": "markdown",
   "metadata": {},
   "source": [
    "### Reading a circuit diagram:\n",
    "In order to represent a quantum logic operation, one often draws a 'quantum circuit diagram', which lays out the qubits and order of operations on the qubits pictorially. The circuit is read from left-to-right chronologically, i.e. operations futher to the left happen to the qubits first. Each quantum circuit has a store of qubits, called the quantum register, for performing operations on. Each qubit as it moves from left to right through the circuit is represented by a horizontal line (called a 'wire') with the label of the qubit on the edges of the circuit next to its wire (with |$\\psi$> being a common character to label a qubit since it has history in quantum mechanics literature). The qubits are ordered top-down, i.e. the first qubit is the topmost line, the second qubit is the second from the top, and so on. The state of the *entire* register is written as the tensor product state of the vector qubits that make up the register.\n",
    "\n",
    "[NOTE: there are two possible conventions for writing the product state -- the first follows the usual tensor product convention of writing elements  left-to-right: \n",
    "\n",
    "$\\Psi_\\rightarrow = |\\psi_1> \\otimes |\\psi_2> \\otimes ... \\otimes |\\psi_n> = |\\psi_1\\psi_2 ... \\psi_n>$ , \n",
    "where this is the common convention used in quantum computation literature\n",
    "\n",
    "while the second follows the classical bit register convention of reading bits from right-to-left\\*: $\\Psi_\\leftarrow = |\\psi_1> \\otimes |\\psi_2> \\otimes ... \\otimes |\\psi_n> = |\\psi_n ... \\psi_1\\psi_2 >$ , where this is a convention used in documentation for quantum programming that interfaces with classical registers (such as in the IBM QISKit library)\n",
    "\n",
    "Symbols placed along each wire are called 'gates' and represent operations to be performed on that wire's qubit, and these are what allow the machine to perform computations. There are many types of gate operator that can be applied to a qubit object due to the object's vector properties, and so those who are interested are invited to read into the provided further literature as well as the wikipedia page for quantum gates: https://en.wikipedia.org/wiki/Quantum_logic_gate. For the computations performed in these notebooks, we'll need to understand the X gate, the controlled-not (CNOT) gate, the Hadamard gate, and the measurement gate, so those will be explained in some more detail.\n",
    "\n",
    "\\* *Note: this is a result of the convention established in binary number representation (e.g. (011 = 4(0) + 2(1) + 1(1) = 3) - the first bit in the classical register corresponds to the lowest place value, and so it is written on the right)*"
   ]
  },
  {
   "cell_type": "markdown",
   "metadata": {},
   "source": [
    " - X gate: the X gate in quantum computation is equivalent to the 'NOT' gate, or 'bit-flip' operation, in classical computing. Any qubit in the state |0> is flipped to become a |1> and qubits in the state |1> are flipped to |0>. The X gate is represented as a box with an 'X' on it.\n",
    " - CNOT: a controlled version of the X gate in that the gate is only applied to the target qubit if the control qubit of the gate is 'on', i.e. in the state |1>. The CNOT gate is represented by a dot on the control line connected to a plus circumscribed by a circle on the subject line, with the plussed circle sometimes being replaced by the X gate symbol since they are equivalent. This is one of the most important gates in building quantum logic machines because of the imperative if-this-then-that logic of the gate allowing for conditional evaluations.\n",
    " - Hadamard: So far, it has been said that qubits can exist in states known as |0>,|1>. Additionally, due to their vector nature and ability to superpose, they can exist in another set of states known as |+>,|->. The Hadamard gate is a uniquely quantum gate that serves to switch the qubits between these sets of states (with each of the sets being known as a 'basis'). The effect of the  hadamard gate is such that (|0> is changed to |+> and |+> is changed to |0>) and (|1> is changed to |-> and |-> is changed to |1>). The Hadamard is represented by a box with an 'H' on it.\n",
    " - Measurement: As described, qubits have an either/and behavior of superposition. Those familiar with quantum mechanics or even just the Schrödinger's cat thought experiment know, however, that this is only when we do not observe the qubit state. When we do, it will 'collapse' down and be fixed to one of the constituent states of the full superposition in the basis of the measurement made (i.e. we must choose to either check either in terms of |0>,|1> or in terms of |+>,|->). In quantum computation, one usually measures in terms of |0>,|1>, and so this is called the 'computational basis' (and +- is then called the 'Hadamard basis'). After the measurement is made, the result of collapsing the state in this particular instance can be written onto a classical ancilla\\* bit to store the information, where finding that the qubit is in the state |0> after measurement is written to the classical bit as 0 and finding that the qubit is in the state |1> after measurement is written to the classical bit as 1. Measurement is usually represented as a box with a gauge and an 'M' drawn on it with a line connecting the box to its classical ancilla bit.\n",
    " \n",
    "\\* *Note: ancilla is just a fancy latin word meaning 'helper' or 'slave' that is used in computing literature to describe bits that do not directly participate in a computation but are used to facilitate it. It's a common concept in quantum computation, so it's worth learning.*"
   ]
  },
  {
   "cell_type": "markdown",
   "metadata": {},
   "source": [
    "With the behavior of the gates broken down as such, all that remains is to apply the gates to the qubits and then measure the final state. If the final states are the same for both, then they're equivalent circuits. Well, easier said than done -- even for a two-qubit, 3-gate set circuit such as ii) this can get tenuous, especially if one chooses to fully write out the quantum circuit state by hand. The advantages offered by a library designed for performing quantum information operations quickly become obvious when considering more complicated/useful circuits, with more complex circuits often exceding a classical computer's capabilities and requiring implementation on actual quantum circuits."
   ]
  },
  {
   "cell_type": "markdown",
   "metadata": {
    "collapsed": true
   },
   "source": [
    "## b) Theory for each notebook"
   ]
  },
  {
   "cell_type": "markdown",
   "metadata": {},
   "source": [
    "### Approach 1\n",
    "\n",
    "Most of the the theory for notebook 1 is contained within section a). One point, however, ought to be further explained, and this is the action of the Hadamard gate. As said before, this is the action of switching between the |0>|1> basis and the |+>|-> basis. The precise conversion between these states is: \n",
    "\n",
    "$$|+> = \\frac{1}{\\sqrt{2}}(|0> + |1>) \\\\ |-> = \\frac{1}{\\sqrt{2}}(|0> - |1>)$$ \n",
    "\n",
    "The Hadamard thus serves to generate the either/and property of a quantum logic machine (in that a |+> is either a |0> and a |1>, and so forth). Indeed, this action of the Hadamard is often a key first step of a quantum algorithm because it generates such superpositions to then evaluate."
   ]
  },
  {
   "cell_type": "markdown",
   "metadata": {},
   "source": [
    "### Approach 2\n",
    "\n",
    "Notebook 2 uses the formalism of linear algebra to represent the qubit states as column vectors and the gate operations as matrices. In these terms, the states |0>,|1> are given by: \n",
    "$$ |0> = \\left(\\begin{array}{c} 1 \\\\ 0 \\end{array}\\right) $$\n",
    "\n",
    "$$ |1> = \\left(\\begin{array}{c} 0 \\\\ 1 \\end{array}\\right) $$\n",
    "\n",
    "and the states |+>|-> are given by:\n",
    "\n",
    "$$ |+> = \\frac{1}{\\sqrt{2}}\\left(\\begin{array}{c} 1 \\\\ 1 \\end{array}\\right) $$\n",
    "\n",
    "$$ |-> = \\frac{1}{\\sqrt{2}}\\left(\\begin{array}{c} 1 \\\\ -1 \\end{array}\\right) $$\n",
    "\n",
    "*Note: from these representations, one can easily see the validity of the conversion between basis provided in the Approach 1 section above.*\n",
    "\n",
    "The tensor product between 2 vectors of length 2 is a vector of length 4 with elements following the pattern:\n",
    "\n",
    "$$ |n> = \\left(\\begin{array}{c} a \\\\ b \\end{array}\\right) $$\n",
    "\n",
    "$$ |m> = \\left(\\begin{array}{c} c \\\\ d \\end{array}\\right) $$\n",
    "\n",
    "$$ |n> \\otimes |m> = \\left(\\begin{array}{c} ac \\\\ ad \\\\ bc \\\\ bd \\end{array}\\right) $$\n",
    "\n",
    "for |0>,|1>, then, we have:\n",
    "$$\\text{|00>} = \\left(\\begin{array}{c}\n",
    "        1 \\\\\n",
    "        0 \\\\\n",
    "        0 \\\\\n",
    "        0\n",
    "\\end{array}\\right)$$\n",
    "$$\\text{|01>} = \\left(\\begin{array}{c}\n",
    "        0 \\\\\n",
    "        1 \\\\\n",
    "        0 \\\\\n",
    "        0\n",
    "\\end{array}\\right)$$\n",
    "$$\\text{|10>} = \\left(\\begin{array}{c}\n",
    "        0 \\\\\n",
    "        0 \\\\\n",
    "        1 \\\\\n",
    "        0\n",
    "\\end{array}\\right)$$\n",
    "$$\\text{|11>} = \\left(\\begin{array}{c}\n",
    "        0 \\\\\n",
    "        0 \\\\\n",
    "        0 \\\\\n",
    "        1\n",
    "\\end{array}\\right)$$\n",
    "\n",
    "as stated in the notebook.\n",
    "\n",
    "Just as the qubit states are represented by column vectors, the gates as they operate on these qubit column vectors are linear operators as represented by matrices. The effect of the matrix ought to be such that it follows the defining logic of the gate -- i.e. the X gate matrix sends the column vector representation of |0> to the column vector representation of|1>, the H gate sends the column vector representation of |0> to the column vector representation of|+>, and so on. The matrices employed are H and CNOT (controlled either by line 1 or 2), so lets find the matrices that satisfy this quality of fulfilling the defining action of the gate of interest.\n",
    "\n",
    "   - H: Building up from the defining logic, we need:\n",
    "    $$ H|0> = |+>, \\ H|1> = |-> $$\n",
    "    This is satisfied by a matrix of the form:\n",
    "    $$ H = \\frac{1}{\\sqrt{2}}\\left[\\begin{array}{cc} 1 & 1 \\\\ 1 & -1 \\end{array}\\right]$$\n",
    "    Where this has been constructed by assigning each initial state to a column and writing out the target state column vector in this position -- i.e. the column vector for |+> occupies column 1, which corresponds to |0>, and the column vector |-> occupies column 2, which corresponds to |1>.\n",
    "    Just to check,\n",
    "    $$ H|0> = \\frac{1}{\\sqrt{2}}\\left[\\begin{array}{cc} 1 & 1 \\\\ 1 & -1 \\end{array}\\right] \\left(\\begin{array}{c} 1 \\\\ 0 \\end{array}\\right) = \\frac{1}{\\sqrt{2}}\\left(\\begin{array}{c} 1 \\\\ 1 \\end{array}\\right) = |+> \\checkmark $$\n",
    "    $$ H|1> = \\frac{1}{\\sqrt{2}}\\left[\\begin{array}{cc} 1 & 1 \\\\ 1 & -1 \\end{array}\\right] \\left(\\begin{array}{c} 0 \\\\ 1 \\end{array}\\right) = \\frac{1}{\\sqrt{2}}\\left(\\begin{array}{c} 1 \\\\ -1 \\end{array}\\right) = |-> \\checkmark $$\n",
    "    \n",
    "    Now, we're often going to be applying multiple H gates in parallel to the product state that represents the full n-qubit quantum register state, so to expand this 2 x 2 matrix to a 2n x 2n matrix (referred to as $H^{\\otimes n}$) would allow for applying all the parallel H gates simultaneously to the product state of n qubits. Similar to how the product state for the column vectors is formed, one can do this by taking tensor products of the H gate n times. The tensor product for matrices is executed representationally by embedding the second matrix into the first, i.e.: \n",
    "    \n",
    "    $$ H \\otimes H = \\frac{1}{\\sqrt{2}}\\left[\\begin{array}{cc} 1 & 1 \\\\ 1 & -1 \\end{array}\\right] \\otimes H = \\frac{1}{\\sqrt{2}}\\left[\\begin{array}{cc} 1 \\cdot H & 1 \\cdot H \\\\ 1 \\cdot H & -1 \\cdot H \\end{array}\\right] = \\frac{1}{\\sqrt{2}}\\left[\\begin{array}{cc} 1 \\cdot \\frac{1}{\\sqrt{2}}\\left[\\begin{array}{cc} 1 & 1 \\\\ 1 & -1 \\end{array}\\right] & 1 \\cdot \\frac{1}{\\sqrt{2}}\\left[\\begin{array}{cc} 1 & 1 \\\\ 1 & -1 \\end{array}\\right]  \\\\ 1 \\cdot \\frac{1}{\\sqrt{2}}\\left[\\begin{array}{cc} 1 & 1 \\\\ 1 & -1 \\end{array}\\right] & -1 \\cdot \\frac{1}{\\sqrt{2}}\\left[\\begin{array}{cc} 1 & 1 \\\\ 1 & -1 \\end{array}\\right] \\end{array}\\right] = \\frac{1}{2}\\left[\\begin{array}{cccc}\n",
    "        1 & 1 & 1 & 1 \\\\\n",
    "        1 & -1 & 1 & -1 \\\\\n",
    "        1 & 1 & -1 & -1 \\\\\n",
    "        1 & -1 & -1 & 1\n",
    "\\end{array}\\right]$$\n",
    "  - CNOT_1: A CNOT gate controlled by line one has the action of flipping the second bit only if the first bit is |1>. This is satisfied by a matrix of the form:\n",
    "  \n",
    "  $$CNOT_1 = \\left[\\begin{array}{cccc}\n",
    "        1 & 0 & 0 & 0 \\\\\n",
    "        0 & 1 & 0 & 0 \\\\\n",
    "        0 & 0 & 0 & 1 \\\\\n",
    "        0 & 0 & 1 & 0\n",
    "\\end{array}\\right]$$\n",
    "\n",
    "    where the fulfilment of the $CNOT_1$ definition can be checked through writing out the application of this matrix onto each state. This matrix was formed in a manner similar to the method for H, where the column vector representation of the final state is written in the column corresponding to the initial state following the defining logic of the $CNOT_1$ gate. The convention is to assign the initial state 00 to column 1, 01 to 2, 10 to 3, and 11 to 4.\n",
    "    - CNOT_2: A CNOT gate controlled by line two has the action of flipping the first bit only if the second bit is |1>. This is satisfied by a matrix of the form:\n",
    "    \n",
    "  $$CNOT_2 = \\left[\\begin{array}{cccc}\n",
    "        1 & 0 & 0 & 0 \\\\\n",
    "        0 & 0 & 0 & 1 \\\\\n",
    "        0 & 0 & 1 & 0 \\\\\n",
    "        0 & 1 & 0 & 0\n",
    "\\end{array}\\right]$$\n",
    "\n",
    "    where the fulfilment of the $CNOT_2$ definition can be checked through writing out  the application of this matrix onto each state. This matrix was formed in a manner similar to the method for H, where the column vector representation of the final state is written in the column corresponding to the initial state following the defining logic of the $CNOT_2$ gate. The convention is to assign the initial state 00 to column 1, 01 to 2, 10 to 3, and 11 to 4."
   ]
  },
  {
   "cell_type": "markdown",
   "metadata": {},
   "source": [
    "### Approach 3\n",
    "\n",
    "The background required for notebook 3 really isn't theory but rather a familiarity with the object-oriented paradigm in Python and the actual QISKit files. The former is assumed to be known to some degree by the reader given that the audience is programmers looking into quantum information processing libraries. For the latter, readers are strongly encouraged to look through these files, as this is a necessary and unavoidable step to working with just about any API. The notebook introduces the reader to some of these files as well through making a few common, but essential operations in QISKit by providing sample code that solves the presented problem. With a solution that is already known from the previous two notebooks, one can focus on the library's implementation rather than finding the solution. The problem is short enough such that the reader hopefully doesn't feel overwhelmed by a true quantum algorithm (which are often hefty to digest) and instead clearly sees how quantum circuit diagrams can be realized as QISKit programs."
   ]
  },
  {
   "cell_type": "markdown",
   "metadata": {},
   "source": [
    "## c) Further reading\n",
    "\n",
    "While this tutorial aims to introduce the quantum computational focus topic of reading and evaluating circuit diagrams as best as it can, there is still a wealth of literature beyond this point that ought to be read by those who are intrigued by the subject. The internet is rife with hype (understandably so) about the subject that can obscure source-finding, so here are some pointers:\n",
    "\n",
    " - Quantum Computing Explained, D. McMahon (hardcover text, a good starting point for those without much physics background)\n",
    " - Quantum Computation and Quantum Information (10th Anniversary Edition), M. A. Nielsen and I. L. Chuang (pdf available online, really good monograph on theory and experimental realization of quantum computation)\n",
    " - Principles of Quantum Mechanics, R. Shankar (physics textbook for background in quantum mechanics)\n",
    " - Introduction to Quantum Mechanics, D. Griffiths (physics textbook for background in quantum mechanics)\n"
   ]
  }
 ],
 "metadata": {
  "kernelspec": {
   "display_name": "QISKitenv",
   "language": "python",
   "name": "qiskitenv"
  },
  "language_info": {
   "codemirror_mode": {
    "name": "ipython",
    "version": 3
   },
   "file_extension": ".py",
   "mimetype": "text/x-python",
   "name": "python",
   "nbconvert_exporter": "python",
   "pygments_lexer": "ipython3",
   "version": "3.6.2"
  }
 },
 "nbformat": 4,
 "nbformat_minor": 2
}
