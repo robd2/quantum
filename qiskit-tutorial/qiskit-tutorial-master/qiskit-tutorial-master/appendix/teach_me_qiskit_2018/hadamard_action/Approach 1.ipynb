{
 "cells": [
  {
   "cell_type": "markdown",
   "metadata": {},
   "source": [
    "<img src=\"images/QISKit-c copy.gif\" alt=\"Note: In order for images to show up in this jupyter notebook you need to select File => Trusted Notebook\" width=\"250 px\" align=\"left\">"
   ]
  },
  {
   "cell_type": "markdown",
   "metadata": {},
   "source": [
    "# Hadamard Action: Approach 1\n",
    "## Jupyter Notebook 1/3 for QISKIT Tutorial Competition\n",
    "- Connor Fieweger"
   ]
  },
  {
   "cell_type": "markdown",
   "metadata": {},
   "source": [
    "<img src=\"images/hadamard_action.png\" alt=\"Note: In order for images to show up in this jupyter notebook you need to select File => Trusted Notebook\" width=\"750 px\" align=\"left\">"
   ]
  },
  {
   "cell_type": "markdown",
   "metadata": {},
   "source": [
    "In order to show the equivalence of the above circuits, first we'll take the most tedious route of simply writing out the full state after each set of gates and comparing the final states of each circuit. One should note that this method doesn't use any abstraction or coding, rather we simply act as a quantum computer by hand by applying the defining logic of the gates to the input states as one reads the circuit from left to right. This gets a bit clunky even for a fairly simple circuit such as ii), showing the amount of effort this method would require when considering circuits complex enough to execute quantum algorithms worth executing. "
   ]
  },
  {
   "cell_type": "markdown",
   "metadata": {},
   "source": [
    "## Circuit i)\n",
    "For i), the initial state of the input is represented by the tensor product of the two input qubits in the initial register. This is given by:\n",
    "\n",
    "$$|\\Psi> = |\\psi_1> \\otimes |\\psi_2> = |\\psi_1\\psi_2>$$\n",
    "\n",
    "Where each $\\psi$ can be either |0> or |1>\n",
    "\n",
    "This results in the following set of possible input states for |$\\Psi$>: [|00>, |01>, |10>, |11>]. The action of the CNOT gate controlled by line 1 is such that the second qubit is 'flipped' (i.e. |0> becomes |1> and |1> becomes |0>) if the first qubit is in the state |1>. This logic gate of 'if-this-then-that' is what makes the CNOT gate absolutely essential to building any quantum logic machine just as it is to building a classical logic machine, only in the classical case the imperative 'if' of 'if-this-then-that' must evaluate to a certainty while in the quantum case it need not. \n",
    "\n",
    "Applying the logic of CNOT to our initial possible register states (|$\\Psi$>= [|00>, |01>, |10>, |11>], the state after CNOT is found to be ($|\\Psi$'>= [|00>, |01>, |11>, |10>]). This is then the final state of circuit i)."
   ]
  },
  {
   "cell_type": "markdown",
   "metadata": {},
   "source": [
    "## Circuit ii)\n",
    "For ii), this process of writing out the state after each set of gates is as follows (and gets notably lengthy):\n",
    "\n",
    "The initial state |$\\Psi$> is given as explained before by ($|\\Psi$> = [|00>, |01>, |10>, or |11>]). The first set of gates is the Hadamard gate, which has the logic of 0 becomes a + and 1 becomes a -. Applying this logic to the initial state gives the state immediately after the first set of Hadamards and immediately before the CNOT, let's call this state |$\\Psi_1$>. Computing by hand, we find:"
   ]
  },
  {
   "cell_type": "markdown",
   "metadata": {},
   "source": [
    "$(|\\Psi>) \\rightarrow (|\\Psi_1> = [|++>,|+->,|-+>,|-->])$"
   ]
  },
  {
   "cell_type": "markdown",
   "metadata": {},
   "source": [
    "The next set of gates to consider is the CNOT controlled by line 2. Similar to the CNOT controlled by line 1, the action is such that the subject line qubit is flipped if the control line qubit is in the state 1. Wait a second, though... isn't our current state $\\Psi_1$ before the CNOT in terms of |+> and |->? In order to understand exactly the effect of this gate's logic, then, we need to write the |+> and |-> in terms of |0> and |1>. This is given by: $|+> = \\frac{1}{\\sqrt{2}}(|0> + |1>)$ and $|-> = \\frac{1}{\\sqrt{2}}(|0> - |1>)$ [see appendix notebook]. "
   ]
  },
  {
   "cell_type": "markdown",
   "metadata": {},
   "source": [
    "Again computing by hand, the possible $|\\Psi_1>$ in terms of 0s and 1s is $|\\Psi_1>_{0,1} = \\frac{1}{2}[((|0>+|1>)(|0>+|1>)),((|0>+|1>)(|0>-|1>)),((|0>-|1>)(|0>+|1>)),((|0>-|1>)(|0>-|1>))$. \n",
    "\n",
    "The terms in parenthesis can then be factored into product-states through taking tensor products: $|\\Psi_1> = \\frac{1}{2}[(|00>+|01>+|10>+|11>), (|00>-|01>+|10>-|11>) , (|00>+|01>-|10>+|11>), (|00>-|01>-|10>+|11>)$\n",
    "\n",
    "There we go, the action of the line-2-controlled CNOT is clearer when we write out $\\Psi_1$ in this form: any |\\**> terms that have a 1 in the 2nd spot will have the qubit in the 1st spot flip. Applying this logic, we get the state right after the CNOT gate and right before the second set of Hadamards, lets call it '$\\Psi_2$'.\n",
    "\n",
    "$|\\Psi_2> = \\frac{1}{2}[(|00>+|11>+|10>+|01>), (|00>-|11>+|10>-|01>) , (|00>+|11>-|10>+|01>), (|00>-|11>-|10>+|01>)$"
   ]
  },
  {
   "cell_type": "markdown",
   "metadata": {},
   "source": [
    "The final logic to apply in order to get the final state is again the Hadamard gates' logic of [0 $\\rightarrow$ +, 1 $\\rightarrow$ -]"
   ]
  },
  {
   "cell_type": "markdown",
   "metadata": {
    "collapsed": true
   },
   "source": [
    "|$\\Psi$'> = $\\frac{1}{2}[(|++>+|-->+|-+>+|+->), (|++>-|-->+|-+>-|+->) , (|++>+|--> -|-+>+|+->), (|++>-|-->-|-+>+|+->)$.\n",
    "\n",
    "Rearranging such that the term ordering convention is (++,+-,-+,--) as it was before, this becomes:\n",
    "\n",
    "|$\\Psi$'> = $\\frac{1}{2}[(|++>+|+->+|-+>+|-->), (|++>-|+->+|-+>-|-->) , (|++>+|+->-|-+>+|-->), (|++>+|+->-|-+>-|-->)$"
   ]
  },
  {
   "cell_type": "markdown",
   "metadata": {
    "collapsed": true
   },
   "source": [
    "Here we have the final state, but the same issue again: the state is in terms of +- while the known final state for circuit i) is in terms of 01. Rearranging according to the ordering convention as we have done, fortunately, hints at an underlying pattern in the expression's terms that allows for factoring out back to a parenthetical form:\n",
    "\n",
    "|$\\Psi$'> = $\\frac{1}{2}[(|+>+|->)(|+>+|->), (|+>+|->)(|+>-|->) , (|+>-|->)(|+>-|->), (|+>-|->)(|+>+|->)$\n",
    "\n",
    "Remembering from before that $|+> = \\frac{1}{\\sqrt{2}}(|0> + |1>)$ and $|-> = \\frac{1}{\\sqrt{2}}(|0> - |1>)$, it is easy to see that similarly $|0> = \\frac{1}{\\sqrt{2}}(|+> + |->)$ and $|1> = \\frac{1}{\\sqrt{2}}(|+> - |->)$, so |$\\Psi$'> in terms of |0>,|1> is:\n",
    "\n",
    "|$\\Psi$'> = [|00>, |01>, |11>, |10>].\n",
    "\n",
    "This is the same as the final state for circuit 1, and so the circuits are considered equivalent $\\square$.\n",
    "\n",
    "From this exercise, one can see a uniquely quantum computational result in that the idea of directionality between control and target and the effect of this directionality is dependent on the basis in which the gate is implemented - neat!"
   ]
  },
  {
   "cell_type": "code",
   "execution_count": null,
   "metadata": {
    "collapsed": true
   },
   "outputs": [],
   "source": []
  }
 ],
 "metadata": {
  "kernelspec": {
   "display_name": "QISKitenv",
   "language": "python",
   "name": "qiskitenv"
  },
  "language_info": {
   "codemirror_mode": {
    "name": "ipython",
    "version": 3
   },
   "file_extension": ".py",
   "mimetype": "text/x-python",
   "name": "python",
   "nbconvert_exporter": "python",
   "pygments_lexer": "ipython3",
   "version": "3.6.2"
  }
 },
 "nbformat": 4,
 "nbformat_minor": 2
}
