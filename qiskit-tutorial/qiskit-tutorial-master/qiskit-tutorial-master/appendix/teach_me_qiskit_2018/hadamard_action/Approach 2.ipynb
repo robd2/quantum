{
 "cells": [
  {
   "cell_type": "markdown",
   "metadata": {},
   "source": [
    "<img src=\"images/QISKit-c copy.gif\" alt=\"Note: In order for images to show up in this jupyter notebook you need to select File => Trusted Notebook\" width=\"250 px\" align=\"left\">"
   ]
  },
  {
   "cell_type": "markdown",
   "metadata": {},
   "source": [
    "# Hadamard Action: Approach 2\n",
    "## Jupyter Notebook 2/3 for the Teach Me QISKIT Tutorial Competition\n",
    "- Connor Fieweger"
   ]
  },
  {
   "cell_type": "markdown",
   "metadata": {},
   "source": [
    "<img src=\"images/hadamard_action.png\" alt=\"Note: In order for images to show up in this jupyter notebook you need to select File => Trusted Notebook\" width=\"750 px\" align=\"left\">"
   ]
  },
  {
   "cell_type": "markdown",
   "metadata": {},
   "source": [
    "Another approach to showing equivalence of the presented circuit diagrams is to represent the operators on the qubits as matrices and the qubit states as column vectors. The output is found by applying the matrix that represents the action of the circuit onto the initial state column vector to find the final state column vector. Since the numpy library already enables making linear algebra computations such as these, we'll use that to employ classical programming in order to understand this quantum circuit."
   ]
  },
  {
   "cell_type": "code",
   "execution_count": 1,
   "metadata": {},
   "outputs": [],
   "source": [
    "import numpy as np"
   ]
  },
  {
   "cell_type": "markdown",
   "metadata": {},
   "source": [
    "## Circuit i)\n",
    "For i), the initial state of the input is represented by the tensor product of the two input qubits in the initial register. This is given by:\n",
    "\n",
    "$$\\Psi = \\psi_1 \\otimes \\psi_2$$\n",
    "\n",
    "Where each $\\psi$ can be either 0 or 1\n",
    "\n",
    "This results in the following input states for $\\Psi$: |00>, |01>, |10>, or |11>. Represented by column vectors, these are:\n",
    "\n",
    "$$\\text{|00>} = \\left(\\begin{array}{c}\n",
    "        1 \\\\\n",
    "        0 \\\\\n",
    "        0 \\\\\n",
    "        0\n",
    "\\end{array}\\right)$$\n",
    "$$\\text{|01>} = \\left(\\begin{array}{c}\n",
    "        0 \\\\\n",
    "        1 \\\\\n",
    "        0 \\\\\n",
    "        0\n",
    "\\end{array}\\right)$$\n",
    "$$\\text{|10>} = \\left(\\begin{array}{c}\n",
    "        0 \\\\\n",
    "        0 \\\\\n",
    "        1 \\\\\n",
    "        0\n",
    "\\end{array}\\right)$$\n",
    "$$\\text{|11>} = \\left(\\begin{array}{c}\n",
    "        0 \\\\\n",
    "        0 \\\\\n",
    "        0 \\\\\n",
    "        1\n",
    "\\end{array}\\right)$$\n"
   ]
  },
  {
   "cell_type": "code",
   "execution_count": 2,
   "metadata": {},
   "outputs": [
    {
     "name": "stdout",
     "output_type": "stream",
     "text": [
      "one_zero : \n",
      " [[0]\n",
      " [0]\n",
      " [1]\n",
      " [0]]\n",
      "zero_zero : \n",
      " [[1]\n",
      " [0]\n",
      " [0]\n",
      " [0]]\n",
      "zero_one : \n",
      " [[0]\n",
      " [1]\n",
      " [0]\n",
      " [0]]\n",
      "one_one : \n",
      " [[0]\n",
      " [0]\n",
      " [0]\n",
      " [1]]\n"
     ]
    }
   ],
   "source": [
    "# These column vectors can be stored in numpy arrays so that we can operate \n",
    "# on them with the circuit diagram's corresponding matrix (which is to be evaluated)\n",
    "# as follows:\n",
    "zero_zero = np.array([[1],[0],[0],[0]])\n",
    "zero_one = np.array([[0],[1],[0],[0]])\n",
    "one_zero = np.array([[0],[0],[1],[0]])\n",
    "one_one = np.array([[0],[0],[0],[1]])\n",
    "Psi = {'zero_zero': zero_zero, 'zero_one': zero_one, 'one_zero': one_zero, 'one_one': one_one}\n",
    "# ^We can conveniently store all possible input states in a dictionary and then print to check the representations:\n",
    "for key, val in Psi.items():\n",
    "    print(key, ':', '\\n', val)"
   ]
  },
  {
   "cell_type": "markdown",
   "metadata": {},
   "source": [
    "The action of the circuit gates on this state is simply the CNOT operator. For a control qubit on line 1 and a subject qubit on line 2, CNOT is given by the 4x4 matrix (as discussed in the appendix notebook): \n",
    "\n",
    "$$CNOT_1 = \\left[\\begin{array}{cccc}\n",
    "        1 & 0 & 0 & 0 \\\\\n",
    "        0 & 1 & 0 & 0 \\\\\n",
    "        0 & 0 & 0 & 1 \\\\\n",
    "        0 & 0 & 1 & 0\n",
    "\\end{array}\\right]$$\n",
    "\n",
    "This matrix is the operator that describes the effect of the circuit on the initial state. By taking $CNOT_1$|$\\Psi$> = |$\\Psi$'>, then, the final state for i) can be found."
   ]
  },
  {
   "cell_type": "code",
   "execution_count": 3,
   "metadata": {},
   "outputs": [
    {
     "name": "stdout",
     "output_type": "stream",
     "text": [
      "[[1 0 0 0]\n",
      " [0 1 0 0]\n",
      " [0 0 0 1]\n",
      " [0 0 1 0]]\n"
     ]
    }
   ],
   "source": [
    "# storing CNOT as a numpy array:\n",
    "CNOT_1 = np.matrix([[1, 0, 0, 0],[0, 1, 0, 0],[0, 0, 0, 1],[0, 0, 1, 0]])\n",
    "print(CNOT_1)"
   ]
  },
  {
   "cell_type": "code",
   "execution_count": 4,
   "metadata": {},
   "outputs": [
    {
     "name": "stdout",
     "output_type": "stream",
     "text": [
      "FINAL STATE OF i):\n",
      "one_zero becomes..\n",
      " [[0]\n",
      " [0]\n",
      " [0]\n",
      " [1]]\n",
      "zero_zero becomes..\n",
      " [[1]\n",
      " [0]\n",
      " [0]\n",
      " [0]]\n",
      "zero_one becomes..\n",
      " [[0]\n",
      " [1]\n",
      " [0]\n",
      " [0]]\n",
      "one_one becomes..\n",
      " [[0]\n",
      " [0]\n",
      " [1]\n",
      " [0]]\n"
     ]
    }
   ],
   "source": [
    "print('FINAL STATE OF i):')\n",
    "#Apply CNOT to each possible state for |Psi> to find --> |Psi'>\n",
    "for key, val in Psi.items():\n",
    "    print(key, 'becomes..\\n', CNOT_1*val)"
   ]
  },
  {
   "cell_type": "markdown",
   "metadata": {},
   "source": [
    "As one can see, the first set of two states (00, 01) has stayed the same, while the second (10, 11) has flipped to (11, 10). This is readily understood when considering the defining logic of the CNOT gate - the subject qubit on line 2 is flipped if the control qubit on line 1 in the state |1> (this is also referred to as the control qubit being 'on'). Summatively, then, the action of i) is given by: [|00>,|01>,|10>,|11>] --> [|00>,|01>,|11>,|10>]."
   ]
  },
  {
   "cell_type": "markdown",
   "metadata": {},
   "source": [
    "## Circuit ii)\n",
    "For ii), a similar examination of the input states and the result when the circuit operation matrix is applied to these states can be done. The input states are the same as those in i), so we can just use the variable 'Psi' that we stored earlier. In order to find the matrix representation of the circuit, a little more depth in considering the matrix that represents the gates is required as follows: "
   ]
  },
  {
   "cell_type": "markdown",
   "metadata": {},
   "source": [
    "First, consider the parallel application of the Hadamard gate 'H' to each wire. In order to represent this as an operator on the two-qubit-tensor-space state ('$\\Psi$'), one needs to take the tensor product of the single-qubit-space's ('$\\psi$') Hadamard with itself: $H \\otimes H = H^{\\otimes 2}$\n",
    "\n",
    "As discussed in the appendix notebook, this is given by:\n",
    "$$\\text{H}^{\\otimes 2} = \\frac{1}{2}\\left[\\begin{array}{cccc}\n",
    "        1 & 1 & 1 & 1 \\\\\n",
    "        1 & -1 & 1 & -1 \\\\\n",
    "        1 & 1 & -1 & -1 \\\\\n",
    "        1 & -1 & -1 & 1\n",
    "\\end{array}\\right]$$\n",
    "\n",
    "This is then the first matrix to consider when finding the matrix that represents the action of circuit ii)."
   ]
  },
  {
   "cell_type": "code",
   "execution_count": 5,
   "metadata": {},
   "outputs": [
    {
     "name": "stdout",
     "output_type": "stream",
     "text": [
      "H_2:\n",
      "[[ 0.5  0.5  0.5  0.5]\n",
      " [ 0.5 -0.5  0.5 -0.5]\n",
      " [ 0.5  0.5 -0.5 -0.5]\n",
      " [ 0.5 -0.5 -0.5  0.5]]\n"
     ]
    }
   ],
   "source": [
    "# storing this in a numpy array:\n",
    "H_2 = .5*np.matrix([[1, 1, 1, 1],[1, -1, 1, -1],[1, 1, -1, -1],[1, -1, -1, 1]])\n",
    "print('H_2:')\n",
    "print(H_2)"
   ]
  },
  {
   "cell_type": "markdown",
   "metadata": {},
   "source": [
    "The next operation on the qubits is a CNOT controlled by line 2. This is given by the 4x4 matrix (also in the appendix notebook): \n",
    "\n",
    "$$CNOT_2 = \\left[\\begin{array}{cccc}\n",
    "        1 & 0 & 0 & 0 \\\\\n",
    "        0 & 0 & 0 & 1 \\\\\n",
    "        0 & 0 & 1 & 0 \\\\\n",
    "        0 & 1 & 0 & 0\n",
    "\\end{array}\\right]$$\n",
    "\n",
    "This is then the second matrix to consider in finding the matrix that represents the action of circuit ii)."
   ]
  },
  {
   "cell_type": "code",
   "execution_count": 6,
   "metadata": {},
   "outputs": [],
   "source": [
    "# storing this in a numpy array:\n",
    "CNOT_2 = np.matrix([[1, 0, 0, 0],[0, 0, 0, 1],[0, 0, 1, 0],[0, 1, 0, 0]])"
   ]
  },
  {
   "cell_type": "markdown",
   "metadata": {},
   "source": [
    "Finally, the set of parallel hadamard matrices as given by $H^{\\otimes 2}$ is again applied to the two-qubit-space. With this, all matrices that contribute to the circuit's action have been found. Applying each operator to the state as one reads the circuit diagram from left to right, one finds: $(H^{\\otimes 2})(CNOT_2)(H^{\\otimes} 2)\\Psi$ = $\\Psi$ '. The $(H^{\\otimes 2})(CNOT_2)(H^{\\otimes} 2)$ term can be evaluated through matrix multiplication to a single 4x4 matrix that represents the entire circuit as an operator, let's call it 'A'."
   ]
  },
  {
   "cell_type": "code",
   "execution_count": 7,
   "metadata": {},
   "outputs": [],
   "source": [
    "A = H_2*CNOT_2*H_2"
   ]
  },
  {
   "cell_type": "code",
   "execution_count": 8,
   "metadata": {},
   "outputs": [
    {
     "name": "stdout",
     "output_type": "stream",
     "text": [
      "[[1. 0. 0. 0.]\n",
      " [0. 1. 0. 0.]\n",
      " [0. 0. 0. 1.]\n",
      " [0. 0. 1. 0.]]\n"
     ]
    }
   ],
   "source": [
    "print(A)"
   ]
  },
  {
   "cell_type": "markdown",
   "metadata": {},
   "source": [
    "This representation should look familiar, no? "
   ]
  },
  {
   "cell_type": "code",
   "execution_count": 9,
   "metadata": {},
   "outputs": [
    {
     "name": "stdout",
     "output_type": "stream",
     "text": [
      "[[1 0 0 0]\n",
      " [0 1 0 0]\n",
      " [0 0 0 1]\n",
      " [0 0 1 0]]\n"
     ]
    }
   ],
   "source": [
    "print(CNOT_1)"
   ]
  },
  {
   "cell_type": "markdown",
   "metadata": {},
   "source": [
    "Just to double check,;"
   ]
  },
  {
   "cell_type": "code",
   "execution_count": 10,
   "metadata": {},
   "outputs": [
    {
     "name": "stdout",
     "output_type": "stream",
     "text": [
      "one_zero becomes...\n",
      " [[0.]\n",
      " [0.]\n",
      " [0.]\n",
      " [1.]]\n",
      "zero_zero becomes...\n",
      " [[1.]\n",
      " [0.]\n",
      " [0.]\n",
      " [0.]]\n",
      "zero_one becomes...\n",
      " [[0.]\n",
      " [1.]\n",
      " [0.]\n",
      " [0.]]\n",
      "one_one becomes...\n",
      " [[0.]\n",
      " [0.]\n",
      " [1.]\n",
      " [0.]]\n"
     ]
    }
   ],
   "source": [
    "for key, val in Psi.items():\n",
    "    print(key, 'becomes...\\n', A*val)"
   ]
  },
  {
   "cell_type": "markdown",
   "metadata": {},
   "source": [
    "The action of i) and ii) are evidently the same then $\\square$."
   ]
  },
  {
   "cell_type": "code",
   "execution_count": null,
   "metadata": {
    "collapsed": true
   },
   "outputs": [],
   "source": []
  }
 ],
 "metadata": {
  "kernelspec": {
   "display_name": "QISKitenv",
   "language": "python",
   "name": "qiskitenv"
  },
  "language_info": {
   "codemirror_mode": {
    "name": "ipython",
    "version": 3
   },
   "file_extension": ".py",
   "mimetype": "text/x-python",
   "name": "python",
   "nbconvert_exporter": "python",
   "pygments_lexer": "ipython3",
   "version": "3.6.2"
  }
 },
 "nbformat": 4,
 "nbformat_minor": 2
}
