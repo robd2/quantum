{
 "cells": [
  {
   "cell_type": "markdown",
   "metadata": {},
   "source": [
    "<img src=\"images/QISKit-c copy.gif\" alt=\"Note: In order for images to show up in this jupyter notebook you need to select File => Trusted Notebook\" width=\"250 px\" align=\"left\">"
   ]
  },
  {
   "cell_type": "markdown",
   "metadata": {},
   "source": [
    "# Hadamard Action: Approach 3\n",
    "## Jupyter Notebook 3/3 for the *Teach Me QISKIT* Tutorial Competition\n",
    "- Connor Fieweger"
   ]
  },
  {
   "cell_type": "markdown",
   "metadata": {},
   "source": [
    "<img src=\"images/hadamard_action.png\" alt=\"Note: In order for images to show up in this jupyter notebook you need to select File => Trusted Notebook\" width=\"750 px\" align=\"left\">"
   ]
  },
  {
   "cell_type": "markdown",
   "metadata": {},
   "source": [
    "### Starting with QISKit:\n",
    "In order to run this notebook, one must first download the Quantum Information Software Kit (QISKit) library from IBM at https://github.com/QISKit/qiskit-sdk-py (as well as supplementary libraries numpy and SciPy and an up-to-date version of python). \n",
    "\n",
    "One ought to also sign up for an IBM Q Experience account at https://quantumexperience.ng.bluemix.net/qx/experience in order to generate an APIToken (go to My Account > Advanced) for accessing the backends provided by IBM. The account sign up and APIToken specifcation is not actually necessary since this notebook assumes use of the local qasm simulator for the sake of simplicity, but its recommended, as seeing your code executed on an actual quantum device in some other location is really quite amazing and one of the unique capabilities of the QISKit library."
   ]
  },
  {
   "cell_type": "code",
   "execution_count": 1,
   "metadata": {
    "collapsed": true
   },
   "outputs": [],
   "source": [
    "# import necessary libraries\n",
    "import numpy as np\n",
    "from pprint import pprint\n",
    "from qiskit import QuantumProgram\n",
    "from qiskit.tools.visualization import plot_histogram\n",
    "#import Qconfig\n",
    "# When working worth external backends (more on this below),\n",
    "# be sure that the working directory has a \n",
    "# Qconfig.py file for importing your APIToken from \n",
    "# your IBM Q Experience account. \n",
    "# An example file has been provided, so for working\n",
    "# in this notebook you can simply set \n",
    "# the variable values to your credentials and rename \n",
    "# this file as 'Qconfig.py'"
   ]
  },
  {
   "cell_type": "markdown",
   "metadata": {},
   "source": [
    "The final approach to showing equivalence of the presented circuit diagrams is to implement the QISKit library in order to compute and  measure the final state. This is done by creating instances of classes in python that represent a circuit with a given set of registers and then using class methods on these circuits to make the class equivalent of gate operations on the qubits. The operations are then executed using a method that calls a backend, i.e. some computing machine invisible to the programmer, to perform the computation and then stores the results. The backend can either be a classical simulator that attempts to mimick the behavior of a quantum circuit as best as it can or an actual quantum computer chip in the dilution refrigerators at the Watson research center.  \n",
    "\n",
    "In reading this notebook, one ought to dig around in the files for QISKit to find the relevant class and method definitions -- the particularly relevant ones in this notebook will be QuantumProgram, QuantumCircuit, and the Register family (ClassicalRegister, QuantumRegister, Register), so take some time now to read through these files."
   ]
  },
  {
   "cell_type": "markdown",
   "metadata": {},
   "source": [
    "## Circuit i)\n",
    "For i), the initial state of the input is represented by the tensor product of the two input qubits in the initial register. This is given by:\n",
    "\n",
    "$$|\\Psi> = |\\psi_1> \\otimes |\\psi_2> = |\\psi_2\\psi_1>$$\n",
    "\n",
    "Where each |$\\psi$> can be either |0> or |1>\n",
    "\n",
    "*Note the convention change in the order of qubits in the product state representation on the right -- see appendix notebook under 'Reading a circuit diagram' for why there is a discrepancy here. This notebook will follow the above for consistency with IBM's documentation, which follows the same convention: (https://quantumexperience.ng.bluemix.net/qx/tutorial?sectionId=beginners-guide&page=006-Multi-Qubit_Gates~2F001-Multi-Qubit_Gates)*"
   ]
  },
  {
   "cell_type": "code",
   "execution_count": 2,
   "metadata": {
    "collapsed": true
   },
   "outputs": [],
   "source": [
    "# This initial state register\n",
    "# can be realized in python by creating an instance of the \n",
    "# QISKit QuantumProgram Class with a quantum register of 2 qubits \n",
    "# and 2 classical ancilla bits for measuring the states\n",
    "i = QuantumProgram()\n",
    "\n",
    "n = 2\n",
    "i_q = i.create_quantum_register(\"i_q\", n)\n",
    "i_c = i.create_classical_register(\"i_c\", n)"
   ]
  },
  {
   "cell_type": "code",
   "execution_count": 3,
   "metadata": {
    "collapsed": true
   },
   "outputs": [],
   "source": [
    "#i.set_api(Qconfig.APItoken, Qconfig.config['url']) # set the APIToken and API url"
   ]
  },
  {
   "cell_type": "code",
   "execution_count": 3,
   "metadata": {},
   "outputs": [
    {
     "data": {
      "text/plain": [
       "['local_qiskit_simulator',\n",
       " 'local_unitary_simulator',\n",
       " 'local_clifford_simulator',\n",
       " 'local_qasm_simulator']"
      ]
     },
     "execution_count": 3,
     "metadata": {},
     "output_type": "execute_result"
    }
   ],
   "source": [
    "i.available_backends() #check backends - if you've set up your APIToken properly you\n",
    "#should be able to see the quantum chips and simulators at IBM"
   ]
  },
  {
   "cell_type": "markdown",
   "metadata": {},
   "source": [
    "https://github.com/QISKit/ibmqx-backend-information/tree/master/backends/ -- follow this url for background on how the quantum chips/simulators work.\n",
    "*Note: when working with the quantum chip backends, especially when applying CNOTs, be sure to check documentation on the allowed two-qubit gate configurations.*"
   ]
  },
  {
   "cell_type": "code",
   "execution_count": 4,
   "metadata": {},
   "outputs": [
    {
     "name": "stdout",
     "output_type": "stream",
     "text": [
      "local_qiskit_simulator\n",
      "{'available': True}\n",
      "local_unitary_simulator\n",
      "{'available': True}\n",
      "local_clifford_simulator\n",
      "{'available': True}\n",
      "local_qasm_simulator\n",
      "{'available': True}\n"
     ]
    }
   ],
   "source": [
    "for backend in i.available_backends(): #check backend status\n",
    "    print(backend)\n",
    "    pprint(i.get_backend_status(backend))"
   ]
  },
  {
   "cell_type": "markdown",
   "metadata": {},
   "source": [
    "Throughout the notebook, we'll need to evaluate the final state of a given the circuit and display the results, so let's define a function for this:"
   ]
  },
  {
   "cell_type": "code",
   "execution_count": 5,
   "metadata": {
    "collapsed": true
   },
   "outputs": [],
   "source": [
    "def execute_and_plot(qp, circuits, backend = \"local_qasm_simulator\"):\n",
    "    \"\"\"Executes circuits and plots the final \n",
    "    state histograms the for each circuit.\n",
    "    Adapted from 'execute_and_plot' function\n",
    "    in the beginners_guide_composer_examples\n",
    "    notebook provided in IBM's QISKit\n",
    "    tutorial library on GitHub.\n",
    "    \n",
    "    Args:\n",
    "        qp: QuantumProgram containing the circuits\n",
    "        circuits (list): list of circuits to execute\n",
    "        backend (string): allows for specifying the backend \n",
    "        to execute on. Defaults to local qasm simulator\n",
    "        downloaded with QISKit library, but can be specified\n",
    "        to run on an actual quantum chip by using the string\n",
    "        names of the available backends at IBM.\n",
    "    \"\"\"\n",
    "    # Store the results of the circuit implementation\n",
    "    # using the .execute() method\n",
    "    results = qp.execute(circuits, backend = backend)\n",
    " \n",
    "    for circuit in circuits:\n",
    "        plot_histogram(results.get_counts(circuit)) # .get_counts()\n",
    "        # method returns a dictionary that maps each possible\n",
    "        # final state to the number of instances of \n",
    "        # said state over n evaluations \n",
    "        # (n defaults to 1024 for local qasm simulator),\n",
    "        # where multiple evaluations are a necessity since\n",
    "        # quantum computation outputs are statistically\n",
    "        # informed"
   ]
  },
  {
   "cell_type": "markdown",
   "metadata": {},
   "source": [
    "Note: when working with the quantum chip backends, especially when applying CNOTs, be sure to check documentation on the allowed two-qubit gate configurations at: https://github.com/QISKit/ibmqx-backend-information/tree/master/backends/ . This program assumes use of the local qasm simulator."
   ]
  },
  {
   "cell_type": "markdown",
   "metadata": {},
   "source": [
    "Creating a QuantumCircuit instance and storing it in our QuantumProgram allows us to build up a set of operations to apply to this circuit through class methods and then execute this set of operation, so lets do this for each possible input state and read out the end result."
   ]
  },
  {
   "cell_type": "code",
   "execution_count": 6,
   "metadata": {},
   "outputs": [
    {
     "data": {
      "image/png": "[encoded data removed]",
      "text/plain": [
       "<matplotlib.figure.Figure at 0x7fcb06ef5f98>"
      ]
     },
     "metadata": {},
     "output_type": "display_data"
    }
   ],
   "source": [
    "# Initialize circuit:\n",
    "cnot_i_00 = i.create_circuit(\"cnot_i_00\", [i_q], [i_c]) \n",
    "# Note: qubits are assumed by QISKit\n",
    "# to be initialized in the |0> state\n",
    "\n",
    "# Apply gates according to diagram:\n",
    "cnot_i_00.cx(i_q[0], i_q[1]) # Apply CNOT on line 2 controlled by line 1\n",
    "\n",
    "# Measure final state:\n",
    "cnot_i_00.measure(i_q[0], i_c[0]) # Write qubit 1 state onto classical ancilla bit 1\n",
    "cnot_i_00.measure(i_q[1], i_c[1]) # Write qubit 2 state onto classical ancilla bit 2\n",
    "\n",
    "# Display final state probabilities:\n",
    "execute_and_plot(i, [\"cnot_i_00\"])"
   ]
  },
  {
   "cell_type": "markdown",
   "metadata": {},
   "source": [
    "*Note: The set of circuit operations to be executed can also be specified through a 'QASM', or a string that contains the registers and the set of operators to apply. We can get this string for the circuit we just made through the `.get_qasm()` method. This is also helpful for checking our implementation of the circuit, as we can read off the operations and make sure they match up with the diagram*"
   ]
  },
  {
   "cell_type": "code",
   "execution_count": 7,
   "metadata": {},
   "outputs": [
    {
     "name": "stdout",
     "output_type": "stream",
     "text": [
      "OPENQASM 2.0;\n",
      "include \"qelib1.inc\";\n",
      "qreg i_q[2];\n",
      "creg i_c[2];\n",
      "cx i_q[0],i_q[1];\n",
      "measure i_q[0] -> i_c[0];\n",
      "measure i_q[1] -> i_c[1];\n",
      "\n"
     ]
    }
   ],
   "source": [
    "print(i.get_qasm('cnot_i_00'))"
   ]
  },
  {
   "cell_type": "markdown",
   "metadata": {},
   "source": [
    "*These QASM strings can also be used the other way around to create a circuit through the `.load_qasm_file()` and `load_qasm_text()` methods for the QuantumProgram class.*\n",
    "\n",
    "Continuing input by input,"
   ]
  },
  {
   "cell_type": "code",
   "execution_count": 8,
   "metadata": {},
   "outputs": [
    {
     "data": {
      "image/png": "[encoded data removed]",
      "text/plain": [
       "<matplotlib.figure.Figure at 0x7fcb0558a5f8>"
      ]
     },
     "metadata": {},
     "output_type": "display_data"
    }
   ],
   "source": [
    "# Initialize circuit:\n",
    "cnot_i_01 = i.create_circuit(\"cnot_i_01\", [i_q], [i_c])\n",
    "cnot_i_01.x(i_q[0]) # Set the 1st qubit to |1> by flipping \n",
    "# the initialized |0> with an X gate before implementing\n",
    "# the circuit \n",
    "\n",
    "# Apply gates according to diagram:\n",
    "cnot_i_01.cx(i_q[0], i_q[1]) # Apply CNOT controlled by line 1\n",
    "\n",
    "# Measure final state:\n",
    "cnot_i_01.measure(i_q[0], i_c[0])\n",
    "cnot_i_01.measure(i_q[1], i_c[1])\n",
    "\n",
    "# Display final state probabilities:\n",
    "execute_and_plot(i, [\"cnot_i_01\"])"
   ]
  },
  {
   "cell_type": "code",
   "execution_count": 9,
   "metadata": {},
   "outputs": [
    {
     "data": {
      "image/png": "[encoded data removed]",
      "text/plain": [
       "<matplotlib.figure.Figure at 0x7fcb06fb0f98>"
      ]
     },
     "metadata": {},
     "output_type": "display_data"
    }
   ],
   "source": [
    "# Initialize circuit:\n",
    "cnot_i_10 = i.create_circuit(\"cnot_i_10\", [i_q], [i_c])\n",
    "cnot_i_10.x(i_q[1]) # Set the 2nd qubit to |1>\n",
    "\n",
    "# Apply gates according to diagram:\n",
    "cnot_i_10.cx(i_q[0], i_q[1]) # Apply CNOT controlled by line 1\n",
    "\n",
    "# Measure final state:\n",
    "cnot_i_10.measure(i_q[0], i_c[0])\n",
    "cnot_i_10.measure(i_q[1], i_c[1])\n",
    "\n",
    "# Display final state probabilities:\n",
    "execute_and_plot(i, [\"cnot_i_10\"])"
   ]
  },
  {
   "cell_type": "code",
   "execution_count": 10,
   "metadata": {},
   "outputs": [
    {
     "data": {
      "image/png": "[encoded data removed]",
      "text/plain": [
       "<matplotlib.figure.Figure at 0x7fcb05594a20>"
      ]
     },
     "metadata": {},
     "output_type": "display_data"
    }
   ],
   "source": [
    "# Initialize circuit:\n",
    "cnot_i_11 = i.create_circuit(\"cnot_i_11\", [i_q], [i_c])\n",
    "cnot_i_11.x(i_q[0]) # Set the 1st qubit to |1>\n",
    "cnot_i_11.x(i_q[1]) # Set the 2nd qubit to |1>\n",
    "\n",
    "# Apply gates according to diagram:\n",
    "cnot_i_11.cx(i_q[0], i_q[1]) # Apply CNOT controlled by line 1\n",
    "\n",
    "# Measure final states:\n",
    "cnot_i_11.measure(i_q[0], i_c[0])\n",
    "cnot_i_11.measure(i_q[1], i_c[1])\n",
    "\n",
    "# Display final state probabilities:\n",
    "execute_and_plot(i, [\"cnot_i_11\"])"
   ]
  },
  {
   "cell_type": "markdown",
   "metadata": {},
   "source": [
    "Reading these off, we have $[\\Psi = |00>,|10>,|01>,|11>]\\rightarrow [\\Psi' = |00>,|10>,|11>,|01>]$. \n",
    "\n",
    "Note that this is the same answer (up to convention in product-state notation) as obtained for approaches 1 and 2, only this time we have had a far less tedious time of writing out logic operations or matrices thanks to the QISKit library abstracting much of this away for us. While the numpy library was helpful for making linear algebra operations, the matrices had to be user defined and this method does not have nearly the scalability or ease of computation that QISKit offers."
   ]
  },
  {
   "cell_type": "markdown",
   "metadata": {},
   "source": [
    "## Circuit ii)"
   ]
  },
  {
   "cell_type": "code",
   "execution_count": 11,
   "metadata": {
    "collapsed": true
   },
   "outputs": [],
   "source": [
    "# For circuit ii, we can again create a QuantumProgram instance to \n",
    "# realize a quantum register of size 2 with 2 classical ancilla bits\n",
    "# for measurement\n",
    "ii = QuantumProgram()\n",
    "\n",
    "n = 2\n",
    "ii_q = ii.create_quantum_register(\"ii_q\", n)\n",
    "ii_c = ii.create_classical_register(\"ii_c\", n)"
   ]
  },
  {
   "cell_type": "code",
   "execution_count": 14,
   "metadata": {
    "collapsed": true
   },
   "outputs": [],
   "source": [
    "#ii.set_api(Qconfig.APItoken, Qconfig.config['url']) # set the APIToken and API url   "
   ]
  },
  {
   "cell_type": "code",
   "execution_count": 12,
   "metadata": {},
   "outputs": [
    {
     "data": {
      "text/plain": [
       "['local_qiskit_simulator',\n",
       " 'local_unitary_simulator',\n",
       " 'local_clifford_simulator',\n",
       " 'local_qasm_simulator']"
      ]
     },
     "execution_count": 12,
     "metadata": {},
     "output_type": "execute_result"
    }
   ],
   "source": [
    "ii.available_backends() #check backends - if you've set up your APIToken properly you\n",
    "#should be able to see the quantum chips and simulators at IBM"
   ]
  },
  {
   "cell_type": "code",
   "execution_count": 13,
   "metadata": {},
   "outputs": [
    {
     "name": "stdout",
     "output_type": "stream",
     "text": [
      "local_qiskit_simulator\n",
      "{'available': True}\n",
      "local_unitary_simulator\n",
      "{'available': True}\n",
      "local_clifford_simulator\n",
      "{'available': True}\n",
      "local_qasm_simulator\n",
      "{'available': True}\n"
     ]
    }
   ],
   "source": [
    "for backend in ii.available_backends(): #check backend status\n",
    "    print(backend)\n",
    "    pprint(ii.get_backend_status(backend))"
   ]
  },
  {
   "cell_type": "markdown",
   "metadata": {},
   "source": [
    "Now for executing circuit ii):"
   ]
  },
  {
   "cell_type": "code",
   "execution_count": 14,
   "metadata": {},
   "outputs": [
    {
     "data": {
      "image/png": "[encoded data removed]",
      "text/plain": [
       "<matplotlib.figure.Figure at 0x7fcb0542e7f0>"
      ]
     },
     "metadata": {},
     "output_type": "display_data"
    }
   ],
   "source": [
    "# Initialize circuit:\n",
    "cnot_ii_00 = ii.create_circuit(\"cnot_ii_00\", [ii_q], [ii_c])\n",
    "\n",
    "# Apply gates according to diagram:\n",
    "cnot_ii_00.h(ii_q) # Apply hadamards in parallel, note that specifying\n",
    "# a register a a gate method argument applies the operation to all\n",
    "# qubits in the register\n",
    "cnot_ii_00.cx(ii_q[1], ii_q[0]) #apply CNOT controlled by line 2\n",
    "cnot_ii_00.h(ii_q) # Apply hadamards in parallel\n",
    "\n",
    "# Measure final state:\n",
    "cnot_ii_00.measure(ii_q[0], ii_c[0])\n",
    "cnot_ii_00.measure(ii_q[1], ii_c[1])\n",
    "\n",
    "# Display final state probabilities\n",
    "execute_and_plot(ii, [\"cnot_ii_00\"])"
   ]
  },
  {
   "cell_type": "code",
   "execution_count": 15,
   "metadata": {},
   "outputs": [
    {
     "data": {
      "image/png": "[encoded data removed]",
      "text/plain": [
       "<matplotlib.figure.Figure at 0x7fcb053456d8>"
      ]
     },
     "metadata": {},
     "output_type": "display_data"
    }
   ],
   "source": [
    "# Initialize circuit:\n",
    "cnot_ii_01 = ii.create_circuit(\"cnot_ii_01\", [ii_q], [ii_c])\n",
    "cnot_ii_01.x(ii_q[0]) # Set the 1st qubit to |1>\n",
    "\n",
    "# Apply gates according to diagram:\n",
    "cnot_ii_00.h(ii_q) # Apply hadamards in parallel\n",
    "cnot_ii_01.cx(ii_q[1], ii_q[0]) # Apply CNOT controlled by line 2\n",
    "cnot_ii_00.h(ii_q) # Apply hadamards in parallel\n",
    "\n",
    "# Measure final state:\n",
    "cnot_ii_01.measure(ii_q[0], ii_c[0])\n",
    "cnot_ii_01.measure(ii_q[1], ii_c[1])\n",
    "\n",
    "# Display final state probabilities:\n",
    "execute_and_plot(ii, [\"cnot_ii_01\"])"
   ]
  },
  {
   "cell_type": "code",
   "execution_count": 16,
   "metadata": {},
   "outputs": [
    {
     "data": {
      "image/png": "[encoded data removed]",
      "text/plain": [
       "<matplotlib.figure.Figure at 0x7fcb06de9ba8>"
      ]
     },
     "metadata": {},
     "output_type": "display_data"
    }
   ],
   "source": [
    "# Initialize circuits\n",
    "cnot_ii_10 = ii.create_circuit(\"cnot_ii_10\", [ii_q], [ii_c])\n",
    "cnot_ii_10.x(ii_q[1]) # Set the 2nd qubit to |1>\n",
    "\n",
    "# Apply gates according to diagram:\n",
    "cnot_ii_00.h(ii_q) # Apply hadamards in parallel\n",
    "cnot_ii_10.cx(ii_q[1], ii_q[0]) # Apply CNOT controlled by line 2\n",
    "cnot_ii_00.h(ii_q) # Apply hadamards in parallel\n",
    "\n",
    "# Measure final state:\n",
    "cnot_ii_10.measure(ii_q[0], ii_c[0])\n",
    "cnot_ii_10.measure(ii_q[1], ii_c[1])\n",
    "\n",
    "# Display final state probabilities:\n",
    "execute_and_plot(ii, [\"cnot_ii_10\"])"
   ]
  },
  {
   "cell_type": "code",
   "execution_count": 17,
   "metadata": {},
   "outputs": [
    {
     "data": {
      "image/png": "[encoded data removed]",
      "text/plain": [
       "<matplotlib.figure.Figure at 0x7fcb06f0cba8>"
      ]
     },
     "metadata": {},
     "output_type": "display_data"
    }
   ],
   "source": [
    "# Initialize circuits:\n",
    "cnot_ii_11 = ii.create_circuit(\"cnot_ii_11\", [ii_q], [ii_c])\n",
    "cnot_ii_11.x(ii_q[0]) # Set the 1st qubit to |1>\n",
    "cnot_ii_11.x(ii_q[1]) # Set the 2nd qubit to |1>\n",
    "\n",
    "# Apply gates according to diagram:\n",
    "cnot_ii_00.h(ii_q) # Apply hadamards in parallel\n",
    "cnot_ii_11.cx(ii_q[1], ii_q[0]) # Apply CNOT controlled by line 2\n",
    "cnot_ii_00.h(ii_q) # Apply hadamards in parallel\n",
    "\n",
    "# Measure final state\n",
    "cnot_ii_11.measure(ii_q[0], ii_c[0])\n",
    "cnot_ii_11.measure(ii_q[1], ii_c[1])\n",
    "\n",
    "# Display final state probabilities\n",
    "execute_and_plot(ii, [\"cnot_ii_11\"])"
   ]
  },
  {
   "cell_type": "markdown",
   "metadata": {},
   "source": [
    "Reading off the computed final state, we see that it matches the computed final state of i), and so the circuits are considered equivalent $\\square$."
   ]
  },
  {
   "cell_type": "markdown",
   "metadata": {},
   "source": [
    "<hr>"
   ]
  },
  {
   "cell_type": "markdown",
   "metadata": {},
   "source": [
    "### Another implementation:"
   ]
  },
  {
   "cell_type": "markdown",
   "metadata": {},
   "source": [
    "The input-by-input approach is helpful for first steps in understanding QISKit, but is also more long-winded than necessary. For a solution to the problem that uses QISKit more concisely/cleverly:"
   ]
  },
  {
   "cell_type": "code",
   "execution_count": 18,
   "metadata": {
    "collapsed": true
   },
   "outputs": [],
   "source": [
    "def circuit_i():\n",
    "    i = QuantumProgram()\n",
    "    i_q = i.create_quantum_register('i_q', 2)\n",
    "    i_c = i.create_classical_register('i_c', 2)\n",
    "    initial_states = ['00','01','10','11']\n",
    "    initial_circuits = {state: i.create_circuit('%s'%(state), [i_q], [i_c]) \\\n",
    "                       for state in initial_states}\n",
    "    final_circuits = {}\n",
    "    for state in initial_states:\n",
    "        if state[0] is '1':\n",
    "            initial_circuits[state].x(i_q[0])\n",
    "        if state[1] is '1':\n",
    "            initial_circuits[state].x(i_q[1])\n",
    "            \n",
    "        initial_circuits[state].cx(i_q[0], i_q[1])\n",
    "        \n",
    "        initial_circuits[state].measure(i_q[0], i_c[0])\n",
    "        initial_circuits[state].measure(i_q[1], i_c[1])\n",
    "        final_circuits[state] = initial_circuits[state]\n",
    "    return i"
   ]
  },
  {
   "cell_type": "code",
   "execution_count": 19,
   "metadata": {
    "collapsed": true
   },
   "outputs": [],
   "source": [
    "def circuit_ii():\n",
    "    ii = QuantumProgram()\n",
    "    ii_q = ii.create_quantum_register('ii_q', 2)\n",
    "    ii_c = ii.create_classical_register('ii_c', 2)\n",
    "    initial_states = ['00','01','10','11']\n",
    "    circuits = {state: ii.create_circuit('%s'%(state), [ii_q], [ii_c]) \\\n",
    "                       for state in initial_states}\n",
    "    for state in initial_states:\n",
    "        if state[0] is '1':\n",
    "            circuits[state].x(ii_q[0])\n",
    "        if state[1] is '1':\n",
    "            circuits[state].x(ii_q[1])\n",
    "            \n",
    "        circuits[state].h(ii_q)\n",
    "        circuits[state].cx(ii_q[1], ii_q[0])\n",
    "        circuits[state].h(ii_q)\n",
    "        \n",
    "        circuits[state].measure(ii_q[0], ii_c[0])\n",
    "        circuits[state].measure(ii_q[1], ii_c[1])\n",
    "    return ii"
   ]
  },
  {
   "cell_type": "code",
   "execution_count": 20,
   "metadata": {
    "collapsed": true
   },
   "outputs": [],
   "source": [
    "i = circuit_i()\n",
    "ii = circuit_ii()\n",
    "#i.set_api(Qconfig.APItoken, Qconfig.config['url'])   \n",
    "#ii.set_api(Qconfig.APItoken, Qconfig.config['url'])   "
   ]
  },
  {
   "cell_type": "code",
   "execution_count": 21,
   "metadata": {
    "collapsed": true
   },
   "outputs": [],
   "source": [
    "results_i = i.execute(list(i.get_circuit_names()))\n",
    "results_ii = ii.execute(list(ii.get_circuit_names()))"
   ]
  },
  {
   "cell_type": "code",
   "execution_count": 22,
   "metadata": {
    "collapsed": true
   },
   "outputs": [],
   "source": [
    "results_i_mapping = {circuit: results_i.get_counts(circuit) for circuit in list(i.get_circuit_names())}\n",
    "results_ii_mapping = {circuit: results_ii.get_counts(circuit) for circuit in list(ii.get_circuit_names())}"
   ]
  },
  {
   "cell_type": "code",
   "execution_count": 23,
   "metadata": {},
   "outputs": [
    {
     "name": "stdout",
     "output_type": "stream",
     "text": [
      "{'01': {'10': 1024}, '10': {'11': 1024}, '00': {'00': 1024}, '11': {'01': 1024}}\n",
      "{'01': {'10': 1024}, '10': {'11': 1024}, '00': {'00': 1024}, '11': {'01': 1024}}\n"
     ]
    }
   ],
   "source": [
    "print(results_i_mapping)\n",
    "print(results_ii_mapping)"
   ]
  },
  {
   "cell_type": "markdown",
   "metadata": {},
   "source": [
    "$\\square$."
   ]
  },
  {
   "cell_type": "markdown",
   "metadata": {},
   "source": [
    "## Next steps:\n",
    "\n",
    "Thank you for reading through this tutorial! The author hopes that it has been a helpful experience in getting started with QISKit and quantum circuitry. For moving forward, consider the following projects:\n",
    "   - Edit this notebook such that it can run on an actual quantum chip! By looking at the documentation/configuration of backends either online or through the `.get_backend_configuration()` method, you can find the connectivity map and then set up a circuit implementation that satisfies the 2-qubit gate constraints from this connectivity map. I strongly recommend this, as this is a vital step to unlocking the true power of QISKit, which is interfacing with actual quantum backends.\n",
    "   - Implement an entirely different circuit.\n",
    "   - Try generating circuits by uploading QASM strings.\n",
    "   - Follow through with the provided tutorial files on the QISKit GitHub\n",
    "   - Look through the provided further readings in the appendix notebook.\n",
    " "
   ]
  },
  {
   "cell_type": "code",
   "execution_count": null,
   "metadata": {
    "collapsed": true
   },
   "outputs": [],
   "source": []
  }
 ],
 "metadata": {
  "kernelspec": {
   "display_name": "Python 3",
   "language": "python",
   "name": "python3"
  },
  "language_info": {
   "codemirror_mode": {
    "name": "ipython",
    "version": 3
   },
   "file_extension": ".py",
   "mimetype": "text/x-python",
   "name": "python",
   "nbconvert_exporter": "python",
   "pygments_lexer": "ipython3",
   "version": "3.6.3"
  }
 },
 "nbformat": 4,
 "nbformat_minor": 2
}
