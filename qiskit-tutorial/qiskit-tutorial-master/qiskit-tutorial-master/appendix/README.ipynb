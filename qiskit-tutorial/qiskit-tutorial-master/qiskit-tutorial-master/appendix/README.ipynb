{
 "cells": [
  {
   "cell_type": "markdown",
   "metadata": {},
   "source": [
    "# Appendix\n",
    "\n",
    "This folder contains the rest of the tutorials. They are not guaranteed to work with the\n",
    "latest version of QISKit but we will try our best.\n",
    "\n",
    "All new tutorials will also be placed under this folder\n",
    "until they are moved to their proper location (the `Reference` or the `Hello, Quantum World` directory).\n",
    "\n",
    "The tutorials under this Appendix are classified into four categories:\n",
    "- [Advanced QISKit](advanced_qiskit) - contain tutorials explaining the functionalities of QISKit.\n",
    "- [More on Quantum Information Science](more_qis) - tutorials related to Quantum Information Science.\n",
    "- [Algorithms and Applications](algo_app) - tutorials on Quantum Algorithms and Applications.\n",
    "- [Teach Me QISKit Tutorial Award 2018](teach_me_qiskit_2018) - top submissions to Teach Me QISKit Tutorial Award 2018\n",
    "- [Etc.](etc) - anything else that does not fall into the previous categories."
   ]
  }
 ],
 "metadata": {},
 "nbformat": 4,
 "nbformat_minor": 2
}
