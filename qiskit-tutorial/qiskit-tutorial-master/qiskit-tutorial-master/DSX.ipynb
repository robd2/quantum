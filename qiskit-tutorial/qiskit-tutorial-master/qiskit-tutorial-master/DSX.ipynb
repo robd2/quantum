{
 "cells": [
  {
   "cell_type": "markdown",
   "metadata": {},
   "source": [
    "# <img src=\"images/qiskit-heading.gif\" alt=\"Note: In order for images to show up in this jupyter notebook you need to select File => Trusted Notebook\" width=\"500 px\" align=\"left\">"
   ]
  },
  {
   "cell_type": "markdown",
   "metadata": {},
   "source": [
    "## Running QISKit Jupyter Notebooks using the IBM Data Science Experience\n",
    "\n",
    "This article shows you how to set up and run [QISKit](https://www.qiskit.org/) Jupyter notebooks using [IBM Data Science Experience](https://datascience.ibm.com/) (IBM DSX), thanks to Doug McClure ([@dtmcclure](https://github.com/dtmcclure)) and Ninad Sathaye ([@sathayen](https://github.com/sathayen/)). The latest version of this notebook is available [here](https://github.com/QISKit/qiskit-tutorial), where you can find all the other QISKit tutorials.\n",
    "\n",
    "#### About IBM Data Science Experience\n",
    "\n",
    "IBM DSX is an interactive, collaborative, cloud-based environment where data scientists can use multiple tools to activate their insights.  \n",
    "\n",
    "If you are just starting with QISKit and looking for a webhosted Jupyter notebook environment, IBM DSX is an excellent option. It is fairly easy to get your quantum notebook running in the Jupyter notebook environment provided by IBM DSX. Moreover, it provides a platform where you can create your notebooks, invite fellow researchers to collaborate, or simply share your work within the community.\n",
    "\n",
    "### Prerequisites\n",
    "\n",
    "- You must sign up for the IBM Data Science Experience ([IBM DSX](https://datascience.ibm.com/)). Tip: It is often convenient to use an IBM ID when signing up. If you do not have one already, [create it first](https://www.ibm.com/account/us-en/signup/register.html).\n",
    "- You also need an account for the IBM Quantum Experience ([IBM QX](https://quantumexperience.ng.bluemix.net/qx)). You can optionally use the IBM ID here as well. This account is required so that you can connect to the API using an 'API TOKEN'. \n",
    "\n",
    "### Steps\n",
    "1. [Setup QISKit](#setup)\n",
    "2. [Test QISKit](#test)\n",
    "3. [Run QISKit](#run) "
   ]
  },
  {
   "cell_type": "markdown",
   "metadata": {},
   "source": [
    "#### 1. Setting up QISKit in your DSX account <a id='setup'></a>\n",
    "1. Download this file ([DSX.ipynb](DSX.ipynb))\n",
    "2. Log into the [IBM DSX](https://datascience.ibm.com/)\n",
    "3. Create a new notebook from your downloaded DSX.ipynb\n",
    "4. Get your IBM QX API token\n",
    "  - Logon to the [IBM QX](https://quantumexperience.ng.bluemix.net/qx)\n",
    "  - Click on your username on the top right, and select *My Account*\n",
    "  - Copy the token displayed under *Advanced*. Make sure it is enclosed in quotes \"\"\n",
    "5. Update the value *`\"PUT_YOUR_API_TOKEN_HERE\"`* in the code cell with the API token you just copied in previous step\n",
    "  - **NOTE:** If you are sharing this notebook, MAKE SURE TO REMOVE the API token string before sharing! \n",
    "6. Run the following code cell to install QISKit on your DSX account and connect to the IBM QX. "
   ]
  },
  {
   "cell_type": "code",
   "execution_count": null,
   "metadata": {
    "collapsed": true
   },
   "outputs": [],
   "source": [
    "# This cell does some preparatory work to set QISKit up on the IBM Data Science Experience. \n",
    "\n",
    "# --------------------------------------------------------------------------------------------------\n",
    "# IMPORTANT NOTES: \n",
    "# 1) Your QX API token can be found in the *Advanced* section of the *My Account* page of the QX. \n",
    "#    Copy-Paste it into the QX_API_TOKEN variable below. BE SURE TO ENCLOSE IN QUOTES (\"\")\n",
    "# 2) If you are sharing any notebooks, MAKE SURE TO REMOVE the API token string before sharing! \n",
    "# 3) This both creates an IBMQE_API environment variable as well as a Qconfig.py file for connecting\n",
    "#    to IBM QX.\n",
    "# --------------------------------------------------------------------------------------------------\n",
    "import os, sys\n",
    "\n",
    "os.environ[\"IBMQE_API\"] = \"PUT_YOUR_API_TOKEN_HERE\"\n",
    "\n",
    "# DO NOT CHANGE THE FOLLOWING assertions\n",
    "assert os.environ[\"IBMQE_API\"] != \"PUT_YOUR_API_TOKEN_HERE\", \"QX_API_TOKEN not updated!\"\n",
    "\n",
    "# Install qiskit \n",
    "!pip install qiskit\n",
    "\n",
    "# Create Qconfig.py for connecting to QX\n",
    "import importlib\n",
    "import urllib.request\n",
    "\n",
    "home_dir = os.path.expanduser('~')\n",
    "qconfig_filepath = os.path.join(home_dir, 'Qconfig.py') \n",
    "\n",
    "qconfig_template_path = \"https://raw.githubusercontent.com/QISKit/qiskit-tutorial/master/Qconfig.py.template\"\n",
    "\n",
    "# We need visibility to Qconfig.py module. Add home dir in your sys.path just to be sure. \n",
    "if home_dir not in sys.path:\n",
    "    sys.path.append(home_dir)\n",
    "    \n",
    "# First check if the Qconfig module has already been loaded (may happen if you are executing this cell more than once)\n",
    "if 'Qconfig' in sys.modules:\n",
    "    # The module has been imported already. Reload it to make sure we get the latest API token\n",
    "    try:\n",
    "        importlib.reload(Qconfig)\n",
    "        Qconfig.update_token(os.environ[\"IBMQE_API\"])\n",
    "    except AttributeError:\n",
    "        print(\"Qconfig reload failed. This could be due to missing Qconfig.py file.\")\n",
    "        print(\"Try restarting the Jupyter notebook kernel!\")\n",
    "        raise\n",
    "    except AssertionError:\n",
    "        print(\"Have you set a valid APItoken?\")\n",
    "        raise\n",
    "    except:\n",
    "        print(\"Qconfig reload or API token update failed.\")\n",
    "        print(\"Try updating the token and restarting the Jupyter notebook kernel\")\n",
    "        raise \n",
    "else:\n",
    "    # Try importing Qconfig module. If it doesn't exist, then download it from the qiskit-tutorials repo. \n",
    "    try:\n",
    "        import Qconfig\n",
    "    except ImportError:\n",
    "        urllib.request.urlretrieve (\"{}\".format(qconfig_template_path), \"{}\".format(qconfig_filepath))\n",
    "        # chmod the file. For Python 3, need to prefix the permission with 0o (zero and character small oh)\n",
    "        os.chmod(qconfig_filepath , 0o664)\n",
    "        import Qconfig\n",
    "    except:\n",
    "        print(\"Unexpected error!\")\n",
    "        raise\n",
    "            "
   ]
  },
  {
   "cell_type": "markdown",
   "metadata": {},
   "source": [
    "#### 2. Testing your QISKit setup<a id='test'></a>\n",
    "\n",
    "Run the following *code cell* to test your QISKit setup. It should print `COMPLETED`."
   ]
  },
  {
   "cell_type": "code",
   "execution_count": null,
   "metadata": {
    "collapsed": true
   },
   "outputs": [],
   "source": [
    "# Trivial program to test if the QISKit setup was sucessful.\n",
    "from qiskit import *\n",
    "\n",
    "qp = QuantumProgram()\n",
    "qp.set_api(Qconfig.APItoken, Qconfig.config['url'])\n",
    "\n",
    "# Create a 2-qubit Quantum Register, \"qr\"\n",
    "qr = qp.create_quantum_register(\"qr\", 2)\n",
    "# Create a Classical Register, \"cr\", with 2 bits\n",
    "cr = qp.create_classical_register(\"cr\", 2)\n",
    "# Create the circuit\n",
    "qc = qp.create_circuit('Bell', [qr], [cr])\n",
    "\n",
    "# add measure to see the state\n",
    "qc.measure(qr, cr)\n",
    "\n",
    "result = qp.execute('Bell', backend='ibmqx_qasm_simulator', shots=1, seed=88)\n",
    "\n",
    "# Show the results\n",
    "print(result)"
   ]
  },
  {
   "cell_type": "markdown",
   "metadata": {},
   "source": [
    "#### 3. Running other QISKit Notebooks<a id='run'></a>\n",
    "\n",
    "Upload other tutorial notebooks into IBM DSX, copy the following *code cell* after updating the API token and paste it at the beginning of the *other* notebooks."
   ]
  },
  {
   "cell_type": "code",
   "execution_count": null,
   "metadata": {
    "collapsed": true
   },
   "outputs": [],
   "source": [
    "# Create IBMQE_API environment variable - remember to remove token if sharing any notebooks\n",
    "import os, sys\n",
    "os.environ[\"IBMQE_API\"] = \"PUT_YOUR_API_TOKEN_HERE\"\n",
    "\n",
    "assert os.environ[\"IBMQE_API\"] != \"PUT_YOUR_API_TOKEN_HERE\", \"QX_API_TOKEN not updated!\"\n",
    "assert sys.version_info[0:2] >= (3, 5) , \"This code requires Python 3.5 or beyond!\"\n",
    "\n",
    "# Add path to and import QConfig.py\n",
    "home_dir = os.path.expanduser('~')\n",
    "qconfig_filepath = os.path.join(home_dir, 'Qconfig.py') \n",
    "\n",
    "if home_dir not in sys.path:\n",
    "    sys.path.append(home_dir)\n",
    "\n",
    "import Qconfig\n",
    "\n",
    "# NOTE:\n",
    "# If you ever change the value of environment variable os.environ[\"IBMQE_API\"] AFTER executing this cell, \n",
    "# you can call the following code to update its value. \n",
    "# Qconfig.update_token(os.environ[\"IBMQE_API\"])    \n",
    "# Or just set it as : Qconfig.APItoken = os.environ[\"IBMQE_API\"] \n"
   ]
  }
 ],
 "metadata": {
  "anaconda-cloud": {},
  "kernelspec": {
   "display_name": "Python [default]",
   "language": "python",
   "name": "python3"
  },
  "language_info": {
   "codemirror_mode": {
    "name": "ipython",
    "version": 3
   },
   "file_extension": ".py",
   "mimetype": "text/x-python",
   "name": "python",
   "nbconvert_exporter": "python",
   "pygments_lexer": "ipython3",
   "version": "3.6.4"
  }
 },
 "nbformat": 4,
 "nbformat_minor": 1
}
