{
 "cells": [
  {
   "cell_type": "markdown",
   "metadata": {},
   "source": [
    "<img src=\"../../images/qiskit-heading.gif\" alt=\"Note: In order for images to show up in this jupyter notebook you need to select File => Trusted Notebook\" width=\"500 px\" align=\"left\">"
   ]
  },
  {
   "cell_type": "markdown",
   "metadata": {},
   "source": [
    "# _*Working with Different Backends*_ \n",
    "\n",
    "In this tutorial, we will first describe the various [backends](#backends) available in Qiskit and how to find out more information about each of them, then we will explore how Qiskit allows you to compile and run the same quantum circuit on different backends with different topology. \n",
    "\n",
    "The latest version of this notebook is available on https://github.com/QISKit/qiskit-tutorial.\n",
    "\n",
    "***\n",
    "### Contributors\n",
    "Jay Gambetta, Joe Hellmers, Anna Phan, Ali Javadi"
   ]
  },
  {
   "cell_type": "markdown",
   "metadata": {},
   "source": [
    "## Qiskit's Backend Architecture<a id='backends'></a>\n",
    "\n",
    "At the core of Qiskit is the ability to access different backends to run your quantum programs. These backends are real devices, online simulators, and local simulators. As we continue to increase the flexibility of QISKit we expect there to be many different backends. These will include new hardware with different number of qubits, connectivity, different gate sets, and simulators with different properties. \n",
    "\n",
    "Current devices can be found on the (devices page)[https://quantumexperience.ng.bluemix.net/qx/devices] of the IBM Q Experience.\n",
    "\n",
    "The simulators are grouped by functionality:\n",
    "* QASM simulators - these simulate a quantum circuit and predict the outcomes of a quantum experiment. \n",
    "* Unitary simulators – predicts the unitary of a quantum circuit without measurement and conditional operations.\n",
    "* Statevector simulators - predicts the statevector output resulting from the evolution of the zero state through a quantum circuit, without measurement and conditional operations.\n",
    "\n",
    "The three important parts defining Qiskit's backends are: the `provider`, the `backend`, and the `job` object. \n",
    "\n",
    "* The *provider* is responsible for providing access to some backends. Qiskit comes with a `LocalProvider` by default, giving you access to local simualtors. Using a simple `register` command, you are able to access the backends available from IBMQ, including its devices and online simulators. Once the correct authentication with a provider is performed, all of its backends are available for running jobs.\n",
    "* The *backend* is responsible for running a `Qobj` (compiled program), and reporting a result.\n",
    "* The *job* is the result of an execution. Jobs in Qiskit are launched asynchronously, meaning you get control of your Python program after you launch an execution, with a handle to the job that was submitted. You may then continue to inquire about the status of a job, or once complete, see the result from a job."
   ]
  },
  {
   "cell_type": "code",
   "execution_count": 1,
   "metadata": {},
   "outputs": [
    {
     "name": "stdout",
     "output_type": "stream",
     "text": [
      "Qconfig loaded from /Users/alijavadi/Desktop/ajavadia-qiskit-sdk-py/Qconfig.py.\n"
     ]
    }
   ],
   "source": [
    "import sys, time, getpass\n",
    "try:\n",
    "    sys.path.append(\"../../\") # go to parent dir\n",
    "    import Qconfig\n",
    "    qx_config = {\n",
    "        \"APItoken\": Qconfig.APItoken,\n",
    "        \"url\": Qconfig.config['url']}\n",
    "    print('Qconfig loaded from %s.' % Qconfig.__file__)\n",
    "except:\n",
    "    APItoken = getpass.getpass('Please input your token and hit enter: ')\n",
    "    qx_config = {\n",
    "        \"APItoken\": APItoken,\n",
    "        \"url\":\"https://quantumexperience.ng.bluemix.net/api\"}\n",
    "    print('Qconfig.py not found in qiskit-tutorial directory; Qconfig loaded using user input.')"
   ]
  },
  {
   "cell_type": "code",
   "execution_count": 2,
   "metadata": {
    "collapsed": true
   },
   "outputs": [],
   "source": [
    "from qiskit import QuantumCircuit, ClassicalRegister, QuantumRegister, QISKitError\n",
    "from qiskit import available_backends, execute, register, get_backend, compile\n",
    "\n",
    "from qiskit.tools.visualization import plot_histogram\n",
    "from pprint import pprint"
   ]
  },
  {
   "cell_type": "markdown",
   "metadata": {},
   "source": [
    "### The Local and IBMQ providers\n",
    "\n",
    "A provider must be registered and it must support three funtions: `available_backends()` and `get_backend()` and a method to register the provider.\n",
    "\n",
    "```\n",
    "available_backends() - list all the backends of the resistered backends\n",
    "```\n",
    "```\n",
    "get_backend('name') - get a backend instance from a name \n",
    "```\n",
    "\n",
    "Lets start with the  `available_backends()` command"
   ]
  },
  {
   "cell_type": "code",
   "execution_count": 3,
   "metadata": {},
   "outputs": [
    {
     "data": {
      "text/plain": [
       "['local_qasm_simulator',\n",
       " 'local_statevector_simulator',\n",
       " 'local_unitary_simulator']"
      ]
     },
     "execution_count": 3,
     "metadata": {},
     "output_type": "execute_result"
    }
   ],
   "source": [
    "available_backends()"
   ]
  },
  {
   "cell_type": "markdown",
   "metadata": {},
   "source": [
    "This list is compact and picks the best of the diffent types. To list all the backends not just group names, you can use:"
   ]
  },
  {
   "cell_type": "code",
   "execution_count": 4,
   "metadata": {},
   "outputs": [
    {
     "data": {
      "text/plain": [
       "['local_clifford_simulator_cpp',\n",
       " 'local_qasm_simulator_cpp',\n",
       " 'local_qasm_simulator_py',\n",
       " 'local_statevector_simulator_cpp',\n",
       " 'local_statevector_simulator_py',\n",
       " 'local_unitary_simulator_py']"
      ]
     },
     "execution_count": 4,
     "metadata": {},
     "output_type": "execute_result"
    }
   ],
   "source": [
    "available_backends(compact=False)"
   ]
  },
  {
   "cell_type": "markdown",
   "metadata": {},
   "source": [
    "To add the IBMQ provider you need to register it using\n",
    "\n",
    "```\n",
    "register(arg,...)\n",
    "```"
   ]
  },
  {
   "cell_type": "code",
   "execution_count": 5,
   "metadata": {},
   "outputs": [
    {
     "data": {
      "text/plain": [
       "['ibmq_16_rueschlikon',\n",
       " 'ibmq_5_tenerife',\n",
       " 'ibmq_5_yorktown',\n",
       " 'ibmq_qasm_simulator',\n",
       " 'local_qasm_simulator',\n",
       " 'local_statevector_simulator',\n",
       " 'local_unitary_simulator']"
      ]
     },
     "execution_count": 5,
     "metadata": {},
     "output_type": "execute_result"
    }
   ],
   "source": [
    "register(qx_config['APItoken'], qx_config['url'])\n",
    "available_backends()"
   ]
  },
  {
   "cell_type": "markdown",
   "metadata": {},
   "source": [
    "The `available_backends` function can also use filters.\n",
    "\n",
    "Filter: show remote backends only"
   ]
  },
  {
   "cell_type": "code",
   "execution_count": 6,
   "metadata": {},
   "outputs": [
    {
     "data": {
      "text/plain": [
       "['ibmq_16_rueschlikon',\n",
       " 'ibmq_5_tenerife',\n",
       " 'ibmq_5_yorktown',\n",
       " 'ibmq_qasm_simulator']"
      ]
     },
     "execution_count": 6,
     "metadata": {},
     "output_type": "execute_result"
    }
   ],
   "source": [
    "available_backends({'local': False})"
   ]
  },
  {
   "cell_type": "markdown",
   "metadata": {},
   "source": [
    "Filter: show only local backends"
   ]
  },
  {
   "cell_type": "code",
   "execution_count": 7,
   "metadata": {},
   "outputs": [
    {
     "data": {
      "text/plain": [
       "['local_qasm_simulator',\n",
       " 'local_statevector_simulator',\n",
       " 'local_unitary_simulator']"
      ]
     },
     "execution_count": 7,
     "metadata": {},
     "output_type": "execute_result"
    }
   ],
   "source": [
    "available_backends({'local': True})"
   ]
  },
  {
   "cell_type": "markdown",
   "metadata": {},
   "source": [
    "Filer: show only simulators"
   ]
  },
  {
   "cell_type": "code",
   "execution_count": 8,
   "metadata": {},
   "outputs": [
    {
     "data": {
      "text/plain": [
       "['ibmq_qasm_simulator',\n",
       " 'local_qasm_simulator',\n",
       " 'local_statevector_simulator',\n",
       " 'local_unitary_simulator']"
      ]
     },
     "execution_count": 8,
     "metadata": {},
     "output_type": "execute_result"
    }
   ],
   "source": [
    "available_backends({'simulator': True})"
   ]
  },
  {
   "cell_type": "markdown",
   "metadata": {},
   "source": [
    "Fileter: show only real devices"
   ]
  },
  {
   "cell_type": "code",
   "execution_count": 9,
   "metadata": {},
   "outputs": [
    {
     "data": {
      "text/plain": [
       "['ibmq_16_rueschlikon', 'ibmq_5_tenerife', 'ibmq_5_yorktown']"
      ]
     },
     "execution_count": 9,
     "metadata": {},
     "output_type": "execute_result"
    }
   ],
   "source": [
    "available_backends({'simulator': False})"
   ]
  },
  {
   "cell_type": "markdown",
   "metadata": {},
   "source": [
    "Filter: show both a remote backend and a simulator backend"
   ]
  },
  {
   "cell_type": "code",
   "execution_count": 10,
   "metadata": {},
   "outputs": [
    {
     "data": {
      "text/plain": [
       "['ibmq_qasm_simulator']"
      ]
     },
     "execution_count": 10,
     "metadata": {},
     "output_type": "execute_result"
    }
   ],
   "source": [
    "available_backends({'local': False, 'simulator': True})"
   ]
  },
  {
   "cell_type": "markdown",
   "metadata": {},
   "source": [
    "Filter: show currently operational devices (devices that are actively running jobs)"
   ]
  },
  {
   "cell_type": "code",
   "execution_count": 11,
   "metadata": {},
   "outputs": [
    {
     "data": {
      "text/plain": [
       "['ibmq_16_rueschlikon', 'ibmq_5_tenerife']"
      ]
     },
     "execution_count": 11,
     "metadata": {},
     "output_type": "execute_result"
    }
   ],
   "source": [
    "available_backends({'operational': True, 'simulator': False})"
   ]
  },
  {
   "cell_type": "markdown",
   "metadata": {},
   "source": [
    "Filter: show devices with more than 10 qubits"
   ]
  },
  {
   "cell_type": "code",
   "execution_count": 12,
   "metadata": {},
   "outputs": [
    {
     "data": {
      "text/plain": [
       "['ibmq_16_rueschlikon']"
      ]
     },
     "execution_count": 12,
     "metadata": {},
     "output_type": "execute_result"
    }
   ],
   "source": [
    "available_backends(lambda x: x.configuration['n_qubits'] > 10 and not x.configuration['simulator'])"
   ]
  },
  {
   "cell_type": "markdown",
   "metadata": {},
   "source": [
    "Filter: show the least busy device (in terms of pending jobs in the queue)"
   ]
  },
  {
   "cell_type": "code",
   "execution_count": 13,
   "metadata": {},
   "outputs": [
    {
     "data": {
      "text/plain": [
       "'ibmqx4'"
      ]
     },
     "execution_count": 13,
     "metadata": {},
     "output_type": "execute_result"
    }
   ],
   "source": [
    "from qiskit import least_busy\n",
    "least_busy(available_backends({'simulator': False}))"
   ]
  },
  {
   "cell_type": "markdown",
   "metadata": {},
   "source": [
    "The above filters can be combined as desired.\n",
    "\n",
    "The second function `get_backend()` allows you to make a backend instance"
   ]
  },
  {
   "cell_type": "code",
   "execution_count": 14,
   "metadata": {},
   "outputs": [
    {
     "data": {
      "text/plain": [
       "[<qiskit.backends.ibmq.ibmqbackend.IBMQBackend at 0x115aca4a8>,\n",
       " <qiskit.backends.ibmq.ibmqbackend.IBMQBackend at 0x115aca6d8>,\n",
       " <qiskit.backends.ibmq.ibmqbackend.IBMQBackend at 0x115acaf28>,\n",
       " <qiskit.backends.ibmq.ibmqbackend.IBMQBackend at 0x115acacf8>,\n",
       " <qiskit.backends.local.qasm_simulator_cpp.QasmSimulatorCpp at 0x1148769b0>,\n",
       " <qiskit.backends.local.statevector_simulator_cpp.StatevectorSimulatorCpp at 0x11489ac18>,\n",
       " <qiskit.backends.local.unitary_simulator_py.UnitarySimulatorPy at 0x11489ac88>]"
      ]
     },
     "execution_count": 14,
     "metadata": {},
     "output_type": "execute_result"
    }
   ],
   "source": [
    "backends = []\n",
    "for backend in available_backends():\n",
    "    backends.append(get_backend(backend))\n",
    "backends"
   ]
  },
  {
   "cell_type": "markdown",
   "metadata": {},
   "source": [
    "### The Backends\n",
    "\n",
    "The next part is the backend instances. These backends must support the following functions:\n",
    "\n",
    "```\n",
    "configuration - gets the configuration of the backend.\n",
    "```\n",
    "```\n",
    "properties -  gets the properties of the backend (currently calibrations and parameters, but will be combined).\n",
    "```\n",
    "```\n",
    "schema -  returns the schema for the qobj object supported by this backend (not implemented yet).\n",
    "```\n",
    "```\n",
    "status - gets the status of the backend.\n",
    "```\n",
    "```\n",
    "jobs  -  returns a list of previous jobs executed by this user on this backend.\n",
    "```\n",
    "```\n",
    "run  - runs a qobj on the backend.\n",
    "```\n"
   ]
  },
  {
   "cell_type": "markdown",
   "metadata": {},
   "source": [
    "Lets start with the `status`:\n",
    "\n",
    "    `available` lets us know that the backend is taking jobs\n",
    "\n",
    "    `pending_jobs` lets you know how many jobs are in the queue"
   ]
  },
  {
   "cell_type": "code",
   "execution_count": 15,
   "metadata": {},
   "outputs": [
    {
     "name": "stdout",
     "output_type": "stream",
     "text": [
      "{'pending_jobs': 3, 'name': 'ibmqx5', 'operational': True}\n",
      "{'pending_jobs': 1, 'name': 'ibmqx4', 'operational': True}\n",
      "{'pending_jobs': 330, 'name': 'ibmqx2', 'operational': False}\n",
      "{'pending_jobs': 0, 'name': 'ibmq_qasm_simulator', 'operational': True}\n",
      "{'name': 'local_qasm_simulator_cpp', 'operational': True, 'pending_jobs': 0}\n",
      "{'name': 'local_statevector_simulator_cpp',\n",
      " 'operational': True,\n",
      " 'pending_jobs': 0}\n",
      "{'name': 'local_unitary_simulator_py', 'operational': True, 'pending_jobs': 0}\n"
     ]
    }
   ],
   "source": [
    "for backend in backends:\n",
    "    pprint(backend.status)"
   ]
  },
  {
   "cell_type": "markdown",
   "metadata": {},
   "source": [
    "The next is `configuration`"
   ]
  },
  {
   "cell_type": "code",
   "execution_count": 16,
   "metadata": {},
   "outputs": [
    {
     "name": "stdout",
     "output_type": "stream",
     "text": [
      "{'allow_q_object': False,\n",
      " 'basis_gates': 'u1,u2,u3,cx,id',\n",
      " 'chip_name': 'Albatross',\n",
      " 'coupling_map': [[1, 0],\n",
      "                  [1, 2],\n",
      "                  [2, 3],\n",
      "                  [3, 4],\n",
      "                  [3, 14],\n",
      "                  [5, 4],\n",
      "                  [6, 5],\n",
      "                  [6, 7],\n",
      "                  [6, 11],\n",
      "                  [7, 10],\n",
      "                  [8, 7],\n",
      "                  [9, 8],\n",
      "                  [9, 10],\n",
      "                  [11, 10],\n",
      "                  [12, 5],\n",
      "                  [12, 11],\n",
      "                  [12, 13],\n",
      "                  [13, 4],\n",
      "                  [13, 14],\n",
      "                  [15, 0],\n",
      "                  [15, 2],\n",
      "                  [15, 14]],\n",
      " 'description': '16 transmon 2x8 ladder',\n",
      " 'gate_set': 'SU2+CNOT',\n",
      " 'local': False,\n",
      " 'n_qubits': 16,\n",
      " 'name': 'ibmqx5',\n",
      " 'online_date': '2017-09-21T00:00:00.000Z',\n",
      " 'simulator': False,\n",
      " 'url': 'https://ibm.biz/qiskit-ibmqx5',\n",
      " 'version': '1.1.0'}\n",
      "{'allow_q_object': False,\n",
      " 'basis_gates': 'u1,u2,u3,cx,id',\n",
      " 'chip_name': 'Raven',\n",
      " 'coupling_map': [[1, 0], [2, 0], [2, 1], [3, 2], [3, 4], [4, 2]],\n",
      " 'description': '5 qubit transmon bowtie chip 3',\n",
      " 'gate_set': 'SU2+CNOT',\n",
      " 'local': False,\n",
      " 'n_qubits': 5,\n",
      " 'name': 'ibmqx4',\n",
      " 'online_date': '2017-09-18T00:00:00.000Z',\n",
      " 'simulator': False,\n",
      " 'url': 'https://ibm.biz/qiskit-ibmqx4',\n",
      " 'version': '1.2.0'}\n",
      "{'allow_q_object': False,\n",
      " 'basis_gates': 'u1,u2,u3,cx,id',\n",
      " 'chip_name': 'Sparrow',\n",
      " 'coupling_map': [[0, 1], [0, 2], [1, 2], [3, 2], [3, 4], [4, 2]],\n",
      " 'description': '5 qubit transmon bowtie chip 2',\n",
      " 'gate_set': 'SU2+CNOT',\n",
      " 'local': False,\n",
      " 'n_qubits': 5,\n",
      " 'name': 'ibmqx2',\n",
      " 'online_date': '2017-01-10T00:00:00.000Z',\n",
      " 'simulator': False,\n",
      " 'url': 'https://ibm.biz/qiskit-ibmqx2',\n",
      " 'version': '1'}\n",
      "{'allow_q_object': False,\n",
      " 'basis_gates': 'u1,u2,u3,cx,id',\n",
      " 'coupling_map': 'all-to-all',\n",
      " 'description': 'online qasm simulator',\n",
      " 'local': False,\n",
      " 'n_qubits': 32,\n",
      " 'name': 'ibmq_qasm_simulator',\n",
      " 'online_date': '2017-12-09T12:00:00.000Z',\n",
      " 'simulator': True}\n",
      "{'basis_gates': 'u0,u1,u2,u3,cx,cz,id,x,y,z,h,s,sdg,t,tdg,rzz,snapshot,wait,noise,save,load',\n",
      " 'coupling_map': 'all-to-all',\n",
      " 'description': 'A C++ realistic noise simulator for qobj files',\n",
      " 'exe': '/Users/alijavadi/Desktop/ajavadia-qiskit-sdk-py/out/src/qasm-simulator-cpp/qasm_simulator_cpp',\n",
      " 'local': True,\n",
      " 'name': 'local_qasm_simulator_cpp',\n",
      " 'simulator': True,\n",
      " 'url': 'https://github.com/QISKit/qiskit-terra/src/qasm-simulator-cpp'}\n",
      "{'basis_gates': 'u1,u2,u3,cx,cz,id,x,y,z,h,s,sdg,t,tdg,rzz,load,save,snapshot',\n",
      " 'coupling_map': 'all-to-all',\n",
      " 'description': 'A C++ statevector simulator for qobj files',\n",
      " 'exe': '/Users/alijavadi/Desktop/ajavadia-qiskit-sdk-py/out/src/qasm-simulator-cpp/qasm_simulator_cpp',\n",
      " 'local': True,\n",
      " 'name': 'local_statevector_simulator_cpp',\n",
      " 'simulator': True,\n",
      " 'url': 'https://github.com/QISKit/qiskit-terra/src/qasm-simulator-cpp'}\n",
      "{'basis_gates': 'u1,u2,u3,cx,id',\n",
      " 'coupling_map': 'all-to-all',\n",
      " 'description': 'A python simulator for unitary matrix',\n",
      " 'local': True,\n",
      " 'name': 'local_unitary_simulator_py',\n",
      " 'simulator': True,\n",
      " 'url': 'https://github.com/QISKit/qiskit-terra'}\n"
     ]
    }
   ],
   "source": [
    "for backend in backends:\n",
    "    pprint(backend.configuration)"
   ]
  },
  {
   "cell_type": "code",
   "execution_count": 17,
   "metadata": {},
   "outputs": [
    {
     "name": "stdout",
     "output_type": "stream",
     "text": [
      "{'backend': 'ibmqx5',\n",
      " 'fridge_parameters': {'Temperature': {'date': '2018-07-12T18:36:50Z',\n",
      "                                       'unit': 'K',\n",
      "                                       'value': 0.0141874},\n",
      "                       'cooldownDate': '2017-09-15'},\n",
      " 'last_update_date': '2018-07-13T01:34:31.000Z',\n",
      " 'qubits': [{'T1': {'date': '2018-07-13T01:33:31Z',\n",
      "                    'unit': 'µs',\n",
      "                    'value': 39.8},\n",
      "             'T2': {'date': '2018-07-13T01:34:31Z',\n",
      "                    'unit': 'µs',\n",
      "                    'value': 26.3},\n",
      "             'buffer': {'date': '2018-07-13T01:07:21Z',\n",
      "                        'unit': 'ns',\n",
      "                        'value': 10},\n",
      "             'frequency': {'date': '2018-07-13T01:07:21Z',\n",
      "                           'units': 'GHz',\n",
      "                           'value': 5.2559208},\n",
      "             'gateTime': {'date': '2018-07-13T01:07:21Z',\n",
      "                          'unit': 'ns',\n",
      "                          'value': 80},\n",
      "             'name': 'Q0'},\n",
      "            {'T1': {'date': '2018-07-13T01:33:31Z',\n",
      "                    'unit': 'µs',\n",
      "                    'value': 39.6},\n",
      "             'T2': {'date': '2018-07-13T01:34:31Z',\n",
      "                    'unit': 'µs',\n",
      "                    'value': 70.8},\n",
      "             'buffer': {'date': '2018-07-13T01:07:21Z',\n",
      "                        'unit': 'ns',\n",
      "                        'value': 10},\n",
      "             'frequency': {'date': '2018-07-13T01:07:21Z',\n",
      "                           'units': 'GHz',\n",
      "                           'value': 5.3960074},\n",
      "             'gateTime': {'date': '2018-07-13T01:07:21Z',\n",
      "                          'unit': 'ns',\n",
      "                          'value': 80},\n",
      "             'name': 'Q1'},\n",
      "            {'T1': {'date': '2018-07-13T01:33:31Z',\n",
      "                    'unit': 'µs',\n",
      "                    'value': 49.7},\n",
      "             'T2': {'date': '2018-07-13T01:34:31Z',\n",
      "                    'unit': 'µs',\n",
      "                    'value': 73.1},\n",
      "             'buffer': {'date': '2018-07-13T01:07:21Z',\n",
      "                        'unit': 'ns',\n",
      "                        'value': 10},\n",
      "             'frequency': {'date': '2018-07-13T01:07:21Z',\n",
      "                           'units': 'GHz',\n",
      "                           'value': 5.2755808},\n",
      "             'gateTime': {'date': '2018-07-13T01:07:21Z',\n",
      "                          'unit': 'ns',\n",
      "                          'value': 80},\n",
      "             'name': 'Q2'},\n",
      "            {'T1': {'date': '2018-07-13T01:33:31Z',\n",
      "                    'unit': 'µs',\n",
      "                    'value': 51.9},\n",
      "             'T2': {'date': '2018-07-13T01:34:31Z',\n",
      "                    'unit': 'µs',\n",
      "                    'value': 90.2},\n",
      "             'buffer': {'date': '2018-07-13T01:07:21Z',\n",
      "                        'unit': 'ns',\n",
      "                        'value': 10},\n",
      "             'frequency': {'date': '2018-07-13T01:07:21Z',\n",
      "                           'units': 'GHz',\n",
      "                           'value': 5.0830898},\n",
      "             'gateTime': {'date': '2018-07-13T01:07:21Z',\n",
      "                          'unit': 'ns',\n",
      "                          'value': 80},\n",
      "             'name': 'Q3'},\n",
      "            {'T1': {'date': '2018-07-13T01:33:31Z',\n",
      "                    'unit': 'µs',\n",
      "                    'value': 40.3},\n",
      "             'T2': {'date': '2018-07-13T01:34:31Z',\n",
      "                    'unit': 'µs',\n",
      "                    'value': 60.4},\n",
      "             'buffer': {'date': '2018-07-13T01:07:21Z',\n",
      "                        'unit': 'ns',\n",
      "                        'value': 10},\n",
      "             'frequency': {'date': '2018-07-13T01:07:21Z',\n",
      "                           'units': 'GHz',\n",
      "                           'value': 4.9792021},\n",
      "             'gateTime': {'date': '2018-07-13T01:07:21Z',\n",
      "                          'unit': 'ns',\n",
      "                          'value': 80},\n",
      "             'name': 'Q4'},\n",
      "            {'T1': {'date': '2018-07-13T01:33:31Z',\n",
      "                    'unit': 'µs',\n",
      "                    'value': 47.4},\n",
      "             'T2': {'date': '2018-07-13T01:34:31Z',\n",
      "                    'unit': 'µs',\n",
      "                    'value': 48.9},\n",
      "             'buffer': {'date': '2018-07-13T01:07:21Z',\n",
      "                        'unit': 'ns',\n",
      "                        'value': 10},\n",
      "             'frequency': {'date': '2018-07-13T01:07:21Z',\n",
      "                           'units': 'GHz',\n",
      "                           'value': 5.1515097},\n",
      "             'gateTime': {'date': '2018-07-13T01:07:21Z',\n",
      "                          'unit': 'ns',\n",
      "                          'value': 80},\n",
      "             'name': 'Q5'},\n",
      "            {'T1': {'date': '2018-07-13T01:33:31Z',\n",
      "                    'unit': 'µs',\n",
      "                    'value': 43.7},\n",
      "             'T2': {'date': '2018-07-13T01:34:31Z', 'unit': 'µs', 'value': 82},\n",
      "             'buffer': {'date': '2018-07-13T01:07:21Z',\n",
      "                        'unit': 'ns',\n",
      "                        'value': 10},\n",
      "             'frequency': {'date': '2018-07-13T01:07:21Z',\n",
      "                           'units': 'GHz',\n",
      "                           'value': 5.3058076},\n",
      "             'gateTime': {'date': '2018-07-13T01:07:21Z',\n",
      "                          'unit': 'ns',\n",
      "                          'value': 80},\n",
      "             'name': 'Q6'},\n",
      "            {'T1': {'date': '2018-07-13T01:33:31Z',\n",
      "                    'unit': 'µs',\n",
      "                    'value': 42.5},\n",
      "             'T2': {'date': '2018-07-13T01:34:31Z',\n",
      "                    'unit': 'µs',\n",
      "                    'value': 63.8},\n",
      "             'buffer': {'date': '2018-07-13T01:07:21Z',\n",
      "                        'unit': 'ns',\n",
      "                        'value': 10},\n",
      "             'frequency': {'date': '2018-07-13T01:07:21Z',\n",
      "                           'units': 'GHz',\n",
      "                           'value': 5.2523247},\n",
      "             'gateTime': {'date': '2018-07-13T01:07:21Z',\n",
      "                          'unit': 'ns',\n",
      "                          'value': 80},\n",
      "             'name': 'Q7'},\n",
      "            {'T1': {'date': '2018-07-13T01:33:31Z',\n",
      "                    'unit': 'µs',\n",
      "                    'value': 44.4},\n",
      "             'T2': {'date': '2018-07-13T01:34:31Z',\n",
      "                    'unit': 'µs',\n",
      "                    'value': 74.7},\n",
      "             'buffer': {'date': '2018-07-13T01:07:21Z',\n",
      "                        'unit': 'ns',\n",
      "                        'value': 10},\n",
      "             'frequency': {'date': '2018-07-13T01:07:21Z',\n",
      "                           'units': 'GHz',\n",
      "                           'value': 5.1152045},\n",
      "             'gateTime': {'date': '2018-07-13T01:07:21Z',\n",
      "                          'unit': 'ns',\n",
      "                          'value': 80},\n",
      "             'name': 'Q8'},\n",
      "            {'T1': {'date': '2018-07-13T01:33:31Z',\n",
      "                    'unit': 'µs',\n",
      "                    'value': 43.4},\n",
      "             'T2': {'date': '2018-07-13T01:34:31Z',\n",
      "                    'unit': 'µs',\n",
      "                    'value': 108.2},\n",
      "             'buffer': {'date': '2018-07-13T01:07:21Z',\n",
      "                        'unit': 'ns',\n",
      "                        'value': 10},\n",
      "             'frequency': {'date': '2018-07-13T01:07:21Z',\n",
      "                           'units': 'GHz',\n",
      "                           'value': 5.1554128},\n",
      "             'gateTime': {'date': '2018-07-13T01:07:21Z',\n",
      "                          'unit': 'ns',\n",
      "                          'value': 80},\n",
      "             'name': 'Q9'},\n",
      "            {'T1': {'date': '2018-07-13T01:33:31Z',\n",
      "                    'unit': 'µs',\n",
      "                    'value': 51.5},\n",
      "             'T2': {'date': '2018-07-13T01:34:31Z',\n",
      "                    'unit': 'µs',\n",
      "                    'value': 78.8},\n",
      "             'buffer': {'date': '2018-07-13T01:07:21Z',\n",
      "                        'unit': 'ns',\n",
      "                        'value': 10},\n",
      "             'frequency': {'date': '2018-07-13T01:07:21Z',\n",
      "                           'units': 'GHz',\n",
      "                           'value': 5.0425893},\n",
      "             'gateTime': {'date': '2018-07-13T01:07:21Z',\n",
      "                          'unit': 'ns',\n",
      "                          'value': 80},\n",
      "             'name': 'Q10'},\n",
      "            {'T1': {'date': '2018-07-13T01:33:31Z',\n",
      "                    'unit': 'µs',\n",
      "                    'value': 63.7},\n",
      "             'T2': {'date': '2018-07-13T01:34:31Z',\n",
      "                    'unit': 'µs',\n",
      "                    'value': 113.6},\n",
      "             'buffer': {'date': '2018-07-13T01:07:21Z',\n",
      "                        'unit': 'ns',\n",
      "                        'value': 10},\n",
      "             'frequency': {'date': '2018-07-13T01:07:21Z',\n",
      "                           'units': 'GHz',\n",
      "                           'value': 5.1108766},\n",
      "             'gateTime': {'date': '2018-07-13T01:07:21Z',\n",
      "                          'unit': 'ns',\n",
      "                          'value': 80},\n",
      "             'name': 'Q11'},\n",
      "            {'T1': {'date': '2018-07-13T01:33:31Z',\n",
      "                    'unit': 'µs',\n",
      "                    'value': 43.3},\n",
      "             'T2': {'date': '2018-07-13T01:34:31Z',\n",
      "                    'unit': 'µs',\n",
      "                    'value': 52.4},\n",
      "             'buffer': {'date': '2018-07-13T01:07:21Z',\n",
      "                        'unit': 'ns',\n",
      "                        'value': 10},\n",
      "             'frequency': {'date': '2018-07-13T01:07:21Z',\n",
      "                           'units': 'GHz',\n",
      "                           'value': 4.9468352},\n",
      "             'gateTime': {'date': '2018-07-13T01:07:21Z',\n",
      "                          'unit': 'ns',\n",
      "                          'value': 80},\n",
      "             'name': 'Q12'},\n",
      "            {'T1': {'date': '2018-07-13T01:33:31Z',\n",
      "                    'unit': 'µs',\n",
      "                    'value': 45.4},\n",
      "             'T2': {'date': '2018-07-13T01:34:31Z',\n",
      "                    'unit': 'µs',\n",
      "                    'value': 71.4},\n",
      "             'buffer': {'date': '2018-07-13T01:07:21Z',\n",
      "                        'unit': 'ns',\n",
      "                        'value': 10},\n",
      "             'frequency': {'date': '2018-07-13T01:07:21Z',\n",
      "                           'units': 'GHz',\n",
      "                           'value': 5.0882574},\n"
     ]
    },
    {
     "name": "stdout",
     "output_type": "stream",
     "text": [
      "             'gateTime': {'date': '2018-07-13T01:07:21Z',\n",
      "                          'unit': 'ns',\n",
      "                          'value': 80},\n",
      "             'name': 'Q13'},\n",
      "            {'T1': {'date': '2018-07-13T01:33:31Z',\n",
      "                    'unit': 'µs',\n",
      "                    'value': 43.3},\n",
      "             'T2': {'date': '2018-07-13T01:34:31Z',\n",
      "                    'unit': 'µs',\n",
      "                    'value': 71.3},\n",
      "             'buffer': {'date': '2018-07-13T01:07:21Z',\n",
      "                        'unit': 'ns',\n",
      "                        'value': 10},\n",
      "             'frequency': {'date': '2018-07-13T01:07:21Z',\n",
      "                           'units': 'GHz',\n",
      "                           'value': 4.8704871},\n",
      "             'gateTime': {'date': '2018-07-13T01:07:21Z',\n",
      "                          'unit': 'ns',\n",
      "                          'value': 80},\n",
      "             'name': 'Q14'},\n",
      "            {'T1': {'date': '2018-07-13T01:33:31Z',\n",
      "                    'unit': 'µs',\n",
      "                    'value': 54.1},\n",
      "             'T2': {'date': '2018-07-13T01:34:31Z',\n",
      "                    'unit': 'µs',\n",
      "                    'value': 78.6},\n",
      "             'buffer': {'date': '2018-07-13T01:07:21Z',\n",
      "                        'unit': 'ns',\n",
      "                        'value': 10},\n",
      "             'frequency': {'date': '2018-07-13T01:07:21Z',\n",
      "                           'units': 'GHz',\n",
      "                           'value': 5.1047439},\n",
      "             'gateTime': {'date': '2018-07-13T01:07:21Z',\n",
      "                          'unit': 'ns',\n",
      "                          'value': 80},\n",
      "             'name': 'Q15'}]}\n",
      "{'backend': 'ibmqx4',\n",
      " 'fridge_parameters': {'Temperature': {'date': '-', 'unit': '-', 'value': []},\n",
      "                       'cooldownDate': '2017-09-07'},\n",
      " 'last_update_date': '2018-07-13T01:59:50.000Z',\n",
      " 'qubits': [{'T1': {'date': '2018-07-13T01:59:50Z',\n",
      "                    'unit': 'µs',\n",
      "                    'value': 48.9},\n",
      "             'T2': {'date': '2018-07-13T01:59:50Z',\n",
      "                    'unit': 'µs',\n",
      "                    'value': 57.4},\n",
      "             'buffer': {'date': '2018-07-13T01:59:50Z',\n",
      "                        'unit': 'ns',\n",
      "                        'value': 10},\n",
      "             'frequency': {'date': '2018-07-13T01:59:50Z',\n",
      "                           'unit': 'GHz',\n",
      "                           'value': 5.24991},\n",
      "             'gateTime': {'date': '2018-07-13T01:59:50Z',\n",
      "                          'unit': 'ns',\n",
      "                          'value': 60},\n",
      "             'name': 'Q0'},\n",
      "            {'T1': {'date': '2018-07-13T01:59:50Z',\n",
      "                    'unit': 'µs',\n",
      "                    'value': 59.7},\n",
      "             'T2': {'date': '2018-07-13T01:59:50Z', 'unit': 'µs', 'value': 20},\n",
      "             'buffer': {'date': '2018-07-13T01:59:50Z',\n",
      "                        'unit': 'ns',\n",
      "                        'value': 10},\n",
      "             'frequency': {'date': '2018-07-13T01:59:50Z',\n",
      "                           'unit': 'GHz',\n",
      "                           'value': 5.29575},\n",
      "             'gateTime': {'date': '2018-07-13T01:59:50Z',\n",
      "                          'unit': 'ns',\n",
      "                          'value': 60},\n",
      "             'name': 'Q1'},\n",
      "            {'T1': {'date': '2018-07-13T01:59:50Z', 'unit': 'µs', 'value': 43},\n",
      "             'T2': {'date': '2018-07-13T01:59:50Z',\n",
      "                    'unit': 'µs',\n",
      "                    'value': 45.8},\n",
      "             'buffer': {'date': '2018-07-13T01:59:50Z',\n",
      "                        'unit': 'ns',\n",
      "                        'value': 10},\n",
      "             'frequency': {'date': '2018-07-13T01:59:50Z',\n",
      "                           'unit': 'GHz',\n",
      "                           'value': 5.3532},\n",
      "             'gateTime': {'date': '2018-07-13T01:59:50Z',\n",
      "                          'unit': 'ns',\n",
      "                          'value': 60},\n",
      "             'name': 'Q2'},\n",
      "            {'T1': {'date': '2018-07-13T01:59:50Z',\n",
      "                    'unit': 'µs',\n",
      "                    'value': 55.1},\n",
      "             'T2': {'date': '2018-07-13T01:59:50Z',\n",
      "                    'unit': 'µs',\n",
      "                    'value': 32.2},\n",
      "             'buffer': {'date': '2018-07-13T01:59:50Z',\n",
      "                        'unit': 'ns',\n",
      "                        'value': 10},\n",
      "             'frequency': {'date': '2018-07-13T01:59:50Z',\n",
      "                           'unit': 'GHz',\n",
      "                           'value': 5.43498},\n",
      "             'gateTime': {'date': '2018-07-13T01:59:50Z',\n",
      "                          'unit': 'ns',\n",
      "                          'value': 60},\n",
      "             'name': 'Q3'},\n",
      "            {'T1': {'date': '2018-07-13T01:59:50Z',\n",
      "                    'unit': 'µs',\n",
      "                    'value': 49.6},\n",
      "             'T2': {'date': '2018-07-13T01:59:50Z',\n",
      "                    'unit': 'µs',\n",
      "                    'value': 17.9},\n",
      "             'buffer': {'date': '2018-07-13T01:59:50Z',\n",
      "                        'unit': 'ns',\n",
      "                        'value': 10},\n",
      "             'frequency': {'date': '2018-07-13T01:59:50Z',\n",
      "                           'unit': 'GHz',\n",
      "                           'value': 5.17584},\n",
      "             'gateTime': {'date': '2018-07-13T01:59:50Z',\n",
      "                          'unit': 'ns',\n",
      "                          'value': 60},\n",
      "             'name': 'Q4'}]}\n",
      "{'backend': 'ibmqx2',\n",
      " 'fridge_parameters': {'Temperature': {'date': '2018-04-13T15:53:48Z',\n",
      "                                       'unit': 'K',\n",
      "                                       'value': 0.0159},\n",
      "                       'cooldownDate': '2017-05-07'},\n",
      " 'last_update_date': '2018-04-13T15:53:48.000Z',\n",
      " 'qubits': [{'T1': {'date': '2018-04-13T15:53:48Z',\n",
      "                    'unit': 'µs',\n",
      "                    'value': 62.4},\n",
      "             'T2': {'date': '2018-04-13T15:53:48Z',\n",
      "                    'unit': 'µs',\n",
      "                    'value': 77.5},\n",
      "             'buffer': {'date': '2018-04-13T15:53:48Z',\n",
      "                        'unit': 'ns',\n",
      "                        'value': 6.7},\n",
      "             'frequency': {'date': '2018-04-13T15:53:48Z',\n",
      "                           'unit': 'GHz',\n",
      "                           'value': 5.27603},\n",
      "             'gateTime': {'date': '2018-04-13T15:53:48Z',\n",
      "                          'unit': 'ns',\n",
      "                          'value': 83.3},\n",
      "             'name': 'Q0'},\n",
      "            {'T1': {'date': '2018-04-13T15:53:48Z',\n",
      "                    'unit': 'µs',\n",
      "                    'value': 55.1},\n",
      "             'T2': {'date': '2018-04-13T15:53:48Z', 'unit': 'µs', 'value': 64},\n",
      "             'buffer': {'date': '2018-04-13T15:53:48Z',\n",
      "                        'unit': 'ns',\n",
      "                        'value': 6.7},\n",
      "             'frequency': {'date': '2018-04-13T15:53:48Z',\n",
      "                           'unit': 'GHz',\n",
      "                           'value': 5.21223},\n",
      "             'gateTime': {'date': '2018-04-13T15:53:48Z',\n",
      "                          'unit': 'ns',\n",
      "                          'value': 83.3},\n",
      "             'name': 'Q1'},\n",
      "            {'T1': {'date': '2018-04-13T15:53:48Z',\n",
      "                    'unit': 'µs',\n",
      "                    'value': 48.4},\n",
      "             'T2': {'date': '2018-04-13T15:53:48Z',\n",
      "                    'unit': 'µs',\n",
      "                    'value': 54.7},\n",
      "             'buffer': {'date': '2018-04-13T15:53:48Z',\n",
      "                        'unit': 'ns',\n",
      "                        'value': 6.7},\n",
      "             'frequency': {'date': '2018-04-13T15:53:48Z',\n",
      "                           'unit': 'GHz',\n",
      "                           'value': 5.01542},\n",
      "             'gateTime': {'date': '2018-04-13T15:53:48Z',\n",
      "                          'unit': 'ns',\n",
      "                          'value': 83.3},\n",
      "             'name': 'Q2'},\n",
      "            {'T1': {'date': '2018-04-13T15:53:48Z', 'unit': 'µs', 'value': 59},\n",
      "             'T2': {'date': '2018-04-13T15:53:48Z',\n",
      "                    'unit': 'µs',\n",
      "                    'value': 57.3},\n",
      "             'buffer': {'date': '2018-04-13T15:53:48Z',\n",
      "                        'unit': 'ns',\n",
      "                        'value': 6.7},\n",
      "             'frequency': {'date': '2018-04-13T15:53:48Z',\n",
      "                           'unit': 'GHz',\n",
      "                           'value': 5.28059},\n",
      "             'gateTime': {'date': '2018-04-13T15:53:48Z',\n",
      "                          'unit': 'ns',\n",
      "                          'value': 83.3},\n",
      "             'name': 'Q3'},\n",
      "            {'T1': {'date': '2018-04-13T15:53:48Z',\n",
      "                    'unit': 'µs',\n",
      "                    'value': 53.3},\n",
      "             'T2': {'date': '2018-04-13T15:53:48Z',\n",
      "                    'unit': 'µs',\n",
      "                    'value': 36.4},\n",
      "             'buffer': {'date': '2018-04-13T15:53:48Z',\n",
      "                        'unit': 'ns',\n",
      "                        'value': 6.7},\n",
      "             'frequency': {'date': '2018-04-13T15:53:48Z',\n",
      "                           'unit': 'GHz',\n",
      "                           'value': 5.07116},\n",
      "             'gateTime': {'date': '2018-04-13T15:53:48Z',\n",
      "                          'unit': 'ns',\n",
      "                          'value': 83.3},\n",
      "             'name': 'Q4'}]}\n"
     ]
    },
    {
     "name": "stdout",
     "output_type": "stream",
     "text": [
      "{}\n",
      "{}\n",
      "{}\n",
      "{}\n"
     ]
    }
   ],
   "source": [
    "for backend in backends:\n",
    "    pprint(backend.parameters)"
   ]
  },
  {
   "cell_type": "code",
   "execution_count": 18,
   "metadata": {},
   "outputs": [
    {
     "name": "stdout",
     "output_type": "stream",
     "text": [
      "{'backend': 'ibmqx5',\n",
      " 'last_update_date': '2018-07-13T02:47:01.000Z',\n",
      " 'multi_qubit_gates': [{'gateError': {'date': '2018-07-13T02:14:09Z',\n",
      "                                      'value': 0.03958895232401968},\n",
      "                        'name': 'CX1_0',\n",
      "                        'qubits': [1, 0],\n",
      "                        'type': 'CX'},\n",
      "                       {'gateError': {'date': '2018-07-13T02:14:09Z',\n",
      "                                      'value': 0.03736591741303219},\n",
      "                        'name': 'CX1_2',\n",
      "                        'qubits': [1, 2],\n",
      "                        'type': 'CX'},\n",
      "                       {'gateError': {'date': '2018-07-13T02:14:09Z',\n",
      "                                      'value': 0.03254032111685312},\n",
      "                        'name': 'CX2_3',\n",
      "                        'qubits': [2, 3],\n",
      "                        'type': 'CX'},\n",
      "                       {'gateError': {'date': '2018-07-13T02:14:09Z',\n",
      "                                      'value': 0.04612594933127892},\n",
      "                        'name': 'CX3_4',\n",
      "                        'qubits': [3, 4],\n",
      "                        'type': 'CX'},\n",
      "                       {'gateError': {'date': '2018-07-13T02:14:09Z',\n",
      "                                      'value': 0.04196896330108929},\n",
      "                        'name': 'CX3_14',\n",
      "                        'qubits': [3, 14],\n",
      "                        'type': 'CX'},\n",
      "                       {'gateError': {'date': '2018-07-13T02:14:09Z',\n",
      "                                      'value': 0.040622324290825296},\n",
      "                        'name': 'CX5_4',\n",
      "                        'qubits': [5, 4],\n",
      "                        'type': 'CX'},\n",
      "                       {'gateError': {'date': '2018-07-13T02:14:09Z',\n",
      "                                      'value': 0.040706427876506995},\n",
      "                        'name': 'CX6_5',\n",
      "                        'qubits': [6, 5],\n",
      "                        'type': 'CX'},\n",
      "                       {'gateError': {'date': '2018-07-13T02:14:09Z',\n",
      "                                      'value': 0.04091028605536137},\n",
      "                        'name': 'CX6_7',\n",
      "                        'qubits': [6, 7],\n",
      "                        'type': 'CX'},\n",
      "                       {'gateError': {'date': '2018-07-13T02:14:09Z',\n",
      "                                      'value': 0.02651607736061598},\n",
      "                        'name': 'CX6_11',\n",
      "                        'qubits': [6, 11],\n",
      "                        'type': 'CX'},\n",
      "                       {'gateError': {'date': '2018-07-13T02:47:01Z',\n",
      "                                      'value': 0.055893455016029464},\n",
      "                        'name': 'CX7_10',\n",
      "                        'qubits': [7, 10],\n",
      "                        'type': 'CX'},\n",
      "                       {'gateError': {'date': '2018-07-13T02:14:09Z',\n",
      "                                      'value': 0.042492477560662295},\n",
      "                        'name': 'CX8_7',\n",
      "                        'qubits': [8, 7],\n",
      "                        'type': 'CX'},\n",
      "                       {'gateError': {'date': '2018-07-13T02:14:09Z',\n",
      "                                      'value': 0.03151040069447977},\n",
      "                        'name': 'CX9_8',\n",
      "                        'qubits': [9, 8],\n",
      "                        'type': 'CX'},\n",
      "                       {'gateError': {'date': '2018-07-13T02:14:09Z',\n",
      "                                      'value': 0.04110072807749959},\n",
      "                        'name': 'CX9_10',\n",
      "                        'qubits': [9, 10],\n",
      "                        'type': 'CX'},\n",
      "                       {'gateError': {'date': '2018-07-13T02:14:09Z',\n",
      "                                      'value': 0.034382402530131},\n",
      "                        'name': 'CX11_10',\n",
      "                        'qubits': [11, 10],\n",
      "                        'type': 'CX'},\n",
      "                       {'gateError': {'date': '2018-07-13T02:14:09Z',\n",
      "                                      'value': 0.04378668917621831},\n",
      "                        'name': 'CX12_5',\n",
      "                        'qubits': [12, 5],\n",
      "                        'type': 'CX'},\n",
      "                       {'gateError': {'date': '2018-07-13T02:14:09Z',\n",
      "                                      'value': 0.030107810584884626},\n",
      "                        'name': 'CX12_11',\n",
      "                        'qubits': [12, 11],\n",
      "                        'type': 'CX'},\n",
      "                       {'gateError': {'date': '2018-07-13T02:47:01Z',\n",
      "                                      'value': 0.03609393027292948},\n",
      "                        'name': 'CX12_13',\n",
      "                        'qubits': [12, 13],\n",
      "                        'type': 'CX'},\n",
      "                       {'gateError': {'date': '2018-07-13T02:14:09Z',\n",
      "                                      'value': 0.04220881334829127},\n",
      "                        'name': 'CX13_4',\n",
      "                        'qubits': [13, 4],\n",
      "                        'type': 'CX'},\n",
      "                       {'gateError': {'date': '2018-07-13T02:14:09Z',\n",
      "                                      'value': 0.049946585014511435},\n",
      "                        'name': 'CX13_14',\n",
      "                        'qubits': [13, 14],\n",
      "                        'type': 'CX'},\n",
      "                       {'gateError': {'date': '2018-07-13T02:14:09Z',\n",
      "                                      'value': 0.03974862010389932},\n",
      "                        'name': 'CX15_0',\n",
      "                        'qubits': [15, 0],\n",
      "                        'type': 'CX'},\n",
      "                       {'gateError': {'date': '2018-07-13T02:14:09Z',\n",
      "                                      'value': 0.031189395902133182},\n",
      "                        'name': 'CX15_2',\n",
      "                        'qubits': [15, 2],\n",
      "                        'type': 'CX'},\n",
      "                       {'gateError': {'date': '2018-07-13T02:14:09Z',\n",
      "                                      'value': 0.031860293092340036},\n",
      "                        'name': 'CX15_14',\n",
      "                        'qubits': [15, 14],\n",
      "                        'type': 'CX'}],\n",
      " 'qubits': [{'gateError': {'date': '2018-07-13T01:40:25Z',\n",
      "                           'value': 0.001961328989630695},\n",
      "             'name': 'Q0',\n",
      "             'readoutError': {'date': '2018-07-13T01:33:03Z',\n",
      "                              'value': 0.053200000000000025}},\n",
      "            {'gateError': {'date': '2018-07-13T01:40:25Z',\n",
      "                           'value': 0.0029994237055435136},\n",
      "             'name': 'Q1',\n",
      "             'readoutError': {'date': '2018-07-13T01:33:03Z',\n",
      "                              'value': 0.05479999999999996}},\n",
      "            {'gateError': {'date': '2018-07-13T01:40:25Z',\n",
      "                           'value': 0.0028427711573785763},\n",
      "             'name': 'Q2',\n",
      "             'readoutError': {'date': '2018-07-13T01:33:03Z',\n",
      "                              'value': 0.07580000000000009}},\n",
      "            {'gateError': {'date': '2018-07-13T01:40:25Z',\n",
      "                           'value': 0.0022059043882425855},\n",
      "             'name': 'Q3',\n",
      "             'readoutError': {'date': '2018-07-13T01:33:03Z',\n",
      "                              'value': 0.06180000000000008}},\n",
      "            {'gateError': {'date': '2018-07-13T01:40:25Z',\n",
      "                           'value': 0.0018394647606826409},\n",
      "             'name': 'Q4',\n",
      "             'readoutError': {'date': '2018-07-13T01:33:03Z',\n",
      "                              'value': 0.0757000000000001}},\n",
      "            {'gateError': {'date': '2018-07-13T01:40:25Z',\n",
      "                           'value': 0.0021602767429855785},\n",
      "             'name': 'Q5',\n",
      "             'readoutError': {'date': '2018-07-13T01:33:03Z',\n",
      "                              'value': 0.06109999999999993}},\n",
      "            {'gateError': {'date': '2018-07-13T01:40:25Z',\n",
      "                           'value': 0.0017335471024123583},\n",
      "             'name': 'Q6',\n",
      "             'readoutError': {'date': '2018-07-13T01:33:03Z',\n",
      "                              'value': 0.06020000000000003}},\n",
      "            {'gateError': {'date': '2018-07-13T01:40:25Z',\n",
      "                           'value': 0.002381600398131012},\n",
      "             'name': 'Q7',\n",
      "             'readoutError': {'date': '2018-07-13T01:33:03Z',\n",
      "                              'value': 0.036699999999999955}},\n",
      "            {'gateError': {'date': '2018-07-13T01:40:25Z',\n",
      "                           'value': 0.00119634825668552},\n",
      "             'name': 'Q8',\n",
      "             'readoutError': {'date': '2018-07-13T01:33:03Z',\n",
      "                              'value': 0.046699999999999964}},\n",
      "            {'gateError': {'date': '2018-07-13T01:40:25Z',\n",
      "                           'value': 0.000979670006443778},\n",
      "             'name': 'Q9',\n",
      "             'readoutError': {'date': '2018-07-13T01:33:03Z',\n",
      "                              'value': 0.11549999999999994}},\n",
      "            {'gateError': {'date': '2018-07-13T01:40:25Z',\n",
      "                           'value': 0.0019523103494394345},\n",
      "             'name': 'Q10',\n",
      "             'readoutError': {'date': '2018-07-13T01:33:03Z',\n",
      "                              'value': 0.09199999999999997}},\n",
      "            {'gateError': {'date': '2018-07-13T01:40:25Z',\n",
      "                           'value': 0.001477565717754148},\n",
      "             'name': 'Q11',\n",
      "             'readoutError': {'date': '2018-07-13T01:33:03Z',\n",
      "                              'value': 0.03760000000000008}},\n",
      "            {'gateError': {'date': '2018-07-13T01:40:25Z',\n",
      "                           'value': 0.002158812710633118},\n",
      "             'name': 'Q12',\n",
      "             'readoutError': {'date': '2018-07-13T01:33:03Z',\n",
      "                              'value': 0.11929999999999996}},\n",
      "            {'gateError': {'date': '2018-07-13T01:40:25Z',\n",
      "                           'value': 0.0021946656207744164},\n",
      "             'name': 'Q13',\n",
      "             'readoutError': {'date': '2018-07-13T01:33:03Z',\n",
      "                              'value': 0.03649999999999998}},\n",
      "            {'gateError': {'date': '2018-07-13T01:40:25Z',\n",
      "                           'value': 0.0018876384462000462},\n",
      "             'name': 'Q14',\n",
      "             'readoutError': {'date': '2018-07-13T01:33:03Z',\n",
      "                              'value': 0.06699999999999995}},\n",
      "            {'gateError': {'date': '2018-07-13T01:40:25Z',\n",
      "                           'value': 0.002995181525490054},\n",
      "             'name': 'Q15',\n",
      "             'readoutError': {'date': '2018-07-13T01:33:03Z',\n",
      "                              'value': 0.10389999999999999}}]}\n",
      "{'backend': 'ibmqx4',\n",
      " 'last_update_date': '2018-07-13T01:59:50.000Z',\n",
      " 'multi_qubit_gates': [{'gateError': {'date': '2018-07-13T01:59:50Z',\n",
      "                                      'value': 0.03132949335366378},\n",
      "                        'name': 'CX1_0',\n",
      "                        'qubits': [1, 0],\n",
      "                        'type': 'CX'},\n",
      "                       {'gateError': {'date': '2018-07-13T01:59:50Z',\n",
      "                                      'value': 0.02250298179089663},\n",
      "                        'name': 'CX2_0',\n",
      "                        'qubits': [2, 0],\n",
      "                        'type': 'CX'},\n",
      "                       {'gateError': {'date': '2018-07-13T01:59:50Z',\n",
      "                                      'value': 0.03671985237525249},\n",
      "                        'name': 'CX2_1',\n",
      "                        'qubits': [2, 1],\n",
      "                        'type': 'CX'},\n",
      "                       {'gateError': {'date': '2018-07-13T01:59:50Z',\n",
      "                                      'value': 0.053014865898667385},\n",
      "                        'name': 'CX3_2',\n",
      "                        'qubits': [3, 2],\n",
      "                        'type': 'CX'},\n",
      "                       {'gateError': {'date': '2018-07-13T01:59:50Z',\n",
      "                                      'value': 0.05156335287803901},\n",
      "                        'name': 'CX3_4',\n",
      "                        'qubits': [3, 4],\n",
      "                        'type': 'CX'},\n",
      "                       {'gateError': {'date': '2018-07-13T01:59:50Z',\n",
      "                                      'value': 0.04969933494291204},\n",
      "                        'name': 'CX4_2',\n",
      "                        'qubits': [4, 2],\n",
      "                        'type': 'CX'}],\n",
      " 'qubits': [{'gateError': {'date': '2018-07-13T01:59:50Z',\n",
      "                           'value': 0.0006867731322012238},\n",
      "             'name': 'Q0',\n",
      "             'readoutError': {'date': '2018-07-13T01:59:50Z', 'value': 0.055}},\n",
      "            {'gateError': {'date': '2018-07-13T01:59:50Z',\n",
      "                           'value': 0.0017172252255832077},\n",
      "             'name': 'Q1',\n",
      "             'readoutError': {'date': '2018-07-13T01:59:50Z', 'value': 0.045}},\n",
      "            {'gateError': {'date': '2018-07-13T01:59:50Z',\n",
      "                           'value': 0.0011160854878761173},\n",
      "             'name': 'Q2',\n",
      "             'readoutError': {'date': '2018-07-13T01:59:50Z', 'value': 0.024}},\n",
      "            {'gateError': {'date': '2018-07-13T01:59:50Z',\n",
      "                           'value': 0.001631340796924452},\n",
      "             'name': 'Q3',\n",
      "             'readoutError': {'date': '2018-07-13T01:59:50Z', 'value': 0.017}},\n",
      "            {'gateError': {'date': '2018-07-13T01:59:50Z',\n",
      "                           'value': 0.00197489316929661},\n",
      "             'name': 'Q4',\n",
      "             'readoutError': {'date': '2018-07-13T01:59:50Z', 'value': 0.064}}]}\n"
     ]
    },
    {
     "name": "stdout",
     "output_type": "stream",
     "text": [
      "{'backend': 'ibmqx2',\n",
      " 'last_update_date': '2018-04-13T15:53:48.000Z',\n",
      " 'multi_qubit_gates': [{'gateError': {'date': '2018-04-13T15:53:48Z',\n",
      "                                      'value': 0.02724902259050041},\n",
      "                        'name': 'CX0_1',\n",
      "                        'qubits': [0, 1],\n",
      "                        'type': 'CX'},\n",
      "                       {'gateError': {'date': '2018-04-13T15:53:48Z',\n",
      "                                      'value': 0.041787588869506564},\n",
      "                        'name': 'CX0_2',\n",
      "                        'qubits': [0, 2],\n",
      "                        'type': 'CX'},\n",
      "                       {'gateError': {'date': '2018-04-13T15:53:48Z',\n",
      "                                      'value': 0.03767722967662601},\n",
      "                        'name': 'CX1_2',\n",
      "                        'qubits': [1, 2],\n",
      "                        'type': 'CX'},\n",
      "                       {'gateError': {'date': '2018-04-13T15:53:48Z',\n",
      "                                      'value': 0.039730922592824625},\n",
      "                        'name': 'CX3_2',\n",
      "                        'qubits': [3, 2],\n",
      "                        'type': 'CX'},\n",
      "                       {'gateError': {'date': '2018-04-13T15:53:48Z',\n",
      "                                      'value': 0.03624140460989725},\n",
      "                        'name': 'CX3_4',\n",
      "                        'qubits': [3, 4],\n",
      "                        'type': 'CX'},\n",
      "                       {'gateError': {'date': '2018-04-13T15:53:48Z',\n",
      "                                      'value': 0.03508012699633578},\n",
      "                        'name': 'CX4_2',\n",
      "                        'qubits': [4, 2],\n",
      "                        'type': 'CX'}],\n",
      " 'qubits': [{'gateError': {'date': '2018-04-13T15:53:48Z',\n",
      "                           'value': 0.0013737021608475342},\n",
      "             'name': 'Q0',\n",
      "             'readoutError': {'date': '2018-04-13T15:53:48Z', 'value': 0.024}},\n",
      "            {'gateError': {'date': '2018-04-13T15:53:48Z',\n",
      "                           'value': 0.0013737021608475342},\n",
      "             'name': 'Q1',\n",
      "             'readoutError': {'date': '2018-04-13T15:53:48Z', 'value': 0.026}},\n",
      "            {'gateError': {'date': '2018-04-13T15:53:48Z',\n",
      "                           'value': 0.002232583111384412},\n",
      "             'name': 'Q2',\n",
      "             'readoutError': {'date': '2018-04-13T15:53:48Z', 'value': 0.03}},\n",
      "            {'gateError': {'date': '2018-04-13T15:53:48Z',\n",
      "                           'value': 0.0017172252255832077},\n",
      "             'name': 'Q3',\n",
      "             'readoutError': {'date': '2018-04-13T15:53:48Z', 'value': 0.022}},\n",
      "            {'gateError': {'date': '2018-04-13T15:53:48Z',\n",
      "                           'value': 0.0009443532335046134},\n",
      "             'name': 'Q4',\n",
      "             'readoutError': {'date': '2018-04-13T15:53:48Z', 'value': 0.045}}]}\n",
      "{}\n",
      "{}\n",
      "{}\n",
      "{}\n"
     ]
    }
   ],
   "source": [
    "for backend in backends:\n",
    "    pprint(backend.calibration)"
   ]
  },
  {
   "cell_type": "markdown",
   "metadata": {},
   "source": [
    "### The Job object\n",
    "\n",
    "To get a job first we must get a `qobj` (quantum object code). This is a list of circuits compiled to a backend. To get this we have made a `compile` funtion that converts an array of circuits into a `qobj`. The reason this is an array is for current hardware lists of circuits are loaded onto the equipment at once and it is much more efficent to run this in a batch mode. The methods of the jobs object are:\n",
    "\n",
    "```\n",
    "status - returns the status.\n",
    "```\n",
    "```\n",
    "done - returns a bool true if done.\n",
    "```\n",
    "```\n",
    "id  - gets the job_id (not supported in the local provider yet).\n",
    "```\n",
    "```\n",
    "cancel - cancels the job (not supported on remote-public or local. Only supported on IBM Q premium devices).\n",
    "```\n",
    "```\n",
    "result - gets the results from the circuit run.\n",
    "```"
   ]
  },
  {
   "cell_type": "code",
   "execution_count": 19,
   "metadata": {},
   "outputs": [
    {
     "data": {
      "text/plain": [
       "<qiskit._instructionset.InstructionSet at 0x115b5d470>"
      ]
     },
     "execution_count": 19,
     "metadata": {},
     "output_type": "execute_result"
    }
   ],
   "source": [
    "qr = QuantumRegister(3)\n",
    "cr = ClassicalRegister(3)\n",
    "circuit = QuantumCircuit(qr, cr)\n",
    "circuit.x(qr[0])\n",
    "circuit.x(qr[1])\n",
    "circuit.ccx(qr[0], qr[1], qr[2])\n",
    "circuit.cx(qr[0], qr[1])\n",
    "circuit.measure(qr, cr)"
   ]
  },
  {
   "cell_type": "code",
   "execution_count": 20,
   "metadata": {
    "collapsed": true
   },
   "outputs": [],
   "source": [
    "my_backend = get_backend('local_qasm_simulator')"
   ]
  },
  {
   "cell_type": "code",
   "execution_count": 21,
   "metadata": {
    "collapsed": true
   },
   "outputs": [],
   "source": [
    "qobj = compile(circuit, backend=my_backend, shots=1024)\n",
    "job = my_backend.run(qobj)"
   ]
  },
  {
   "cell_type": "code",
   "execution_count": 22,
   "metadata": {},
   "outputs": [
    {
     "data": {
      "text/plain": [
       "{'status': <JobStatus.DONE: 'job has successfully run'>, 'status_msg': None}"
      ]
     },
     "execution_count": 22,
     "metadata": {},
     "output_type": "execute_result"
    }
   ],
   "source": [
    "job.status"
   ]
  },
  {
   "cell_type": "code",
   "execution_count": 23,
   "metadata": {},
   "outputs": [
    {
     "data": {
      "text/plain": [
       "True"
      ]
     },
     "execution_count": 23,
     "metadata": {},
     "output_type": "execute_result"
    }
   ],
   "source": [
    "job.done"
   ]
  },
  {
   "cell_type": "code",
   "execution_count": 24,
   "metadata": {},
   "outputs": [
    {
     "name": "stdout",
     "output_type": "stream",
     "text": [
      "{'101': 1024}\n"
     ]
    }
   ],
   "source": [
    "result = job.result()\n",
    "counts = result.get_counts()\n",
    "print(counts)"
   ]
  },
  {
   "cell_type": "code",
   "execution_count": 25,
   "metadata": {
    "collapsed": true
   },
   "outputs": [],
   "source": [
    "device_name = least_busy(available_backends({'simulator': False}))\n",
    "my_backend = get_backend(device_name)"
   ]
  },
  {
   "cell_type": "code",
   "execution_count": 26,
   "metadata": {
    "collapsed": true
   },
   "outputs": [],
   "source": [
    "qobj = compile(circuit, backend=my_backend, shots=1024)\n",
    "job = my_backend.run(qobj)"
   ]
  },
  {
   "cell_type": "code",
   "execution_count": 27,
   "metadata": {},
   "outputs": [
    {
     "name": "stdout",
     "output_type": "stream",
     "text": [
      "Status @ 0 seconds\n",
      "{'job_id': None, 'status': <JobStatus.INITIALIZING: 'job is being initialized'>, 'status_msg': 'Job is initializing. Please, wait a moment.'}\n",
      "Status @ 10 seconds\n",
      "{'job_id': '5b482bab396c1c00393cb15f', 'status': <JobStatus.QUEUED: 'job is queued'>, 'status_msg': 'job is queued', 'queue_position': 48}\n",
      "Status @ 20 seconds\n",
      "{'job_id': '5b482bab396c1c00393cb15f', 'status': <JobStatus.RUNNING: 'job is actively running'>, 'status_msg': 'job is actively running'}\n",
      "Status @ 30 seconds\n",
      "{'job_id': '5b482bab396c1c00393cb15f', 'status': <JobStatus.RUNNING: 'job is actively running'>, 'status_msg': 'job is actively running'}\n",
      "Status @ 40 seconds\n",
      "{'job_id': '5b482bab396c1c00393cb15f', 'status': <JobStatus.RUNNING: 'job is actively running'>, 'status_msg': 'job is actively running'}\n",
      "{'job_id': '5b482bab396c1c00393cb15f', 'status': <JobStatus.DONE: 'job has successfully run'>, 'status_msg': 'job has successfully run'}\n"
     ]
    }
   ],
   "source": [
    "lapse = 0\n",
    "interval = 10\n",
    "while not job.done:\n",
    "    print('Status @ {} seconds'.format(interval * lapse))\n",
    "    print(job.status)\n",
    "    time.sleep(interval)\n",
    "    lapse += 1\n",
    "print(job.status)"
   ]
  },
  {
   "cell_type": "code",
   "execution_count": 28,
   "metadata": {},
   "outputs": [
    {
     "data": {
      "text/plain": [
       "'5b482bab396c1c00393cb15f'"
      ]
     },
     "execution_count": 28,
     "metadata": {},
     "output_type": "execute_result"
    }
   ],
   "source": [
    "job.id"
   ]
  },
  {
   "cell_type": "code",
   "execution_count": 29,
   "metadata": {},
   "outputs": [
    {
     "name": "stdout",
     "output_type": "stream",
     "text": [
      "{'000': 30, '001': 120, '010': 25, '011': 44, '100': 71, '101': 675, '110': 24, '111': 35}\n"
     ]
    }
   ],
   "source": [
    "result = job.result()\n",
    "counts = result.get_counts()\n",
    "print(counts)"
   ]
  },
  {
   "cell_type": "code",
   "execution_count": 30,
   "metadata": {},
   "outputs": [
    {
     "data": {
      "image/png": "[encoded data removed]",
      "text/plain": [
       "<Figure size 432x288 with 1 Axes>"
      ]
     },
     "metadata": {},
     "output_type": "display_data"
    }
   ],
   "source": [
    "plot_histogram(counts)"
   ]
  }
 ],
 "metadata": {
  "anaconda-cloud": {},
  "kernelspec": {
   "display_name": "Python 3",
   "language": "python",
   "name": "python3"
  },
  "language_info": {
   "codemirror_mode": {
    "name": "ipython",
    "version": 3
   },
   "file_extension": ".py",
   "mimetype": "text/x-python",
   "name": "python",
   "nbconvert_exporter": "python",
   "pygments_lexer": "ipython3",
   "version": "3.6.3"
  }
 },
 "nbformat": 4,
 "nbformat_minor": 1
}
