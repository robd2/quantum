{
 "cells": [
  {
   "cell_type": "markdown",
   "metadata": {},
   "source": [
    "<img src=\"../../images/qiskit-heading.gif\" alt=\"Note: In order for images to show up in this jupyter notebook you need to select File => Trusted Notebook\" width=\"500 px\" align=\"left\">"
   ]
  },
  {
   "cell_type": "markdown",
   "metadata": {},
   "source": [
    "## _*Quantum Battleships with partial NOT gates*_\n",
    "\n",
    "The latest version of this notebook is available on https://github.com/QISKit/qiskit-tutorial.\n",
    "\n",
    "***\n",
    "### Contributors\n",
    "James R. Wootton, University of Basel\n",
    "***"
   ]
  },
  {
   "cell_type": "markdown",
   "metadata": {},
   "source": [
    "This program aims to act as an introduction to qubits, and to show how single-qubit operations can be used. Specifically, we'll use them to implement a game.\n",
    "\n",
    "The game is based on the Japanese version of 'Battleships'. In this, each ship takes up only a single location. \n",
    "\n",
    "Each player will place three ships in the following five possible locations, which correspond to the five qubits of the ibmqx4 device.\n",
    "\n",
    "<pre>\n",
    "                                                4       0\n",
    "                                                |\\     /|\n",
    "                                                | \\   / |\n",
    "                                                |  \\ /  |\n",
    "                                                |   2   |\n",
    "                                                |  / \\  |\n",
    "                                                | /   \\ |\n",
    "                                                |/     \\|\n",
    "                                                3       1\n",
    "</pre>     \n",
    "\n",
    "The players then fire bombs at each other's grids until one player loses all their ships.\n",
    "\n",
    "The first ship placed by each player takes 1 bomb to destroy. The second ship takes 2, and the third takes 3.\n",
    "\n",
    "The game mechanic is realized on a quantum computer by using a qubit for each ship, and using partial NOT gates (rotations around the Y axis) as the bombs. A full NOT is applied when the right number of bombs have hit a given ship, rotating the qubit/ship from 0 (undamaged) to 1 (destroyed).\n",
    "\n",
    "Some details on implementation can be found in the Markdown cells. A full tutorial for how to program the game can be found at\n",
    "\n",
    "https://medium.com/@decodoku/how-to-program-a-quantum-computer-982a9329ed02\n",
    "\n",
    "If you are using the real device, here is a simple description of the game you can read while waiting for the jobs to finish.\n",
    "\n",
    "https://medium.com/@decodoku/quantum-computation-in-84-short-lines-d9c7c74be0d0\n",
    "\n",
    "If you just want to play, then select 'Restart & Run All' from the Kernel menu.\n",
    "<br>\n",
    "<br>"
   ]
  },
  {
   "cell_type": "markdown",
   "metadata": {},
   "source": [
    "First we import what we'll need to run set up and run the quantum program."
   ]
  },
  {
   "cell_type": "code",
   "execution_count": 1,
   "metadata": {
    "collapsed": true
   },
   "outputs": [],
   "source": [
    "from qiskit import ClassicalRegister, QuantumRegister\n",
    "from qiskit import QuantumCircuit, execute"
   ]
  },
  {
   "cell_type": "markdown",
   "metadata": {},
   "source": [
    "Next we need to import *Qconfig*, which is found in the parent directory of this tutorial. Note that this will need to be set up with your API key if you haven't done so already.\n",
    "\n",
    "After importing this information, it is used to register with the API. Then we are good to go!"
   ]
  },
  {
   "cell_type": "code",
   "execution_count": 2,
   "metadata": {
    "collapsed": true
   },
   "outputs": [],
   "source": [
    "from qiskit import register\n",
    "\n",
    "#import Qconfig and set APIToken and API url\n",
    "import sys, getpass\n",
    "try:\n",
    "    sys.path.append(\"../../\") # go to parent dir\n",
    "    import Qconfig\n",
    "    qx_config = {\n",
    "        \"APItoken\": Qconfig.APItoken,\n",
    "        \"url\": Qconfig.config['url']}\n",
    "    print('Qconfig loaded from %s.' % Qconfig.__file__)\n",
    "except:\n",
    "    APItoken = getpass.getpass('Please input your token and hit enter: ')\n",
    "    qx_config = {\n",
    "        \"APItoken\": APItoken,\n",
    "        \"url\":\"https://quantumexperience.ng.bluemix.net/api\"}\n",
    "    print('Qconfig.py not found in qiskit-tutorial directory; Qconfig loaded using user input.')\n",
    "    \n",
    "register(qx_config['APItoken'], qx_config['url'])"
   ]
  },
  {
   "cell_type": "markdown",
   "metadata": {},
   "source": [
    "Any quantum computation will really be a mixture of parts that run on a quantum device, and parts that run on a conventional computer. In this game, the latter consists of jobs such as getting inputs from players, and displaying the grid. The scripts for these are kept in a separate file, which we will import now."
   ]
  },
  {
   "cell_type": "code",
   "execution_count": 3,
   "metadata": {
    "collapsed": true
   },
   "outputs": [],
   "source": [
    "from battleships_engine import *"
   ]
  },
  {
   "cell_type": "markdown",
   "metadata": {},
   "source": [
    "Now it's time for a title screen."
   ]
  },
  {
   "cell_type": "code",
   "execution_count": 4,
   "metadata": {},
   "outputs": [
    {
     "name": "stdout",
     "output_type": "stream",
     "text": [
      "\n",
      "\n",
      "\n",
      "\n",
      "\n",
      "\n",
      "\n",
      "\n",
      "\n",
      "            ██████╗ ██╗   ██╗ █████╗ ███╗   ██╗████████╗██╗   ██╗███╗   ███╗            \n",
      "           ██╔═══██╗██║   ██║██╔══██╗████╗  ██║╚══██╔══╝██║   ██║████╗ ████║            \n",
      "           ██║   ██║██║   ██║███████║██╔██╗ ██║   ██║   ██║   ██║██╔████╔██║            \n",
      "           ██║▄▄ ██║██║   ██║██╔══██║██║╚██╗██║   ██║   ██║   ██║██║╚██╔╝██║            \n",
      "           ╚██████╔╝╚██████╔╝██║  ██║██║ ╚████║   ██║   ╚██████╔╝██║ ╚═╝ ██║            \n",
      "            ╚══▀▀═╝  ╚═════╝ ╚═╝  ╚═╝╚═╝  ╚═══╝   ╚═╝    ╚═════╝ ╚═╝     ╚═╝            \n",
      "\n",
      "   ██████╗  █████╗ ████████╗████████╗██╗     ███████╗███████╗██╗  ██╗██╗██████╗ ███████╗\n",
      "   ██╔══██╗██╔══██╗╚══██╔══╝╚══██╔══╝██║     ██╔════╝██╔════╝██║  ██║██║██╔══██╗██╔════╝\n",
      "   ██████╔╝███████║   ██║      ██║   ██║     █████╗  ███████╗███████║██║██████╔╝███████╗\n",
      "   ██╔══██╗██╔══██║   ██║      ██║   ██║     ██╔══╝  ╚════██║██╔══██║██║██╔═══╝ ╚════██║\n",
      "   ██████╔╝██║  ██║   ██║      ██║   ███████╗███████╗███████║██║  ██║██║██║     ███████║\n",
      "   ╚═════╝ ╚═╝  ╚═╝   ╚═╝      ╚═╝   ╚══════╝╚══════╝╚══════╝╚═╝  ╚═╝╚═╝╚═╝     ╚══════╝\n",
      "\n",
      "                 ___         ___                    _       _         \n",
      "                | _ ) _  _  |   \\  ___  __  ___  __| | ___ | |__ _  _ \n",
      "                | _ \\| || | | |) |/ -_)/ _|/ _ \\/ _` |/ _ \\| / /| || |\n",
      "                |___/ \\_, | |___/ \\___|\\__|\\___/\\__,_|\\___/|_\\_\\ \\_,_|\n",
      "                      |__/                                            \n",
      "\n",
      "                       A game played on a real quantum computer!\n",
      "\n",
      "\n",
      "> Press Enter to play...\n",
      "\n"
     ]
    }
   ],
   "source": [
    "title_screen()"
   ]
  },
  {
   "cell_type": "markdown",
   "metadata": {},
   "source": [
    "The player is now asked to choose whether to run on the real device (input *y* to do so).\n",
    "\n",
    "The real device is awesome, of course, but you'll need to queue behind other people sampling its awesomeness. So for a faster experience, input *n* to simulate everything on your own (non-quantum) device."
   ]
  },
  {
   "cell_type": "code",
   "execution_count": 5,
   "metadata": {},
   "outputs": [
    {
     "name": "stdout",
     "output_type": "stream",
     "text": [
      "Do you want to play on the real device? (y/n)\n",
      "n\n"
     ]
    }
   ],
   "source": [
    "device = ask_for_device()\n",
    "\n",
    "from qiskit import get_backend\n",
    "backend = get_backend(device)"
   ]
  },
  {
   "cell_type": "markdown",
   "metadata": {},
   "source": [
    "The first step in the game is to get the players to set up their boards. Player 1 will be asked to give positions for three ships. Their inputs will be kept secret. Then the same for player 2."
   ]
  },
  {
   "cell_type": "code",
   "execution_count": null,
   "metadata": {},
   "outputs": [
    {
     "name": "stdout",
     "output_type": "stream",
     "text": [
      "> Press Enter to start placing ships...\n",
      "\n",
      "Player 1, choose a position for ship 1 (0, 1, 2, 3 or 4)\n",
      "········\n",
      "\n",
      "\n",
      "Player 1, choose a position for ship 2 (0, 1, 2, 3 or 4)\n",
      "········\n",
      "\n",
      "You already have a ship there. Try again.\n",
      "\n",
      "Player 1, choose a position for ship 2 (0, 1, 2, 3 or 4)\n",
      "········\n",
      "\n",
      "\n",
      "Player 1, choose a position for ship 3 (0, 1, 2, 3 or 4)\n",
      "········\n",
      "\n",
      "\n",
      "Player 2, choose a position for ship 1 (0, 1, 2, 3 or 4)\n",
      "········\n",
      "\n",
      "\n",
      "Player 2, choose a position for ship 2 (0, 1, 2, 3 or 4)\n",
      "········\n",
      "\n",
      "\n",
      "Player 2, choose a position for ship 3 (0, 1, 2, 3 or 4)\n",
      "········\n",
      "\n",
      "\n"
     ]
    }
   ],
   "source": [
    "shipPos = ask_for_ships()"
   ]
  },
  {
   "cell_type": "markdown",
   "metadata": {},
   "source": [
    "The heart of every game is the main loop. For this game, each interation starts by asking players where on the opposing grid they want to bomb. The quantum computer then calculates the effects of the bombing, and the results are presented to the players. The game continues until all the ships of one player are destroyed."
   ]
  },
  {
   "cell_type": "code",
   "execution_count": null,
   "metadata": {
    "scrolled": false
   },
   "outputs": [
    {
     "name": "stdout",
     "output_type": "stream",
     "text": [
      "> Press Enter to place some bombs...\n",
      "\n",
      "\n",
      "\n",
      "It's now Player 1's turn.\n",
      "\n",
      "Choose a position to bomb (0, 1, 2, 3 or 4)\n",
      "2\n",
      "\n",
      "\n",
      "\n",
      "\n",
      "It's now Player 2's turn.\n",
      "\n",
      "Choose a position to bomb (0, 1, 2, 3 or 4)\n",
      "1\n",
      "\n",
      "\n",
      "\n",
      "We've now get submitted the job to the simulator to see what happens to the ships of each player.\n",
      "\n",
      "\n",
      "Press Enter to see the results for Player 1's ships...\n",
      "\n",
      "Here is the percentage damage for ships that have been bombed.\n",
      "\n",
      " ?       ?  \n",
      " |\\     /|\n",
      " | \\   / |\n",
      " |  \\ /  |\n",
      " |   ?   |\n",
      " |  / \\  |\n",
      " | /   \\ |\n",
      " |/     \\|\n",
      " ?      47% \n",
      "\n",
      "\n",
      "Ships with 95% damage or more have been destroyed\n",
      "\n",
      "\n",
      "\n"
     ]
    }
   ],
   "source": [
    "# the game variable will be set to False once the game is over\n",
    "game = True\n",
    "\n",
    "# the variable bombs[X][Y] will hold the number of times position Y has been bombed by player X+1\n",
    "bomb = [ [0]*5 for _ in range(2)] # all values are initialized to zero\n",
    "\n",
    "# set the number of samples used for statistics\n",
    "shots = 1024\n",
    "\n",
    "# the variable grid[player] will hold the results for the grid of each player\n",
    "grid = [{},{}]\n",
    "\n",
    "while (game):\n",
    "    \n",
    "    # ask both players where they want to bomb, and update the list of bombings so far\n",
    "    bomb = ask_for_bombs( bomb )\n",
    "    \n",
    "    # now we create and run the quantum programs that implement this on the grid for each player\n",
    "    qc = []\n",
    "    for player in range(2):\n",
    "        \n",
    "        # now to set up the quantum program to simulate the grid for this player\n",
    "        \n",
    "        # set up registers and program\n",
    "        q = QuantumRegister(5)\n",
    "        c = ClassicalRegister(5)\n",
    "        qc.append( QuantumCircuit(q, c) )\n",
    "        \n",
    "        # add the bombs (of the opposing player)\n",
    "        for position in range(5):\n",
    "            # add as many bombs as have been placed at this position\n",
    "            for n in range( bomb[(player+1)%2][position] ):\n",
    "                # the effectiveness of the bomb\n",
    "                # (which means the quantum operation we apply)\n",
    "                # depends on which ship it is\n",
    "                for ship in [0,1,2]:\n",
    "                    if ( position == shipPos[player][ship] ):\n",
    "                        frac = 1/(ship+1)\n",
    "                        # add this fraction of a NOT to the QASM\n",
    "                        qc[player].u3(frac * math.pi, 0.0, 0.0, q[position])\n",
    "                                        \n",
    "        # Finally, measure them\n",
    "        for position in range(5):\n",
    "            qc[player].measure(q[position], c[position])\n",
    "\n",
    "    # compile and run the quantum program\n",
    "    job = execute(qc, backend, shots=shots)\n",
    "    if device=='ibmqx4':\n",
    "        print(\"\\nWe've now get submitted the job to the quantum computer to see what happens to the ships of each player\\n(it might take a while).\\n\")\n",
    "    else:\n",
    "        print(\"\\nWe've now get submitted the job to the simulator to see what happens to the ships of each player.\\n\")\n",
    "    # and extract data\n",
    "    for player in range(2):\n",
    "        grid[player] = job.result().get_counts(qc[player])\n",
    "    \n",
    "    game = display_grid ( grid, shipPos, shots )\n",
    "        "
   ]
  },
  {
   "cell_type": "markdown",
   "metadata": {
    "collapsed": true
   },
   "source": [
    "<br>\n",
    "<br>\n",
    "If you are reading this while running the game, you might be wondering where all the action has gone. Try clicking on the white space to the left of the output in the cell above to open it up."
   ]
  }
 ],
 "metadata": {
  "kernelspec": {
   "display_name": "Python (QISKitenv)",
   "language": "python",
   "name": "qiskitenv"
  },
  "language_info": {
   "codemirror_mode": {
    "name": "ipython",
    "version": 3
   },
   "file_extension": ".py",
   "mimetype": "text/x-python",
   "name": "python",
   "nbconvert_exporter": "python",
   "pygments_lexer": "ipython3",
   "version": "3.6.5"
  }
 },
 "nbformat": 4,
 "nbformat_minor": 2
}
